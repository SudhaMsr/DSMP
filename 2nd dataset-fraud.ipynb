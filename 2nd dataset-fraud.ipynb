{
 "cells": [
  {
   "cell_type": "code",
   "execution_count": null,
   "id": "c4c26c58",
   "metadata": {},
   "outputs": [],
   "source": []
  },
  {
   "cell_type": "markdown",
   "id": "3e1e1851",
   "metadata": {},
   "source": [
    "# DATA EXPLORATION\n",
    "\n",
    "# FRAUD DETECTION"
   ]
  },
  {
   "cell_type": "code",
   "execution_count": null,
   "id": "50120536",
   "metadata": {},
   "outputs": [],
   "source": []
  },
  {
   "cell_type": "code",
   "execution_count": null,
   "id": "adcf2f90",
   "metadata": {},
   "outputs": [],
   "source": [
    "import warnings\n",
    "warnings.filterwarnings('ignore')\n",
    "import pandas as pd\n",
    "import numpy as np\n",
    "import matplotlib.pyplot as plt\n",
    "import seaborn as sns\n",
    "%matplotlib inline\n",
    "\n",
    "# Load the dataset\n",
    "data = pd.read_csv('simulated_transaction_2024.csv')\n",
    "data.head()"
   ]
  },
  {
   "cell_type": "code",
   "execution_count": null,
   "id": "0f0b66f2",
   "metadata": {},
   "outputs": [],
   "source": [
    "data.info()"
   ]
  },
  {
   "cell_type": "code",
   "execution_count": null,
   "id": "890b892d",
   "metadata": {},
   "outputs": [],
   "source": [
    "data.shape "
   ]
  },
  {
   "cell_type": "code",
   "execution_count": null,
   "id": "2813040d",
   "metadata": {},
   "outputs": [],
   "source": [
    "data.columns"
   ]
  },
  {
   "cell_type": "code",
   "execution_count": null,
   "id": "55d03c33",
   "metadata": {},
   "outputs": [],
   "source": [
    "data.dtypes"
   ]
  },
  {
   "cell_type": "code",
   "execution_count": null,
   "id": "04194698",
   "metadata": {},
   "outputs": [],
   "source": [
    "data.describe()"
   ]
  },
  {
   "cell_type": "code",
   "execution_count": null,
   "id": "e918da86",
   "metadata": {},
   "outputs": [],
   "source": [
    "# Visualize missing values as a heatmap\n",
    "plt.figure(figsize=(10,6))\n",
    "sns.heatmap(data.isnull(), cbar=False)\n",
    "plt.title('Heatmap of Missing Values in Data')\n",
    "plt.show()"
   ]
  },
  {
   "cell_type": "markdown",
   "id": "399adedf",
   "metadata": {},
   "source": [
    "### This map is not giving clear missing values, as we have a large dataset, lets proceed normally"
   ]
  },
  {
   "cell_type": "code",
   "execution_count": null,
   "id": "782f3693",
   "metadata": {},
   "outputs": [],
   "source": [
    "data.isnull().sum()"
   ]
  },
  {
   "cell_type": "code",
   "execution_count": null,
   "id": "a1c5c147",
   "metadata": {},
   "outputs": [],
   "source": [
    "# Calculate the percentage of null values for each column\n",
    "data.isnull().mean() * 100"
   ]
  },
  {
   "cell_type": "code",
   "execution_count": null,
   "id": "78324e75",
   "metadata": {},
   "outputs": [],
   "source": []
  },
  {
   "cell_type": "markdown",
   "id": "585e1ba0",
   "metadata": {},
   "source": [
    "### i want to to check the number of transactions of other users, to get more details"
   ]
  },
  {
   "cell_type": "code",
   "execution_count": null,
   "id": "652281bf",
   "metadata": {},
   "outputs": [],
   "source": [
    "# 'Account No' and number of transactions for each account\n",
    "transactions_per_user = data.groupby('Account No').size()\n",
    "\n",
    "transactions_count = transactions_per_user.reset_index(name='Number of Transactions')\n",
    "transactions_count.head()"
   ]
  },
  {
   "cell_type": "code",
   "execution_count": null,
   "id": "19b23361",
   "metadata": {},
   "outputs": [],
   "source": [
    "# finding average number of transactions of all users\n",
    "#avg_transaction_per_user = \n",
    "transactions_per_user.mean()\n",
    "#avg_transaction_per_user"
   ]
  },
  {
   "cell_type": "markdown",
   "id": "b08a399f",
   "metadata": {},
   "source": [
    "### we have 224 missing values in account number, i think we can create a random account number"
   ]
  },
  {
   "cell_type": "code",
   "execution_count": null,
   "id": "0815ef79",
   "metadata": {},
   "outputs": [],
   "source": [
    "# Generating unique account number to remove null values\n",
    "existing_acc_numbers = pd.to_numeric(data['Account No'], errors='coerce').dropna().unique()\n",
    "new_acc_number = int(max(existing_acc_numbers) + 1)\n",
    "\n",
    "# Replace null values in the \"Account No\" column with the new account number\n",
    "data['Account No'].fillna(new_acc_number, inplace=True)\n",
    "\n",
    "# Verifyong that there are no null values in the \"Account No\" column\n",
    "verification_result = data['Account No'].isnull().sum()\n",
    "\n",
    "new_acc_number, verification_result"
   ]
  },
  {
   "cell_type": "code",
   "execution_count": null,
   "id": "fb772125",
   "metadata": {},
   "outputs": [],
   "source": [
    "print(data[(data['Account No'] == 999752673)  ])"
   ]
  },
  {
   "cell_type": "markdown",
   "id": "6451cc4b",
   "metadata": {},
   "source": [
    "## what is done till now:\n",
    "- data exploration, using functions like shape(),info(),isnull().sum(),describe(), dtypes().\n",
    "- imputing null values in account number: by the taking the the average transaction count (taking mean),which is 236, and our missing values count is 224. So, I decided to generate a new account number instead of removing them.\n"
   ]
  },
  {
   "cell_type": "code",
   "execution_count": null,
   "id": "76fbf8ae",
   "metadata": {},
   "outputs": [],
   "source": []
  },
  {
   "cell_type": "code",
   "execution_count": null,
   "id": "c2f01b57",
   "metadata": {},
   "outputs": [],
   "source": [
    "## float to integer\n",
    "data['Account No'] = data['Account No'].astype(int)"
   ]
  },
  {
   "cell_type": "code",
   "execution_count": null,
   "id": "f534c5a8",
   "metadata": {},
   "outputs": [],
   "source": [
    "# Convert 'Third Party Account No' to nullable integer type\n",
    "data['Third Party Account No'] = data['Third Party Account No'].astype('Int64')"
   ]
  },
  {
   "cell_type": "code",
   "execution_count": null,
   "id": "84ca7a64",
   "metadata": {},
   "outputs": [],
   "source": [
    "# Create a new 'Third Party' column\n",
    "data['Third Party'] = data['Third Party Name'].combine_first(data['Third Party Account No'])"
   ]
  },
  {
   "cell_type": "code",
   "execution_count": null,
   "id": "0c32ae7e",
   "metadata": {},
   "outputs": [],
   "source": [
    "# Drop the original 'Third Party Account No' and 'Third Party Name' columns\n",
    "data.drop(columns=['Third Party Account No', 'Third Party Name'], inplace=True)"
   ]
  },
  {
   "cell_type": "code",
   "execution_count": null,
   "id": "33832fd7",
   "metadata": {
    "scrolled": true
   },
   "outputs": [],
   "source": [
    "data.isnull().sum()"
   ]
  },
  {
   "cell_type": "code",
   "execution_count": null,
   "id": "9d9b8442",
   "metadata": {},
   "outputs": [],
   "source": [
    "data['Account No'].nunique() ## total no.of users"
   ]
  },
  {
   "cell_type": "code",
   "execution_count": null,
   "id": "44aa5b21",
   "metadata": {},
   "outputs": [],
   "source": [
    "## find unique and similarities"
   ]
  },
  {
   "cell_type": "code",
   "execution_count": null,
   "id": "ac6dc14b",
   "metadata": {},
   "outputs": [],
   "source": [
    "data.nunique()"
   ]
  },
  {
   "cell_type": "markdown",
   "id": "3355da7f",
   "metadata": {},
   "source": [
    "## filling missing values in date and timestamp :\n",
    "##### 1. Date and Timestamp\n",
    "- Method Used: Forward Fill\n",
    "- Why?\n",
    "- Both the Date and Timestamp fields are critical for maintaining the sequence and continuity in time   series data.\n",
    "- Forward fill is appropriate here because it assumes that the missing date or timestamp can reasonably be replaced by the last known value, which is a common practice in time-sensitive data to maintain alignment in time series analysis.\n",
    "- This method helps avoid introducing artificial discontinuities in the time sequence, which could occur if we interpolated times or used backward fill."
   ]
  },
  {
   "cell_type": "code",
   "execution_count": null,
   "id": "08beb693",
   "metadata": {},
   "outputs": [],
   "source": [
    "# Fill missing Date and Timestamp\n",
    "data['Date'] = data['Date'].fillna(method='ffill')\n",
    "data['Timestamp'] = data['Timestamp'].fillna(method='ffill')"
   ]
  },
  {
   "cell_type": "code",
   "execution_count": null,
   "id": "858aed4a",
   "metadata": {},
   "outputs": [],
   "source": [
    "# Convert the 'not_happened_yet_date' column to datetime\n",
    "data['Date'] = pd.to_datetime(data['Date'], format='%d/%m/%Y')"
   ]
  },
  {
   "cell_type": "code",
   "execution_count": null,
   "id": "81fc528e",
   "metadata": {},
   "outputs": [],
   "source": []
  },
  {
   "cell_type": "markdown",
   "id": "3ba73efc",
   "metadata": {},
   "source": [
    "### i want to impute the missing values in amount and balance column  as well, but I have observed some abnormalities in account transactions"
   ]
  },
  {
   "cell_type": "code",
   "execution_count": null,
   "id": "6ece7d4f",
   "metadata": {
    "scrolled": false
   },
   "outputs": [],
   "source": [
    "data.hist( figsize = (12,8) )\n",
    "plt.show() ## to see the distributions of data"
   ]
  },
  {
   "cell_type": "code",
   "execution_count": null,
   "id": "a5d8dff0",
   "metadata": {},
   "outputs": [],
   "source": []
  },
  {
   "cell_type": "code",
   "execution_count": null,
   "id": "bf12d9f2",
   "metadata": {
    "scrolled": true
   },
   "outputs": [],
   "source": [
    "import matplotlib.pyplot as plt\n",
    "import pandas as pd\n",
    "\n",
    "# Plot the transaction frequency by hour\n",
    "plt.figure(figsize=(8, 3))\n",
    "plt.hist(pd.to_datetime(data['Timestamp']).dt.hour, bins=24, edgecolor='black')\n",
    "plt.title('Transaction Frequency by Hour')\n",
    "plt.xlabel('Hour of the Day')\n",
    "plt.ylabel('Number of Transactions')\n",
    "plt.xticks(range(24))  # Ensures ticks for every hour\n",
    "plt.tight_layout()  # Adjust layout to fit the figure size\n",
    "plt.show()\n",
    "\n",
    "# Plot the total credited amount to third parties by hour\n",
    "plt.figure(figsize=(12, 6))\n",
    "data.loc[data['Amount'] < 0].groupby(pd.to_datetime(data['Timestamp']).dt.hour)['Amount'].apply(lambda x: abs(x).sum()).plot(\n",
    "    kind='bar', color='darkgreen', edgecolor='black')\n",
    "plt.title('Total Credited Amount to Third Parties by Hour')\n",
    "plt.xlabel('Hour of the Day')\n",
    "plt.ylabel('Total Credited Amount ($)')\n",
    "plt.xticks(range(24))  # Ensures ticks for every hour\n",
    "plt.grid(axis='y', linestyle='--', linewidth=0.7)\n",
    "plt.tight_layout()  # Adjust layout to fit the figure size\n",
    "plt.show()\n"
   ]
  },
  {
   "cell_type": "code",
   "execution_count": null,
   "id": "f2121127",
   "metadata": {},
   "outputs": [],
   "source": []
  },
  {
   "cell_type": "code",
   "execution_count": null,
   "id": "b2aa22a5",
   "metadata": {},
   "outputs": [],
   "source": [
    "import matplotlib.pyplot as plt\n",
    "import pandas as pd\n",
    "\n",
    "# Plot the transaction frequency by half-hour intervals\n",
    "plt.figure(figsize=(10, 4))\n",
    "plt.hist(pd.to_datetime(data['Timestamp']).dt.round('30min').dt.strftime('%H:%M'), bins=48, edgecolor='black')\n",
    "plt.title('Transaction Frequency by Half-Hour Interval')\n",
    "plt.xlabel('Half-Hour Interval')\n",
    "plt.ylabel('Number of Transactions')\n",
    "plt.xticks(rotation=90)  # Rotate x-axis labels for better readability\n",
    "plt.tight_layout()  # Adjust layout to fit the figure size\n",
    "plt.show()\n",
    "\n",
    "# Plot the total credited amount to third parties by half-hour intervals\n",
    "plt.figure(figsize=(12, 6))\n",
    "data.loc[data['Amount'] < 0].groupby(pd.to_datetime(data['Timestamp']).dt.round('30min').dt.strftime('%H:%M'))['Amount'].apply(lambda x: abs(x).sum()).plot(\n",
    "    kind='bar', color='darkgreen', edgecolor='black')\n",
    "plt.title('Total Credited Amount to Third Parties by Half-Hour Interval')\n",
    "plt.xlabel('Half-Hour Interval')\n",
    "plt.ylabel('Total Credited Amount ($)')\n",
    "plt.xticks(rotation=90)  # Rotate x-axis labels for better readability\n",
    "plt.grid(axis='y', linestyle='--', linewidth=0.7)\n",
    "plt.tight_layout()  # Adjust layout to fit the figure size\n",
    "plt.show()\n"
   ]
  },
  {
   "cell_type": "markdown",
   "id": "16eaa63c",
   "metadata": {},
   "source": [
    "## First plot:\n",
    "- transaction frequency by hour (activity at certain times of the day). \n",
    "- It appears that there's a peak in transactions towards the end of the day, around 23:00. \n",
    "## second plot:\n",
    "- plot shows the total credited amount to third parties by hour.\n",
    "- presents the absolute values of the negative amounts to reflect the spending positively."
   ]
  },
  {
   "cell_type": "code",
   "execution_count": null,
   "id": "a81be252",
   "metadata": {},
   "outputs": [],
   "source": [
    "import matplotlib.pyplot as plt\n",
    "\n",
    "# Filter data for transactions where amount is negative (indicating spending)\n",
    "spending_data = data[data['Amount'] < 0]\n",
    "\n",
    "# Group by 'Account No' and calculate total spending for each user\n",
    "total_spending_per_user = spending_data.groupby('Account No')['Amount'].sum()\n",
    "\n",
    "# Get the top 5 users with the highest total spending\n",
    "top_5_users = total_spending_per_user.nlargest(5)\n",
    "\n",
    "# Print the top 5 users and their total spending\n",
    "print(\"Top 5 Users with Highest Total Spending:\")\n",
    "print(top_5_users)\n",
    "\n",
    "# Plot spending patterns for the top 5 users\n",
    "plt.figure(figsize=(12, 8))\n",
    "for user_id in top_5_users.index:\n",
    "    user_transactions = spending_data[spending_data['Account No'] == user_id]\n",
    "    plt.scatter(user_transactions['Timestamp'], user_transactions['Amount'], label=f'User {user_id}')\n",
    "\n",
    "plt.title('Spending Patterns of Top 5 Users')\n",
    "plt.xlabel('Timestamp')\n",
    "plt.ylabel('Amount')\n",
    "plt.xticks(rotation=45)\n",
    "plt.legend()\n",
    "plt.show()\n"
   ]
  },
  {
   "cell_type": "code",
   "execution_count": null,
   "id": "0a0e904c",
   "metadata": {},
   "outputs": [],
   "source": []
  },
  {
   "cell_type": "code",
   "execution_count": null,
   "id": "40cfe474",
   "metadata": {},
   "outputs": [],
   "source": [
    "data"
   ]
  },
  {
   "cell_type": "code",
   "execution_count": null,
   "id": "cfbc7476",
   "metadata": {},
   "outputs": [],
   "source": []
  },
  {
   "cell_type": "code",
   "execution_count": null,
   "id": "24792dd8",
   "metadata": {},
   "outputs": [],
   "source": []
  },
  {
   "cell_type": "code",
   "execution_count": null,
   "id": "ab8f58cb",
   "metadata": {},
   "outputs": [],
   "source": []
  },
  {
   "cell_type": "markdown",
   "id": "7fcfe24d",
   "metadata": {},
   "source": [
    "## how to impute amount and balance column \n",
    "\n",
    "## analyze the relationship between transaction direction (debit/credit) and balance:\n",
    "1. Segment the Data\n",
    "2. Statistical Summary\n",
    "3. Visual Analysis"
   ]
  },
  {
   "cell_type": "code",
   "execution_count": null,
   "id": "a65629e6",
   "metadata": {},
   "outputs": [],
   "source": [
    "# Identify debits and credits\n",
    "debits = data[data['Amount'] < 0]\n",
    "credits = data[data['Amount'] > 0]"
   ]
  },
  {
   "cell_type": "code",
   "execution_count": null,
   "id": "8034b560",
   "metadata": {},
   "outputs": [],
   "source": [
    "# Calculate statistics for debits and credits\n",
    "debit_stats = debits['Balance'].describe()\n",
    "credit_stats = credits['Balance'].describe()\n",
    "\n",
    "print(\"Debit Statistics:\\n\", debit_stats)\n",
    "print(\"\\nCredit Statistics:\\n\", credit_stats)"
   ]
  },
  {
   "cell_type": "code",
   "execution_count": null,
   "id": "05882369",
   "metadata": {},
   "outputs": [],
   "source": [
    "# Sort data by Date and Account No\n",
    "data.sort_values(by=['Account No', 'Date'], inplace=True)\n",
    "\n",
    "# Forward fill missing Balance and Amount\n",
    "data['Balance'] = data.groupby('Account No')['Balance'].fillna(method='ffill')\n",
    "data['Amount'] = data.groupby('Account No')['Amount'].fillna(method='ffill')"
   ]
  },
  {
   "cell_type": "code",
   "execution_count": null,
   "id": "2218fb71",
   "metadata": {},
   "outputs": [],
   "source": [
    "# Optional: Plot to visualize imputation effects\n",
    "import matplotlib.pyplot as plt\n",
    "\n",
    "# Filter for a specific account to visualize\n",
    "sample_account = data[data['Account No'] == 999752673]  # Replace some_account_number with an actual number\n",
    "\n",
    "plt.figure(figsize=(14, 7))\n",
    "plt.subplot(2, 1, 1)\n",
    "plt.plot(sample_account['Date'], sample_account['Balance'], marker='o', linestyle='-')\n",
    "plt.title('Balance Over Time')\n",
    "plt.xlabel('Date')\n",
    "plt.ylabel('Balance')\n",
    "\n",
    "plt.subplot(2, 1, 2)\n",
    "plt.plot(sample_account['Date'], sample_account['Amount'], marker='o', linestyle='-')\n",
    "plt.title('Transaction Amount Over Time')\n",
    "plt.xlabel('Date')\n",
    "plt.ylabel('Amount')\n",
    "\n",
    "plt.tight_layout()\n",
    "plt.show()"
   ]
  },
  {
   "cell_type": "code",
   "execution_count": null,
   "id": "cb2ba777",
   "metadata": {
    "scrolled": true
   },
   "outputs": [],
   "source": [
    "import matplotlib.pyplot as plt\n",
    "import seaborn as sns\n",
    "\n",
    "# Label the transactions as debit or credit\n",
    "data['Transaction Type'] = ['Credit' if amt > 0 else 'Debit' for amt in data['Amount']]\n",
    "\n",
    "# Plotting the distribution of Balances for debits and credits\n",
    "plt.figure(figsize=(6,3))\n",
    "sns.boxplot(x='Transaction Type', y='Balance', data=data)\n",
    "plt.title('Balance Distribution for Debits and Credits')\n",
    "plt.xlabel('Transaction Type')\n",
    "plt.ylabel('Balance')\n",
    "plt.show()"
   ]
  },
  {
   "cell_type": "code",
   "execution_count": null,
   "id": "955279f0",
   "metadata": {},
   "outputs": [],
   "source": [
    "# Interpolate missing values for Balance and Amount\n",
    "#data['Balance'] = data['Balance'].interpolate(method='linear')\n",
    "#data['Amount'] = data['Amount'].interpolate(method='linear')"
   ]
  },
  {
   "cell_type": "code",
   "execution_count": null,
   "id": "4525045d",
   "metadata": {},
   "outputs": [],
   "source": [
    "# nearest integer/ rounding\n",
    "data['Balance'] = data['Balance'].round().astype(int)\n",
    "data['Amount'] = data['Amount'].round().astype(int)"
   ]
  },
  {
   "cell_type": "code",
   "execution_count": null,
   "id": "8f238ffe",
   "metadata": {},
   "outputs": [],
   "source": [
    "# Calculate statistics for debits and credits\n",
    "debit_stats = debits['Balance'].describe()\n",
    "credit_stats = credits['Balance'].describe()"
   ]
  },
  {
   "cell_type": "code",
   "execution_count": null,
   "id": "f31413cb",
   "metadata": {},
   "outputs": [],
   "source": [
    "debit_stats"
   ]
  },
  {
   "cell_type": "code",
   "execution_count": null,
   "id": "8ebd894b",
   "metadata": {},
   "outputs": [],
   "source": [
    "credit_stats"
   ]
  },
  {
   "cell_type": "markdown",
   "id": "a8117a9f",
   "metadata": {},
   "source": [
    "## Transactions that are several standard deviations away from the mean might be considered suspicious:\n",
    "- Transactions that are several standard deviations away from the mean might be considered suspicious:"
   ]
  },
  {
   "cell_type": "code",
   "execution_count": null,
   "id": "c15a42f0",
   "metadata": {},
   "outputs": [],
   "source": [
    "# Calculate the mean and standard deviation\n",
    "mean_amount = data['Amount'].mean()\n",
    "std_amount = data['Amount'].std()\n",
    "\n",
    "# Identify outliers as transactions that are more than 3 standard deviations from the mean\n",
    "outliers = data[np.abs(data['Amount'] - mean_amount) > 3 * std_amount]\n",
    "\n",
    "# Display outliers\n",
    "outliers[['Date','Timestamp', 'Amount', 'Account No', 'Third Party', 'Transaction Type']]"
   ]
  },
  {
   "cell_type": "markdown",
   "id": "9b9b1144",
   "metadata": {},
   "source": [
    "## transactions occurring repeatedly at the same time to the same third party, which could indicate automated or scripted fraud:\n",
    "- more than 5 times"
   ]
  },
  {
   "cell_type": "code",
   "execution_count": null,
   "id": "f47407c0",
   "metadata": {},
   "outputs": [],
   "source": [
    "# Group by account number, third party, and hour to see repetitive patterns\n",
    "repetitive_patterns = data.groupby(['Account No', 'Third Party', 'Timestamp']).size().reset_index(name='Count')\n",
    "\n",
    "# Filter for patterns that occur more than a threshold, e.g., more than 5 times\n",
    "suspicious_patterns = repetitive_patterns[repetitive_patterns['Count'] > 5]\n",
    "\n",
    "# Display suspicious repetitive patterns\n",
    "suspicious_patterns\n"
   ]
  },
  {
   "cell_type": "markdown",
   "id": "4b282c0d",
   "metadata": {},
   "source": [
    "## Visualisations"
   ]
  },
  {
   "cell_type": "code",
   "execution_count": null,
   "id": "3a029e25",
   "metadata": {
    "scrolled": true
   },
   "outputs": [],
   "source": [
    "import seaborn as sns\n",
    "import matplotlib.pyplot as plt\n",
    "\n",
    "# Plot transaction amounts for outliers\n",
    "plt.figure(figsize=(10, 6))\n",
    "sns.scatterplot(x='Date', y='Amount', hue='Transaction Type', data=outliers)\n",
    "plt.title('Outlier Transactions Over Time')\n",
    "plt.xlabel('Date')\n",
    "plt.ylabel('Transaction Amount')\n",
    "plt.show()"
   ]
  },
  {
   "cell_type": "code",
   "execution_count": null,
   "id": "a2f103de",
   "metadata": {},
   "outputs": [],
   "source": [
    "# Convert 'Date' and 'Timestamp' into a single datetime column for easier manipulation\n",
    "#data['Timestamp'] = pd.to_datetime(data['Date'] + ' ' + data['Timestamp'], errors='coerce')\n",
    "\n",
    "# Calculate mean and standard deviation for each account without storing them as columns\n",
    "mean_amounts = data.groupby('Account No')['Amount'].transform('mean')\n",
    "std_amounts = data.groupby('Account No')['Amount'].transform('std')\n",
    "\n",
    "# Identify high-value transactions\n",
    "high_value = data['Amount'] > (mean_amounts + 3 * std_amounts)\n",
    "\n",
    "# Detect frequent transactions in short times by counting the transactions per minute for each account\n",
    "frequent_transactions = data.groupby(['Account No', data['Timestamp'].dt.floor('min')])['Amount'].transform('size') > 3\n",
    "\n",
    "# Check for transactions that are round figures\n",
    "round_figure_transaction = data['Amount'].mod(1000) == 0\n",
    "\n",
    "# Combine the criteria to filter potential fraudulent transactions\n",
    "suspicious_transactions = data[high_value | frequent_transactions | round_figure_transaction]\n",
    "\n",
    "# Display the suspicious transactions\n",
    "print(suspicious_transactions[['Date', 'Timestamp', 'Account No', 'Amount', 'Third Party', 'Transaction Type']])\n"
   ]
  },
  {
   "cell_type": "code",
   "execution_count": null,
   "id": "f6745f2b",
   "metadata": {},
   "outputs": [],
   "source": [
    "import seaborn as sns\n",
    "import matplotlib.pyplot as plt\n",
    "\n",
    "# Plot transaction amounts for potential outliers\n",
    "plt.figure(figsize=(10, 6))\n",
    "sns.scatterplot(x='Date', y='Amount', hue='Transaction Type', style='Day of Week', data=data)\n",
    "plt.title('Transaction Amounts Over Time')\n",
    "plt.xlabel('Date')\n",
    "plt.ylabel('Transaction Amount')\n",
    "plt.show()\n"
   ]
  },
  {
   "cell_type": "code",
   "execution_count": null,
   "id": "1c4458fc",
   "metadata": {},
   "outputs": [],
   "source": [
    "# Create pairplot for selected columns to visualize relationships and distributions\n",
    "sns.pairplot(data[['Amount', 'Balance', 'Transaction Direction']], hue='Transaction Direction', plot_kws={'alpha': 0.5})\n",
    "plt.suptitle('Pairplot of Transactions', size=16, y=1.02)\n",
    "plt.show()"
   ]
  },
  {
   "cell_type": "code",
   "execution_count": null,
   "id": "f35b99e7",
   "metadata": {},
   "outputs": [],
   "source": [
    "##"
   ]
  },
  {
   "cell_type": "code",
   "execution_count": null,
   "id": "afb5d9c4",
   "metadata": {},
   "outputs": [],
   "source": [
    "# Create individual scatter plots instead of a pairplot to avoid issues with KDE and non-numeric data types\n",
    "fig, axs = plt.subplots(1, 2, figsize=(14, 6))\n",
    "\n",
    "# Scatter plot of Amount vs. Balance\n",
    "sns.scatterplot(x='Amount', y='Balance', hue='Transaction Direction', data=data, ax=axs[0], alpha=0.5)\n",
    "axs[0].set_title('Scatter Plot of Amount vs. Balance')\n",
    "axs[0].set_xlabel('Amount')\n",
    "axs[0].set_ylabel('Balance')\n",
    "\n",
    "# Scatter plot of Amount vs. Hour of Transaction\n",
    "sns.scatterplot(x='Amount', y='Timestamp', hue='Transaction Direction', data=data, ax=axs[1], alpha=0.5)\n",
    "axs[1].set_title('Scatter Plot of Amount vs. Hour of Transaction')\n",
    "axs[1].set_xlabel('Amount')\n",
    "axs[1].set_ylabel('Hour of Transaction')\n",
    "\n",
    "plt.tight_layout()\n",
    "plt.show()"
   ]
  },
  {
   "cell_type": "code",
   "execution_count": null,
   "id": "8c6ee226",
   "metadata": {},
   "outputs": [],
   "source": []
  },
  {
   "cell_type": "markdown",
   "id": "ccaad85b",
   "metadata": {},
   "source": [
    "## Monthly Banking Activity: Insights from Total Spent, Total Credited, and Transaction Count"
   ]
  },
  {
   "cell_type": "code",
   "execution_count": null,
   "id": "4b06a4be",
   "metadata": {},
   "outputs": [],
   "source": [
    "\n",
    "# Using 'Grouper' to group by month directly\n",
    "\n",
    "monthly_data = data.groupby(['Account No', pd.Grouper(key='Date', freq='M')]).agg(\n",
    "    Total_Spent=pd.NamedAgg(column='Amount', aggfunc=lambda x: x[x < 0].sum()),\n",
    "    Total_Credited=pd.NamedAgg(column='Amount', aggfunc=lambda x: x[x >= 0].sum()),\n",
    "    Transaction_Count=pd.NamedAgg(column='Amount', aggfunc='count')\n",
    ").reset_index()\n",
    "\n",
    "# Converting 'Date' to 'Year-Month' format for easier reading\n",
    "monthly_data['Date'] = monthly_data['Date'].dt.to_period('M')\n",
    "\n",
    "# Display the first few rows of the modified monthly statistics\n",
    "monthly_data.head(5)\n"
   ]
  },
  {
   "cell_type": "code",
   "execution_count": null,
   "id": "9f37596b",
   "metadata": {},
   "outputs": [],
   "source": [
    "monthly_data.shape"
   ]
  },
  {
   "cell_type": "code",
   "execution_count": null,
   "id": "60aae7e7",
   "metadata": {},
   "outputs": [],
   "source": [
    "data['Account No'].unique().shape"
   ]
  },
  {
   "cell_type": "markdown",
   "id": "4f76e3ac",
   "metadata": {},
   "source": [
    "## checking all the users spending evry month or not"
   ]
  },
  {
   "cell_type": "code",
   "execution_count": null,
   "id": "84253c2e",
   "metadata": {},
   "outputs": [],
   "source": [
    "# To ensure each account's activity is accounted for in every expected month of the dataset, \n",
    "# we'll check which months each account has transactions and list any missing months.\n",
    "\n",
    "# First, get the full range of months from the dataset\n",
    "full_date_range = pd.period_range(data['Date'].min(), data['Date'].max(), freq='M')\n",
    "\n",
    "# Dictionary to store missing months for each account\n",
    "missing_months_dict = {}\n",
    "\n",
    "# Iterating over each account\n",
    "for account, group in data.groupby('Account No'):\n",
    "    present_months = group['Date'].dt.to_period('M').unique()\n",
    "    missing_months = full_date_range[~full_date_range.isin(present_months)]\n",
    "    if len(missing_months) > 0:\n",
    "        missing_months_dict[account] = missing_months\n",
    "\n",
    "# Create a list to store tuples of account number and missing month\n",
    "missing_months_list = []\n",
    "\n",
    "# Iterate over the dictionary and append tuples to the list\n",
    "for account, missing_months in missing_months_dict.items():\n",
    "    for month in missing_months:\n",
    "        missing_months_list.append((account, month))\n",
    "\n",
    "# Create a DataFrame from the list\n",
    "missing_months_df = pd.DataFrame(missing_months_list, columns=['Account No', 'Missing Month'])\n",
    "\n",
    "# Display the DataFrame\n",
    "print(missing_months_df)\n"
   ]
  },
  {
   "cell_type": "code",
   "execution_count": null,
   "id": "abc13c63",
   "metadata": {},
   "outputs": [],
   "source": [
    "## no.of transactions on each day..smtwthfss..\n",
    "# find any trends\n",
    "## his status at the end of month- whether he is in debt or credit"
   ]
  },
  {
   "cell_type": "code",
   "execution_count": null,
   "id": "0ed20890",
   "metadata": {},
   "outputs": [],
   "source": [
    "data"
   ]
  },
  {
   "cell_type": "markdown",
   "id": "0e46bff1",
   "metadata": {},
   "source": [
    "## fraud detection using transactional data"
   ]
  },
  {
   "cell_type": "code",
   "execution_count": null,
   "id": "c3e44743",
   "metadata": {},
   "outputs": [],
   "source": [
    "suspicious_transactions"
   ]
  },
  {
   "cell_type": "code",
   "execution_count": null,
   "id": "41de204b",
   "metadata": {},
   "outputs": [],
   "source": [
    "import matplotlib.pyplot as plt\n",
    "import seaborn as sns\n",
    "\n",
    "# Assuming suspicious_transactions is already defined\n",
    "# and data['Timestamp'] has been created and is the datetime combination of 'Date' and 'Timestamp'\n",
    "\n",
    "# 1. Scatter Plot of Transaction Amounts Over Time\n",
    "plt.figure(figsize=(10, 6))\n",
    "sns.scatterplot(x='Timestamp', y='Amount', data=suspicious_transactions, hue='Transaction Direction', style='Transaction Direction')\n",
    "plt.title('Suspicious Transactions Over Time')\n",
    "plt.xlabel('Timestamp')\n",
    "plt.ylabel('Transaction Amount')\n",
    "plt.xticks(rotation=45)\n",
    "plt.legend(title='Transaction Type')\n",
    "plt.tight_layout()\n",
    "plt.show()\n",
    "\n",
    "# 2. Histogram of Transaction Amounts\n",
    "plt.figure(figsize=(10, 6))\n",
    "sns.histplot(suspicious_transactions['Amount'], bins=30, kde=False, color='red')\n",
    "plt.title('Distribution of Suspicious Transaction Amounts')\n",
    "plt.xlabel('Transaction Amount')\n",
    "plt.ylabel('Frequency')\n",
    "plt.show()\n"
   ]
  },
  {
   "cell_type": "code",
   "execution_count": null,
   "id": "470d9960",
   "metadata": {},
   "outputs": [],
   "source": [
    "import seaborn as sns\n",
    "import matplotlib.pyplot as plt\n",
    "\n",
    "# Assuming suspicious_transactions is already defined\n",
    "# and data['Timestamp'] has been created and is the datetime combination of 'Date' and 'Timestamp'\n",
    "\n",
    "# Extract more features from 'Timestamp' if needed\n",
    "suspicious_transactions['Hour of Day'] = suspicious_transactions['Timestamp'].dt.hour\n",
    "suspicious_transactions['Day of Week'] = suspicious_transactions['Timestamp'].dt.dayofweek\n",
    "\n",
    "# Select columns to include in the pairplot\n",
    "# Including 'Amount', 'Hour of Day', and 'Day of Week'\n",
    "# If 'Transaction Direction' is categorical, it can be used as a hue\n",
    "plot_data = suspicious_transactions[['Amount', 'Hour of Day', 'Day of Week', 'Transaction Direction']]\n",
    "\n",
    "# Create the pairplot\n",
    "sns.pairplot(plot_data, hue='Transaction Direction', diag_kind='kde', plot_kws={'alpha': 0.6, 's': 60, 'edgecolor': 'k'}, height=3)\n",
    "plt.suptitle('Pairplot of Suspicious Transactions')\n",
    "plt.show()\n"
   ]
  },
  {
   "cell_type": "code",
   "execution_count": null,
   "id": "24aa2ab2",
   "metadata": {},
   "outputs": [],
   "source": []
  }
 ],
 "metadata": {
  "kernelspec": {
   "display_name": "Python 3 (ipykernel)",
   "language": "python",
   "name": "python3"
  },
  "language_info": {
   "codemirror_mode": {
    "name": "ipython",
    "version": 3
   },
   "file_extension": ".py",
   "mimetype": "text/x-python",
   "name": "python",
   "nbconvert_exporter": "python",
   "pygments_lexer": "ipython3",
   "version": "3.11.4"
  }
 },
 "nbformat": 4,
 "nbformat_minor": 5
}
