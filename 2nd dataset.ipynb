{
 "cells": [
  {
   "cell_type": "code",
   "execution_count": null,
   "id": "ed840c79",
   "metadata": {},
   "outputs": [],
   "source": []
  },
  {
   "cell_type": "code",
   "execution_count": 1,
   "id": "adcf2f90",
   "metadata": {},
   "outputs": [
    {
     "data": {
      "text/html": [
       "<div>\n",
       "<style scoped>\n",
       "    .dataframe tbody tr th:only-of-type {\n",
       "        vertical-align: middle;\n",
       "    }\n",
       "\n",
       "    .dataframe tbody tr th {\n",
       "        vertical-align: top;\n",
       "    }\n",
       "\n",
       "    .dataframe thead th {\n",
       "        text-align: right;\n",
       "    }\n",
       "</style>\n",
       "<table border=\"1\" class=\"dataframe\">\n",
       "  <thead>\n",
       "    <tr style=\"text-align: right;\">\n",
       "      <th></th>\n",
       "      <th>Date</th>\n",
       "      <th>Timestamp</th>\n",
       "      <th>Account No</th>\n",
       "      <th>Balance</th>\n",
       "      <th>Amount</th>\n",
       "      <th>Third Party Account No</th>\n",
       "      <th>Third Party Name</th>\n",
       "    </tr>\n",
       "  </thead>\n",
       "  <tbody>\n",
       "    <tr>\n",
       "      <th>0</th>\n",
       "      <td>01/01/2023</td>\n",
       "      <td>00:00</td>\n",
       "      <td>678330503.0</td>\n",
       "      <td>2971.0</td>\n",
       "      <td>1584.0</td>\n",
       "      <td>NaN</td>\n",
       "      <td>Westport Care Home</td>\n",
       "    </tr>\n",
       "    <tr>\n",
       "      <th>1</th>\n",
       "      <td>01/01/2023</td>\n",
       "      <td>00:00</td>\n",
       "      <td>472213568.0</td>\n",
       "      <td>3792.0</td>\n",
       "      <td>1950.0</td>\n",
       "      <td>NaN</td>\n",
       "      <td>Barbiee Boutique</td>\n",
       "    </tr>\n",
       "    <tr>\n",
       "      <th>2</th>\n",
       "      <td>01/01/2023</td>\n",
       "      <td>00:00</td>\n",
       "      <td>472213568.0</td>\n",
       "      <td>3012.0</td>\n",
       "      <td>-780.0</td>\n",
       "      <td>283027736.0</td>\n",
       "      <td>NaN</td>\n",
       "    </tr>\n",
       "    <tr>\n",
       "      <th>3</th>\n",
       "      <td>01/01/2023</td>\n",
       "      <td>00:00</td>\n",
       "      <td>283027736.0</td>\n",
       "      <td>1787.0</td>\n",
       "      <td>780.0</td>\n",
       "      <td>472213568.0</td>\n",
       "      <td>NaN</td>\n",
       "    </tr>\n",
       "    <tr>\n",
       "      <th>4</th>\n",
       "      <td>01/01/2023</td>\n",
       "      <td>00:00</td>\n",
       "      <td>624500124.0</td>\n",
       "      <td>3226.0</td>\n",
       "      <td>1825.0</td>\n",
       "      <td>NaN</td>\n",
       "      <td>Fat Face</td>\n",
       "    </tr>\n",
       "  </tbody>\n",
       "</table>\n",
       "</div>"
      ],
      "text/plain": [
       "         Date Timestamp   Account No  Balance  Amount  Third Party Account No  \\\n",
       "0  01/01/2023     00:00  678330503.0   2971.0  1584.0                     NaN   \n",
       "1  01/01/2023     00:00  472213568.0   3792.0  1950.0                     NaN   \n",
       "2  01/01/2023     00:00  472213568.0   3012.0  -780.0             283027736.0   \n",
       "3  01/01/2023     00:00  283027736.0   1787.0   780.0             472213568.0   \n",
       "4  01/01/2023     00:00  624500124.0   3226.0  1825.0                     NaN   \n",
       "\n",
       "     Third Party Name  \n",
       "0  Westport Care Home  \n",
       "1    Barbiee Boutique  \n",
       "2                 NaN  \n",
       "3                 NaN  \n",
       "4            Fat Face  "
      ]
     },
     "execution_count": 1,
     "metadata": {},
     "output_type": "execute_result"
    }
   ],
   "source": [
    "import warnings\n",
    "warnings.filterwarnings('ignore')\n",
    "import pandas as pd\n",
    "import numpy as np\n",
    "import matplotlib.pyplot as plt\n",
    "import seaborn as sns\n",
    "%matplotlib inline\n",
    "\n",
    "# Load the dataset\n",
    "data = pd.read_csv('simulated_transaction_2024.csv')\n",
    "data.head()"
   ]
  },
  {
   "cell_type": "code",
   "execution_count": 2,
   "id": "0f0b66f2",
   "metadata": {},
   "outputs": [
    {
     "name": "stdout",
     "output_type": "stream",
     "text": [
      "<class 'pandas.core.frame.DataFrame'>\n",
      "RangeIndex: 230596 entries, 0 to 230595\n",
      "Data columns (total 7 columns):\n",
      " #   Column                  Non-Null Count   Dtype  \n",
      "---  ------                  --------------   -----  \n",
      " 0   Date                    230367 non-null  object \n",
      " 1   Timestamp               230345 non-null  object \n",
      " 2   Account No              230372 non-null  float64\n",
      " 3   Balance                 230350 non-null  float64\n",
      " 4   Amount                  230387 non-null  float64\n",
      " 5   Third Party Account No  6832 non-null    float64\n",
      " 6   Third Party Name        223517 non-null  object \n",
      "dtypes: float64(4), object(3)\n",
      "memory usage: 12.3+ MB\n"
     ]
    }
   ],
   "source": [
    "data.info()"
   ]
  },
  {
   "cell_type": "code",
   "execution_count": 3,
   "id": "890b892d",
   "metadata": {},
   "outputs": [
    {
     "data": {
      "text/plain": [
       "(230596, 7)"
      ]
     },
     "execution_count": 3,
     "metadata": {},
     "output_type": "execute_result"
    }
   ],
   "source": [
    "data.shape"
   ]
  },
  {
   "cell_type": "code",
   "execution_count": 4,
   "id": "2813040d",
   "metadata": {},
   "outputs": [
    {
     "data": {
      "text/plain": [
       "Index(['Date', 'Timestamp', 'Account No', 'Balance', 'Amount',\n",
       "       'Third Party Account No', 'Third Party Name'],\n",
       "      dtype='object')"
      ]
     },
     "execution_count": 4,
     "metadata": {},
     "output_type": "execute_result"
    }
   ],
   "source": [
    "data.columns"
   ]
  },
  {
   "cell_type": "code",
   "execution_count": 5,
   "id": "8437257a",
   "metadata": {},
   "outputs": [
    {
     "data": {
      "text/html": [
       "<div>\n",
       "<style scoped>\n",
       "    .dataframe tbody tr th:only-of-type {\n",
       "        vertical-align: middle;\n",
       "    }\n",
       "\n",
       "    .dataframe tbody tr th {\n",
       "        vertical-align: top;\n",
       "    }\n",
       "\n",
       "    .dataframe thead th {\n",
       "        text-align: right;\n",
       "    }\n",
       "</style>\n",
       "<table border=\"1\" class=\"dataframe\">\n",
       "  <thead>\n",
       "    <tr style=\"text-align: right;\">\n",
       "      <th></th>\n",
       "      <th>Account No</th>\n",
       "      <th>Balance</th>\n",
       "      <th>Amount</th>\n",
       "      <th>Third Party Account No</th>\n",
       "    </tr>\n",
       "  </thead>\n",
       "  <tbody>\n",
       "    <tr>\n",
       "      <th>count</th>\n",
       "      <td>2.303720e+05</td>\n",
       "      <td>230350.000000</td>\n",
       "      <td>230387.000000</td>\n",
       "      <td>6.832000e+03</td>\n",
       "    </tr>\n",
       "    <tr>\n",
       "      <th>mean</th>\n",
       "      <td>5.505993e+08</td>\n",
       "      <td>3609.351057</td>\n",
       "      <td>6.437717</td>\n",
       "      <td>5.370263e+08</td>\n",
       "    </tr>\n",
       "    <tr>\n",
       "      <th>std</th>\n",
       "      <td>2.560610e+08</td>\n",
       "      <td>5379.331174</td>\n",
       "      <td>508.200101</td>\n",
       "      <td>2.596927e+08</td>\n",
       "    </tr>\n",
       "    <tr>\n",
       "      <th>min</th>\n",
       "      <td>1.015313e+08</td>\n",
       "      <td>-5790.983500</td>\n",
       "      <td>-12240.000000</td>\n",
       "      <td>1.019085e+08</td>\n",
       "    </tr>\n",
       "    <tr>\n",
       "      <th>25%</th>\n",
       "      <td>3.314502e+08</td>\n",
       "      <td>373.453932</td>\n",
       "      <td>-74.000000</td>\n",
       "      <td>3.114679e+08</td>\n",
       "    </tr>\n",
       "    <tr>\n",
       "      <th>50%</th>\n",
       "      <td>5.501698e+08</td>\n",
       "      <td>1686.009850</td>\n",
       "      <td>-28.700000</td>\n",
       "      <td>5.381491e+08</td>\n",
       "    </tr>\n",
       "    <tr>\n",
       "      <th>75%</th>\n",
       "      <td>7.682718e+08</td>\n",
       "      <td>5215.031852</td>\n",
       "      <td>-12.060000</td>\n",
       "      <td>7.485097e+08</td>\n",
       "    </tr>\n",
       "    <tr>\n",
       "      <th>max</th>\n",
       "      <td>9.997527e+08</td>\n",
       "      <td>46804.158837</td>\n",
       "      <td>12240.000000</td>\n",
       "      <td>9.997527e+08</td>\n",
       "    </tr>\n",
       "  </tbody>\n",
       "</table>\n",
       "</div>"
      ],
      "text/plain": [
       "         Account No        Balance         Amount  Third Party Account No\n",
       "count  2.303720e+05  230350.000000  230387.000000            6.832000e+03\n",
       "mean   5.505993e+08    3609.351057       6.437717            5.370263e+08\n",
       "std    2.560610e+08    5379.331174     508.200101            2.596927e+08\n",
       "min    1.015313e+08   -5790.983500  -12240.000000            1.019085e+08\n",
       "25%    3.314502e+08     373.453932     -74.000000            3.114679e+08\n",
       "50%    5.501698e+08    1686.009850     -28.700000            5.381491e+08\n",
       "75%    7.682718e+08    5215.031852     -12.060000            7.485097e+08\n",
       "max    9.997527e+08   46804.158837   12240.000000            9.997527e+08"
      ]
     },
     "execution_count": 5,
     "metadata": {},
     "output_type": "execute_result"
    }
   ],
   "source": [
    "data.describe()"
   ]
  },
  {
   "cell_type": "code",
   "execution_count": 6,
   "id": "782f3693",
   "metadata": {},
   "outputs": [
    {
     "data": {
      "text/plain": [
       "Date                         229\n",
       "Timestamp                    251\n",
       "Account No                   224\n",
       "Balance                      246\n",
       "Amount                       209\n",
       "Third Party Account No    223764\n",
       "Third Party Name            7079\n",
       "dtype: int64"
      ]
     },
     "execution_count": 6,
     "metadata": {},
     "output_type": "execute_result"
    }
   ],
   "source": [
    "data.isnull().sum()"
   ]
  },
  {
   "cell_type": "code",
   "execution_count": 7,
   "id": "2f1e31f1",
   "metadata": {},
   "outputs": [
    {
     "data": {
      "text/plain": [
       "<bound method DataFrame.nunique of               Date Timestamp   Account No       Balance   Amount  \\\n",
       "0       01/01/2023     00:00  678330503.0   2971.000000  1584.00   \n",
       "1       01/01/2023     00:00  472213568.0   3792.000000  1950.00   \n",
       "2       01/01/2023     00:00  472213568.0   3012.000000  -780.00   \n",
       "3       01/01/2023     00:00  283027736.0   1787.000000   780.00   \n",
       "4       01/01/2023     00:00  624500124.0   3226.000000  1825.00   \n",
       "...            ...       ...          ...           ...      ...   \n",
       "230591  06/12/2023     20:54  581655972.0  45935.206861   -41.06   \n",
       "230592  06/12/2023     20:55  786141370.0   -244.837500   -62.35   \n",
       "230593  06/12/2023     21:05  824916823.0   9709.172159   -32.94   \n",
       "230594  06/12/2023     21:13  366550080.0  26834.165794   -19.25   \n",
       "230595  06/12/2023     21:32  259015404.0   1145.349837   -37.64   \n",
       "\n",
       "        Third Party Account No    Third Party Name  \n",
       "0                          NaN  Westport Care Home  \n",
       "1                          NaN    Barbiee Boutique  \n",
       "2                  283027736.0                 NaN  \n",
       "3                  472213568.0                 NaN  \n",
       "4                          NaN            Fat Face  \n",
       "...                        ...                 ...  \n",
       "230591                     NaN               Tesco  \n",
       "230592                     NaN     Sainsbury Local  \n",
       "230593                     NaN           Deliveroo  \n",
       "230594                     NaN              Amazon  \n",
       "230595                     NaN             JustEat  \n",
       "\n",
       "[230596 rows x 7 columns]>"
      ]
     },
     "execution_count": 7,
     "metadata": {},
     "output_type": "execute_result"
    }
   ],
   "source": [
    "data.nunique"
   ]
  },
  {
   "cell_type": "code",
   "execution_count": 8,
   "id": "e210652c",
   "metadata": {},
   "outputs": [
    {
     "data": {
      "text/plain": [
       "Date                         229\n",
       "Timestamp                    251\n",
       "Account No                   224\n",
       "Balance                      246\n",
       "Amount                       209\n",
       "Third Party Account No    223764\n",
       "Third Party Name            7079\n",
       "dtype: int64"
      ]
     },
     "execution_count": 8,
     "metadata": {},
     "output_type": "execute_result"
    }
   ],
   "source": [
    "data.isnull().sum()"
   ]
  },
  {
   "cell_type": "code",
   "execution_count": 9,
   "id": "a1c5c147",
   "metadata": {},
   "outputs": [
    {
     "data": {
      "text/plain": [
       "Date                       0.099308\n",
       "Timestamp                  0.108848\n",
       "Account No                 0.097140\n",
       "Balance                    0.106680\n",
       "Amount                     0.090635\n",
       "Third Party Account No    97.037243\n",
       "Third Party Name           3.069871\n",
       "dtype: float64"
      ]
     },
     "execution_count": 9,
     "metadata": {},
     "output_type": "execute_result"
    }
   ],
   "source": [
    "# Calculate the percentage of null values for each column\n",
    "data.isnull().mean() * 100"
   ]
  },
  {
   "cell_type": "code",
   "execution_count": null,
   "id": "f8ad0c8e",
   "metadata": {},
   "outputs": [],
   "source": []
  },
  {
   "cell_type": "markdown",
   "id": "585e1ba0",
   "metadata": {},
   "source": [
    "### i want to to check the number of transactions of other users, to get more details"
   ]
  },
  {
   "cell_type": "code",
   "execution_count": 10,
   "id": "652281bf",
   "metadata": {},
   "outputs": [
    {
     "data": {
      "text/html": [
       "<div>\n",
       "<style scoped>\n",
       "    .dataframe tbody tr th:only-of-type {\n",
       "        vertical-align: middle;\n",
       "    }\n",
       "\n",
       "    .dataframe tbody tr th {\n",
       "        vertical-align: top;\n",
       "    }\n",
       "\n",
       "    .dataframe thead th {\n",
       "        text-align: right;\n",
       "    }\n",
       "</style>\n",
       "<table border=\"1\" class=\"dataframe\">\n",
       "  <thead>\n",
       "    <tr style=\"text-align: right;\">\n",
       "      <th></th>\n",
       "      <th>Account No</th>\n",
       "      <th>Number of Transactions</th>\n",
       "    </tr>\n",
       "  </thead>\n",
       "  <tbody>\n",
       "    <tr>\n",
       "      <th>0</th>\n",
       "      <td>101531259.0</td>\n",
       "      <td>123</td>\n",
       "    </tr>\n",
       "    <tr>\n",
       "      <th>1</th>\n",
       "      <td>104832000.0</td>\n",
       "      <td>164</td>\n",
       "    </tr>\n",
       "    <tr>\n",
       "      <th>2</th>\n",
       "      <td>105375973.0</td>\n",
       "      <td>158</td>\n",
       "    </tr>\n",
       "    <tr>\n",
       "      <th>3</th>\n",
       "      <td>106601471.0</td>\n",
       "      <td>193</td>\n",
       "    </tr>\n",
       "    <tr>\n",
       "      <th>4</th>\n",
       "      <td>108481285.0</td>\n",
       "      <td>368</td>\n",
       "    </tr>\n",
       "  </tbody>\n",
       "</table>\n",
       "</div>"
      ],
      "text/plain": [
       "    Account No  Number of Transactions\n",
       "0  101531259.0                     123\n",
       "1  104832000.0                     164\n",
       "2  105375973.0                     158\n",
       "3  106601471.0                     193\n",
       "4  108481285.0                     368"
      ]
     },
     "execution_count": 10,
     "metadata": {},
     "output_type": "execute_result"
    }
   ],
   "source": [
    "# Grouping the dataset by 'Account No' and counting the number of transactions for each account\n",
    "transactions_per_user = data.groupby('Account No').size()\n",
    "\n",
    "# Converting the series to a DataFrame for better readability\n",
    "transactions_per_user_df = transactions_per_user.reset_index(name='Number of Transactions')\n",
    "\n",
    "# Displaying the first few rows to verify\n",
    "transactions_per_user_df.head()"
   ]
  },
  {
   "cell_type": "code",
   "execution_count": 11,
   "id": "19b23361",
   "metadata": {},
   "outputs": [
    {
     "data": {
      "text/plain": [
       "236.03688524590163"
      ]
     },
     "execution_count": 11,
     "metadata": {},
     "output_type": "execute_result"
    }
   ],
   "source": [
    "# finding average number of transactions of all users\n",
    "average_transactions_per_user = transactions_per_user.mean()\n",
    "\n",
    "average_transactions_per_user"
   ]
  },
  {
   "cell_type": "markdown",
   "id": "b08a399f",
   "metadata": {},
   "source": [
    "### we have 224 missing values in account number, i think we can create a random account number"
   ]
  },
  {
   "cell_type": "code",
   "execution_count": 12,
   "id": "0815ef79",
   "metadata": {},
   "outputs": [
    {
     "data": {
      "text/plain": [
       "(999752673, 0)"
      ]
     },
     "execution_count": 12,
     "metadata": {},
     "output_type": "execute_result"
    }
   ],
   "source": [
    "# Generate a unique account number\n",
    "# Assuming account numbers are numeric, we'll find a number not present in the current dataset\n",
    "\n",
    "existing_account_numbers = pd.to_numeric(data['Account No'], errors='coerce').dropna().unique()\n",
    "new_account_number = int(max(existing_account_numbers) + 1)\n",
    "\n",
    "# Replace null values in the \"Account No\" column with the new account number\n",
    "data['Account No'].fillna(new_account_number, inplace=True)\n",
    "\n",
    "# Verify that there are no longer null values in the \"Account No\" column\n",
    "verification_result = data['Account No'].isnull().sum()\n",
    "\n",
    "new_account_number, verification_result"
   ]
  },
  {
   "cell_type": "code",
   "execution_count": 13,
   "id": "bb2fdf94",
   "metadata": {},
   "outputs": [
    {
     "data": {
      "text/plain": [
       "Date                         229\n",
       "Timestamp                    251\n",
       "Account No                     0\n",
       "Balance                      246\n",
       "Amount                       209\n",
       "Third Party Account No    223764\n",
       "Third Party Name            7079\n",
       "dtype: int64"
      ]
     },
     "execution_count": 13,
     "metadata": {},
     "output_type": "execute_result"
    }
   ],
   "source": [
    "data.isnull().sum() ## no missing values found in account number"
   ]
  },
  {
   "cell_type": "code",
   "execution_count": null,
   "id": "b777219f",
   "metadata": {},
   "outputs": [],
   "source": []
  },
  {
   "cell_type": "code",
   "execution_count": 16,
   "id": "b43cb582",
   "metadata": {},
   "outputs": [],
   "source": [
    "# Convert 'Third Party Account No' to nullable integer type\n",
    "data['Third Party Account No'] = data['Third Party Account No'].astype('Int64')"
   ]
  },
  {
   "cell_type": "code",
   "execution_count": null,
   "id": "303ac654",
   "metadata": {},
   "outputs": [],
   "source": []
  },
  {
   "cell_type": "code",
   "execution_count": 18,
   "id": "0c32ae7e",
   "metadata": {},
   "outputs": [],
   "source": [
    "# Fill missing values in 'Third Party Identifier' with values from 'Third Party Name'\n",
    "data['Third Party'] = data['Third Party Name']\n",
    "\n",
    "# Fill remaining missing values in 'Third Party Identifier' with values from 'Third Party Account No'\n",
    "data.loc[data['Third Party'].isnull(), 'Third Party'] = data['Third Party Account No']\n",
    "\n",
    "# Convert 'Third Party Identifier' column to string type\n",
    "data['Third Party'] = data['Third Party'].astype(str)\n",
    "\n",
    "# Drop the original 'Third Party Account No' and 'Third Party Name' columns\n",
    "data.drop(columns=['Third Party Account No', 'Third Party Name'], inplace=True)\n"
   ]
  },
  {
   "cell_type": "code",
   "execution_count": 19,
   "id": "33832fd7",
   "metadata": {},
   "outputs": [
    {
     "data": {
      "text/plain": [
       "Date           229\n",
       "Timestamp      251\n",
       "Account No       0\n",
       "Balance        246\n",
       "Amount         209\n",
       "Third Party      0\n",
       "dtype: int64"
      ]
     },
     "execution_count": 19,
     "metadata": {},
     "output_type": "execute_result"
    }
   ],
   "source": [
    "data.isnull().sum()"
   ]
  },
  {
   "cell_type": "code",
   "execution_count": 20,
   "id": "9d9b8442",
   "metadata": {},
   "outputs": [
    {
     "data": {
      "text/plain": [
       "977"
      ]
     },
     "execution_count": 20,
     "metadata": {},
     "output_type": "execute_result"
    }
   ],
   "source": [
    "data['Account No'].nunique() ## total no.of users"
   ]
  },
  {
   "cell_type": "code",
   "execution_count": null,
   "id": "2b036ac3",
   "metadata": {},
   "outputs": [],
   "source": []
  },
  {
   "cell_type": "markdown",
   "id": "0fdd9850",
   "metadata": {},
   "source": [
    "1. Date and Timestamp\n",
    "Method Used: Forward Fill\n",
    "Why?\n",
    "Both the Date and Timestamp fields are critical for maintaining the sequence and continuity in time series data.\n",
    "Forward fill is appropriate here because it assumes that the missing date or timestamp can reasonably be replaced by the last known value, which is a common practice in time-sensitive data to maintain alignment in time series analysis.\n",
    "This method helps avoid introducing artificial discontinuities in the time sequence, which could occur if we interpolated times or used backward fill.\n",
    "2. Balance and Amount\n",
    "Method Used: Linear Interpolation\n",
    "Why?\n",
    "Balance and Amount are continuous numerical values that often follow a linear trend between successive data points, especially in financial records where balances and transaction amounts can change in a predictable manner over short intervals.\n",
    "Linear interpolation provides a way to estimate missing values based on a straight-line connection between available data points. This is particularly suitable for financial data where incremental changes are expected between observations.\n",
    "This method helps in maintaining a realistic progression of values, reflecting typical financial transactions and balance adjustments."
   ]
  },
  {
   "cell_type": "code",
   "execution_count": 22,
   "id": "08beb693",
   "metadata": {},
   "outputs": [
    {
     "name": "stdout",
     "output_type": "stream",
     "text": [
      "Date           0\n",
      "Timestamp      0\n",
      "Account No     0\n",
      "Balance        0\n",
      "Amount         0\n",
      "Third Party    0\n",
      "dtype: int64\n"
     ]
    }
   ],
   "source": [
    "# Fill missing Date and Timestamp\n",
    "data['Date'] = data['Date'].fillna(method='ffill')\n",
    "data['Timestamp'] = data['Timestamp'].fillna(method='ffill')\n",
    "\n",
    "# Interpolate missing values for Balance and Amount\n",
    "data['Balance'] = data['Balance'].interpolate(method='linear')\n",
    "data['Amount'] = data['Amount'].interpolate(method='linear')\n",
    "# Check for remaining missing values\n",
    "print(data.isnull().sum())\n"
   ]
  },
  {
   "cell_type": "code",
   "execution_count": 23,
   "id": "67e8b483",
   "metadata": {},
   "outputs": [],
   "source": [
    "## float to integer\n",
    "data['Account No'] = data['Account No'].astype(int)"
   ]
  },
  {
   "cell_type": "code",
   "execution_count": 24,
   "id": "9a70660c",
   "metadata": {},
   "outputs": [],
   "source": [
    "# nearest integer/ rounding\n",
    "data['Balance'] = data['Balance'].round().astype(int)\n",
    "data['Amount'] = data['Amount'].round().astype(int)"
   ]
  },
  {
   "cell_type": "code",
   "execution_count": null,
   "id": "e5cf1efe",
   "metadata": {},
   "outputs": [],
   "source": []
  },
  {
   "cell_type": "code",
   "execution_count": 45,
   "id": "e4a3a937",
   "metadata": {},
   "outputs": [
    {
     "data": {
      "image/png": "[encoded data removed]",
      "text/plain": [
       "<Figure size 1000x300 with 1 Axes>"
      ]
     },
     "metadata": {},
     "output_type": "display_data"
    }
   ],
   "source": [
    "# Plot the distribution of transaction amounts\n",
    "plt.figure(figsize=(10, 3))\n",
    "sns.histplot(data['Amount'], bins=50, kde=True)\n",
    "plt.title('Distribution of Transaction Amounts')\n",
    "plt.xlabel('Amount')\n",
    "plt.ylabel('Frequency')\n",
    "plt.show()"
   ]
  },
  {
   "cell_type": "code",
   "execution_count": 44,
   "id": "4a8bcf94",
   "metadata": {},
   "outputs": [
    {
     "data": {
      "image/png": "[encoded data removed]",
      "text/plain": [
       "<Figure size 1000x300 with 1 Axes>"
      ]
     },
     "metadata": {},
     "output_type": "display_data"
    }
   ],
   "source": [
    "# Plot the distribution of account balances\n",
    "plt.figure(figsize=(10,3))\n",
    "sns.histplot(data['Balance'], bins=50, kde=True)\n",
    "plt.title('Distribution of Account Balances')\n",
    "plt.xlabel('Balance')\n",
    "plt.ylabel('Frequency')\n",
    "plt.show()"
   ]
  },
  {
   "cell_type": "code",
   "execution_count": 46,
   "id": "99c91ca5",
   "metadata": {},
   "outputs": [
    {
     "data": {
      "image/png": "[encoded data removed]",
      "text/plain": [
       "<Figure size 1000x300 with 1 Axes>"
      ]
     },
     "metadata": {},
     "output_type": "display_data"
    }
   ],
   "source": [
    "# Time Series Plot of Daily Transaction Volume\n",
    "# Analyze transaction trends over time\n",
    "daily_transactions = data['Amount'].resample('D').sum()\n",
    "\n",
    "plt.figure(figsize=(10,3))\n",
    "daily_transactions.plot(color='blue')\n",
    "plt.title('Daily Transaction Volume', fontsize=16)\n",
    "plt.xlabel('Date', fontsize=14)\n",
    "plt.ylabel('Transaction Amount', fontsize=14)\n",
    "plt.grid(True)\n",
    "plt.show()"
   ]
  },
  {
   "cell_type": "code",
   "execution_count": 39,
   "id": "d121d81f",
   "metadata": {},
   "outputs": [
    {
     "data": {
      "image/png": "[encoded data removed]",
      "text/plain": [
       "<Figure size 300x300 with 1 Axes>"
      ]
     },
     "metadata": {},
     "output_type": "display_data"
    }
   ],
   "source": [
    "plt.figure(figsize=(3,3))\n",
    "sns.boxplot(y=data['Balance'], color='purple')\n",
    "plt.title('Distribution of Account Balances', fontsize=16)\n",
    "plt.ylabel('Balance', fontsize=14)\n",
    "plt.grid(True)\n",
    "plt.show()"
   ]
  },
  {
   "cell_type": "code",
   "execution_count": 38,
   "id": "0c184669",
   "metadata": {},
   "outputs": [
    {
     "data": {
      "image/png": "[encoded data removed]",
      "text/plain": [
       "<Figure size 700x300 with 1 Axes>"
      ]
     },
     "metadata": {},
     "output_type": "display_data"
    }
   ],
   "source": [
    "top_parties = data['Third Party'].value_counts().head(10)\n",
    "\n",
    "plt.figure(figsize=(7,3))\n",
    "sns.barplot(x=top_parties.values, y=top_parties.index, palette='viridis')\n",
    "plt.title('Top 10 Third Parties by Transaction Frequency', fontsize=16)\n",
    "plt.xlabel('Number of Transactions', fontsize=14)\n",
    "plt.ylabel('Third Party', fontsize=14)\n",
    "plt.grid(True, axis='x')\n",
    "plt.show()"
   ]
  },
  {
   "cell_type": "code",
   "execution_count": null,
   "id": "9ecd150f",
   "metadata": {},
   "outputs": [],
   "source": []
  },
  {
   "cell_type": "code",
   "execution_count": null,
   "id": "116cb5ba",
   "metadata": {},
   "outputs": [],
   "source": []
  },
  {
   "cell_type": "code",
   "execution_count": null,
   "id": "f1cf14c5",
   "metadata": {},
   "outputs": [],
   "source": []
  },
  {
   "cell_type": "code",
   "execution_count": null,
   "id": "61beccfb",
   "metadata": {},
   "outputs": [],
   "source": [
    "# Step 2: Handle null values in other columns\n",
    "# For numerical columns (Balance, Amount), we'll use median imputation\n",
    "# For categorical columns (Date, Timestamp, Account No, Third Party Name), we'll use the mode or a placeholder\n",
    "\n",
    "numerical_columns = ['Balance', 'Amount']\n",
    "categorical_columns = ['Date', 'Timestamp', 'Account No', 'Third Party Name']\n",
    "\n",
    "# Fill numerical columns with their median\n",
    "for col in numerical_columns:\n",
    "    data[col].fillna(data[col].median(), inplace=True)\n",
    "\n",
    "# Fill categorical columns with the mode or a placeholder\n",
    "for col in categorical_columns:\n",
    "    if col in ['Date', 'Timestamp', 'Account No']:  # These can be filled with mode\n",
    "        mode_value = data[col].mode()[0]\n",
    "        data[col].fillna(mode_value, inplace=True)\n",
    "    else:  # \"Third Party Name\" can be filled with \"Unknown\"\n",
    "        data[col].fillna('Unknown', inplace=True)\n",
    "\n",
    "# Verify the manipulations by checking the new percentage of null values\n",
    "new_null_percentage = data.isnull().mean() * 100\n",
    "\n",
    "new_null_percentage\n"
   ]
  },
  {
   "cell_type": "code",
   "execution_count": null,
   "id": "b6d93822",
   "metadata": {},
   "outputs": [],
   "source": []
  },
  {
   "cell_type": "code",
   "execution_count": null,
   "id": "0fd5241b",
   "metadata": {},
   "outputs": [],
   "source": []
  }
 ],
 "metadata": {
  "kernelspec": {
   "display_name": "Python 3 (ipykernel)",
   "language": "python",
   "name": "python3"
  },
  "language_info": {
   "codemirror_mode": {
    "name": "ipython",
    "version": 3
   },
   "file_extension": ".py",
   "mimetype": "text/x-python",
   "name": "python",
   "nbconvert_exporter": "python",
   "pygments_lexer": "ipython3",
   "version": "3.11.4"
  }
 },
 "nbformat": 4,
 "nbformat_minor": 5
}
