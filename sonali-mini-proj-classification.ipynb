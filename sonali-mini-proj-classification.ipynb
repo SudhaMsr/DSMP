{
 "cells": [
  {
   "cell_type": "code",
   "execution_count": 4,
   "id": "464d7adf",
   "metadata": {},
   "outputs": [
    {
     "name": "stdout",
     "output_type": "stream",
     "text": [
      "          from_totally_fake_account  monopoly_money_amount  \\\n",
      "0                           10371.0                   4.00   \n",
      "3                           18555.0                   4.10   \n",
      "5                           18555.0                   4.45   \n",
      "6                           18555.0                   1.45   \n",
      "7                           18555.0                   5.00   \n",
      "...                             ...                    ...   \n",
      "10148274                    81404.0                   1.80   \n",
      "10148275                    32185.0                   2.65   \n",
      "10148276                    32185.0                   2.45   \n",
      "10148277                    57569.0                  14.00   \n",
      "10148279                    53444.0                   2.65   \n",
      "\n",
      "         to_randomly_generated_account not_happened_yet_date predicted_label  \n",
      "0                               CINEMA            01/01/2025          CINEMA  \n",
      "3                  HIPSTER_COFFEE_SHOP            01/01/2025            CAFE  \n",
      "5           TOTALLY_A_REAL_COFFEE_SHOP            01/01/2025            CAFE  \n",
      "6                          COFFEE_SHOP            01/01/2025            CAFE  \n",
      "7                                 CAFE            01/01/2025            CAFE  \n",
      "...                                ...                   ...             ...  \n",
      "10148274    TOTALLY_A_REAL_COFFEE_SHOP            31/12/2025            CAFE  \n",
      "10148275                   COFFEE_SHOP            31/12/2025            CAFE  \n",
      "10148276                   COFFEE_SHOP            31/12/2025            CAFE  \n",
      "10148277                      WINE_BAR            31/12/2025             BAR  \n",
      "10148279           A_LOCAL_COFFEE_SHOP            31/12/2025            CAFE  \n",
      "\n",
      "[7615517 rows x 5 columns]\n"
     ]
    },
    {
     "name": "stderr",
     "output_type": "stream",
     "text": [
      "C:\\Users\\bu23957\\AppData\\Local\\Temp\\ipykernel_14524\\3567753249.py:29: SettingWithCopyWarning: \n",
      "A value is trying to be set on a copy of a slice from a DataFrame.\n",
      "Try using .loc[row_indexer,col_indexer] = value instead\n",
      "\n",
      "See the caveats in the documentation: https://pandas.pydata.org/pandas-docs/stable/user_guide/indexing.html#returning-a-view-versus-a-copy\n",
      "  df2_filtered['predicted_label'] = predictions\n"
     ]
    }
   ],
   "source": [
    "import pandas as pd\n",
    "from sklearn.model_selection import train_test_split\n",
    "from sklearn.ensemble import RandomForestClassifier\n",
    "from sklearn.metrics import accuracy_score, classification_report\n",
    "\n",
    "df1 = pd.read_csv('my_data.csv')\n",
    "# One-hot encode categorical features (if any)\n",
    "df = pd.get_dummies(df1, columns=['to_randomly_generated_account'], prefix='', prefix_sep='')\n",
    "\n",
    "#print(df.iloc[:, 1:].columns)\n",
    "\n",
    "df2 = pd.read_csv('fake_transactional_data_24.csv')\n",
    "df2_filtered = df2[df2['to_randomly_generated_account'].astype(str).str.match('^[a-zA-Z_&]')]\n",
    "df2_encoded = pd.get_dummies(df2_filtered['to_randomly_generated_account'], columns=['to_randomly_generated_account'], prefix='', prefix_sep='')\n",
    "#print(df2_encoded)\n",
    "df2_encoded_sorted = df2_encoded.reindex(columns=df.iloc[:, 1:].columns, fill_value=0)\n",
    "\n",
    "# Assuming 'df' is your DataFrame with features and labels\n",
    "# Splitting the dataset into features (X) and labels (y)\n",
    "X = df.drop('label', axis=1)\n",
    "y = df['label']\n",
    "\n",
    "# Initialize and train the Random Forest model\n",
    "model = RandomForestClassifier()\n",
    "model.fit(X, y)\n",
    "\n",
    "# Predict on the test set\n",
    "predictions = model.predict(df2_encoded_sorted)\n",
    "df2_filtered['predicted_label'] = predictions\n",
    "print(df2_filtered)\n",
    "\n",
    "# Evaluate the model\n",
    "#accuracy = accuracy_score(y, predictions)\n",
    "#classification_rep = classification_report(y_test, predictions)\n",
    "#print(\"Model Evaluation:\")\n",
    "#print(f\"Accuracy: {accuracy:.2f}\")\n",
    "#print(\"Classification Report:\\n\", classification_rep)"
   ]
  },
  {
   "cell_type": "code",
   "execution_count": 6,
   "id": "dc816ad4",
   "metadata": {},
   "outputs": [
    {
     "data": {
      "text/plain": [
       "(78, 2)"
      ]
     },
     "execution_count": 6,
     "metadata": {},
     "output_type": "execute_result"
    }
   ],
   "source": [
    "df1.shape"
   ]
  },
  {
   "cell_type": "code",
   "execution_count": 7,
   "id": "8cdf5206",
   "metadata": {},
   "outputs": [
    {
     "data": {
      "text/plain": [
       "(10148280, 4)"
      ]
     },
     "execution_count": 7,
     "metadata": {},
     "output_type": "execute_result"
    }
   ],
   "source": [
    "df2.shape"
   ]
  },
  {
   "cell_type": "code",
   "execution_count": 9,
   "id": "7d9d05b5",
   "metadata": {},
   "outputs": [
    {
     "name": "stdout",
     "output_type": "stream",
     "text": [
      "          from_totally_fake_account  monopoly_money_amount  \\\n",
      "0                           10371.0                   4.00   \n",
      "3                           18555.0                   4.10   \n",
      "5                           18555.0                   4.45   \n",
      "6                           18555.0                   1.45   \n",
      "7                           18555.0                   5.00   \n",
      "...                             ...                    ...   \n",
      "10148274                    81404.0                   1.80   \n",
      "10148275                    32185.0                   2.65   \n",
      "10148276                    32185.0                   2.45   \n",
      "10148277                    57569.0                  14.00   \n",
      "10148279                    53444.0                   2.65   \n",
      "\n",
      "         to_randomly_generated_account not_happened_yet_date predicted_label  \n",
      "0                               CINEMA            01/01/2025          CINEMA  \n",
      "3                  HIPSTER_COFFEE_SHOP            01/01/2025            CAFE  \n",
      "5           TOTALLY_A_REAL_COFFEE_SHOP            01/01/2025            CAFE  \n",
      "6                          COFFEE_SHOP            01/01/2025            CAFE  \n",
      "7                                 CAFE            01/01/2025            CAFE  \n",
      "...                                ...                   ...             ...  \n",
      "10148274    TOTALLY_A_REAL_COFFEE_SHOP            31/12/2025            CAFE  \n",
      "10148275                   COFFEE_SHOP            31/12/2025            CAFE  \n",
      "10148276                   COFFEE_SHOP            31/12/2025            CAFE  \n",
      "10148277                      WINE_BAR            31/12/2025             BAR  \n",
      "10148279           A_LOCAL_COFFEE_SHOP            31/12/2025            CAFE  \n",
      "\n",
      "[7615517 rows x 5 columns]\n"
     ]
    }
   ],
   "source": [
    "import pandas as pd\n",
    "from sklearn.model_selection import train_test_split\n",
    "from sklearn.ensemble import RandomForestClassifier\n",
    "\n",
    "# Load and preprocess the training and test data\n",
    "df_train = pd.read_csv('my_data.csv')\n",
    "df_test = pd.read_csv('fake_transactional_data_24.csv')\n",
    "\n",
    "# One-hot encode categorical features in the training data\n",
    "df_train_encoded = pd.get_dummies(df_train, columns=['to_randomly_generated_account'], prefix='', prefix_sep='')\n",
    "\n",
    "# One-hot encode categorical features in the test data\n",
    "df_test_filtered = df_test[df_test['to_randomly_generated_account'].astype(str).str.match('^[a-zA-Z_&]')]\n",
    "df_test_encoded = pd.get_dummies(df_test_filtered['to_randomly_generated_account'], columns=['to_randomly_generated_account'], prefix='', prefix_sep='')\n",
    "df_test_encoded_sorted = df_test_encoded.reindex(columns=df_train_encoded.iloc[:, 1:].columns, fill_value=0)\n",
    "\n",
    "# Split the training data into features (X) and labels (y)\n",
    "X_train = df_train_encoded.drop('label', axis=1)\n",
    "y_train = df_train_encoded['label']\n",
    "\n",
    "# Initialize and train the Random Forest model\n",
    "model = RandomForestClassifier()\n",
    "model.fit(X_train, y_train)\n",
    "\n",
    "# Predict on the test set\n",
    "predictions = model.predict(df_test_encoded_sorted)\n",
    "\n",
    "# Add the predicted labels to the test data\n",
    "df_test_filtered_copy = df_test_filtered.copy()\n",
    "df_test_filtered_copy['predicted_label'] = predictions\n",
    "print(df_test_filtered_copy)\n"
   ]
  },
  {
   "cell_type": "code",
   "execution_count": 14,
   "id": "c2ef1740",
   "metadata": {},
   "outputs": [
    {
     "ename": "FileNotFoundError",
     "evalue": "[Errno 2] No such file or directory: 'true_labels.csv'",
     "output_type": "error",
     "traceback": [
      "\u001b[1;31m---------------------------------------------------------------------------\u001b[0m",
      "\u001b[1;31mFileNotFoundError\u001b[0m                         Traceback (most recent call last)",
      "Cell \u001b[1;32mIn[14], line 5\u001b[0m\n\u001b[0;32m      2\u001b[0m \u001b[38;5;28;01mfrom\u001b[39;00m \u001b[38;5;21;01msklearn\u001b[39;00m\u001b[38;5;21;01m.\u001b[39;00m\u001b[38;5;21;01mmetrics\u001b[39;00m \u001b[38;5;28;01mimport\u001b[39;00m accuracy_score\n\u001b[0;32m      4\u001b[0m \u001b[38;5;66;03m# Load the true labels for the test data\u001b[39;00m\n\u001b[1;32m----> 5\u001b[0m true_labels \u001b[38;5;241m=\u001b[39m pd\u001b[38;5;241m.\u001b[39mread_csv(\u001b[38;5;124m'\u001b[39m\u001b[38;5;124mtrue_labels.csv\u001b[39m\u001b[38;5;124m'\u001b[39m)[\u001b[38;5;124m'\u001b[39m\u001b[38;5;124mlabel\u001b[39m\u001b[38;5;124m'\u001b[39m]\n\u001b[0;32m      7\u001b[0m \u001b[38;5;66;03m# Calculate the model's accuracy on the test data\u001b[39;00m\n\u001b[0;32m      8\u001b[0m test_accuracy \u001b[38;5;241m=\u001b[39m accuracy_score(true_labels, predictions)\n",
      "File \u001b[1;32m~\\AppData\\Local\\anaconda3\\Lib\\site-packages\\pandas\\io\\parsers\\readers.py:912\u001b[0m, in \u001b[0;36mread_csv\u001b[1;34m(filepath_or_buffer, sep, delimiter, header, names, index_col, usecols, dtype, engine, converters, true_values, false_values, skipinitialspace, skiprows, skipfooter, nrows, na_values, keep_default_na, na_filter, verbose, skip_blank_lines, parse_dates, infer_datetime_format, keep_date_col, date_parser, date_format, dayfirst, cache_dates, iterator, chunksize, compression, thousands, decimal, lineterminator, quotechar, quoting, doublequote, escapechar, comment, encoding, encoding_errors, dialect, on_bad_lines, delim_whitespace, low_memory, memory_map, float_precision, storage_options, dtype_backend)\u001b[0m\n\u001b[0;32m    899\u001b[0m kwds_defaults \u001b[38;5;241m=\u001b[39m _refine_defaults_read(\n\u001b[0;32m    900\u001b[0m     dialect,\n\u001b[0;32m    901\u001b[0m     delimiter,\n\u001b[1;32m   (...)\u001b[0m\n\u001b[0;32m    908\u001b[0m     dtype_backend\u001b[38;5;241m=\u001b[39mdtype_backend,\n\u001b[0;32m    909\u001b[0m )\n\u001b[0;32m    910\u001b[0m kwds\u001b[38;5;241m.\u001b[39mupdate(kwds_defaults)\n\u001b[1;32m--> 912\u001b[0m \u001b[38;5;28;01mreturn\u001b[39;00m _read(filepath_or_buffer, kwds)\n",
      "File \u001b[1;32m~\\AppData\\Local\\anaconda3\\Lib\\site-packages\\pandas\\io\\parsers\\readers.py:577\u001b[0m, in \u001b[0;36m_read\u001b[1;34m(filepath_or_buffer, kwds)\u001b[0m\n\u001b[0;32m    574\u001b[0m _validate_names(kwds\u001b[38;5;241m.\u001b[39mget(\u001b[38;5;124m\"\u001b[39m\u001b[38;5;124mnames\u001b[39m\u001b[38;5;124m\"\u001b[39m, \u001b[38;5;28;01mNone\u001b[39;00m))\n\u001b[0;32m    576\u001b[0m \u001b[38;5;66;03m# Create the parser.\u001b[39;00m\n\u001b[1;32m--> 577\u001b[0m parser \u001b[38;5;241m=\u001b[39m TextFileReader(filepath_or_buffer, \u001b[38;5;241m*\u001b[39m\u001b[38;5;241m*\u001b[39mkwds)\n\u001b[0;32m    579\u001b[0m \u001b[38;5;28;01mif\u001b[39;00m chunksize \u001b[38;5;129;01mor\u001b[39;00m iterator:\n\u001b[0;32m    580\u001b[0m     \u001b[38;5;28;01mreturn\u001b[39;00m parser\n",
      "File \u001b[1;32m~\\AppData\\Local\\anaconda3\\Lib\\site-packages\\pandas\\io\\parsers\\readers.py:1407\u001b[0m, in \u001b[0;36mTextFileReader.__init__\u001b[1;34m(self, f, engine, **kwds)\u001b[0m\n\u001b[0;32m   1404\u001b[0m     \u001b[38;5;28mself\u001b[39m\u001b[38;5;241m.\u001b[39moptions[\u001b[38;5;124m\"\u001b[39m\u001b[38;5;124mhas_index_names\u001b[39m\u001b[38;5;124m\"\u001b[39m] \u001b[38;5;241m=\u001b[39m kwds[\u001b[38;5;124m\"\u001b[39m\u001b[38;5;124mhas_index_names\u001b[39m\u001b[38;5;124m\"\u001b[39m]\n\u001b[0;32m   1406\u001b[0m \u001b[38;5;28mself\u001b[39m\u001b[38;5;241m.\u001b[39mhandles: IOHandles \u001b[38;5;241m|\u001b[39m \u001b[38;5;28;01mNone\u001b[39;00m \u001b[38;5;241m=\u001b[39m \u001b[38;5;28;01mNone\u001b[39;00m\n\u001b[1;32m-> 1407\u001b[0m \u001b[38;5;28mself\u001b[39m\u001b[38;5;241m.\u001b[39m_engine \u001b[38;5;241m=\u001b[39m \u001b[38;5;28mself\u001b[39m\u001b[38;5;241m.\u001b[39m_make_engine(f, \u001b[38;5;28mself\u001b[39m\u001b[38;5;241m.\u001b[39mengine)\n",
      "File \u001b[1;32m~\\AppData\\Local\\anaconda3\\Lib\\site-packages\\pandas\\io\\parsers\\readers.py:1661\u001b[0m, in \u001b[0;36mTextFileReader._make_engine\u001b[1;34m(self, f, engine)\u001b[0m\n\u001b[0;32m   1659\u001b[0m     \u001b[38;5;28;01mif\u001b[39;00m \u001b[38;5;124m\"\u001b[39m\u001b[38;5;124mb\u001b[39m\u001b[38;5;124m\"\u001b[39m \u001b[38;5;129;01mnot\u001b[39;00m \u001b[38;5;129;01min\u001b[39;00m mode:\n\u001b[0;32m   1660\u001b[0m         mode \u001b[38;5;241m+\u001b[39m\u001b[38;5;241m=\u001b[39m \u001b[38;5;124m\"\u001b[39m\u001b[38;5;124mb\u001b[39m\u001b[38;5;124m\"\u001b[39m\n\u001b[1;32m-> 1661\u001b[0m \u001b[38;5;28mself\u001b[39m\u001b[38;5;241m.\u001b[39mhandles \u001b[38;5;241m=\u001b[39m get_handle(\n\u001b[0;32m   1662\u001b[0m     f,\n\u001b[0;32m   1663\u001b[0m     mode,\n\u001b[0;32m   1664\u001b[0m     encoding\u001b[38;5;241m=\u001b[39m\u001b[38;5;28mself\u001b[39m\u001b[38;5;241m.\u001b[39moptions\u001b[38;5;241m.\u001b[39mget(\u001b[38;5;124m\"\u001b[39m\u001b[38;5;124mencoding\u001b[39m\u001b[38;5;124m\"\u001b[39m, \u001b[38;5;28;01mNone\u001b[39;00m),\n\u001b[0;32m   1665\u001b[0m     compression\u001b[38;5;241m=\u001b[39m\u001b[38;5;28mself\u001b[39m\u001b[38;5;241m.\u001b[39moptions\u001b[38;5;241m.\u001b[39mget(\u001b[38;5;124m\"\u001b[39m\u001b[38;5;124mcompression\u001b[39m\u001b[38;5;124m\"\u001b[39m, \u001b[38;5;28;01mNone\u001b[39;00m),\n\u001b[0;32m   1666\u001b[0m     memory_map\u001b[38;5;241m=\u001b[39m\u001b[38;5;28mself\u001b[39m\u001b[38;5;241m.\u001b[39moptions\u001b[38;5;241m.\u001b[39mget(\u001b[38;5;124m\"\u001b[39m\u001b[38;5;124mmemory_map\u001b[39m\u001b[38;5;124m\"\u001b[39m, \u001b[38;5;28;01mFalse\u001b[39;00m),\n\u001b[0;32m   1667\u001b[0m     is_text\u001b[38;5;241m=\u001b[39mis_text,\n\u001b[0;32m   1668\u001b[0m     errors\u001b[38;5;241m=\u001b[39m\u001b[38;5;28mself\u001b[39m\u001b[38;5;241m.\u001b[39moptions\u001b[38;5;241m.\u001b[39mget(\u001b[38;5;124m\"\u001b[39m\u001b[38;5;124mencoding_errors\u001b[39m\u001b[38;5;124m\"\u001b[39m, \u001b[38;5;124m\"\u001b[39m\u001b[38;5;124mstrict\u001b[39m\u001b[38;5;124m\"\u001b[39m),\n\u001b[0;32m   1669\u001b[0m     storage_options\u001b[38;5;241m=\u001b[39m\u001b[38;5;28mself\u001b[39m\u001b[38;5;241m.\u001b[39moptions\u001b[38;5;241m.\u001b[39mget(\u001b[38;5;124m\"\u001b[39m\u001b[38;5;124mstorage_options\u001b[39m\u001b[38;5;124m\"\u001b[39m, \u001b[38;5;28;01mNone\u001b[39;00m),\n\u001b[0;32m   1670\u001b[0m )\n\u001b[0;32m   1671\u001b[0m \u001b[38;5;28;01massert\u001b[39;00m \u001b[38;5;28mself\u001b[39m\u001b[38;5;241m.\u001b[39mhandles \u001b[38;5;129;01mis\u001b[39;00m \u001b[38;5;129;01mnot\u001b[39;00m \u001b[38;5;28;01mNone\u001b[39;00m\n\u001b[0;32m   1672\u001b[0m f \u001b[38;5;241m=\u001b[39m \u001b[38;5;28mself\u001b[39m\u001b[38;5;241m.\u001b[39mhandles\u001b[38;5;241m.\u001b[39mhandle\n",
      "File \u001b[1;32m~\\AppData\\Local\\anaconda3\\Lib\\site-packages\\pandas\\io\\common.py:859\u001b[0m, in \u001b[0;36mget_handle\u001b[1;34m(path_or_buf, mode, encoding, compression, memory_map, is_text, errors, storage_options)\u001b[0m\n\u001b[0;32m    854\u001b[0m \u001b[38;5;28;01melif\u001b[39;00m \u001b[38;5;28misinstance\u001b[39m(handle, \u001b[38;5;28mstr\u001b[39m):\n\u001b[0;32m    855\u001b[0m     \u001b[38;5;66;03m# Check whether the filename is to be opened in binary mode.\u001b[39;00m\n\u001b[0;32m    856\u001b[0m     \u001b[38;5;66;03m# Binary mode does not support 'encoding' and 'newline'.\u001b[39;00m\n\u001b[0;32m    857\u001b[0m     \u001b[38;5;28;01mif\u001b[39;00m ioargs\u001b[38;5;241m.\u001b[39mencoding \u001b[38;5;129;01mand\u001b[39;00m \u001b[38;5;124m\"\u001b[39m\u001b[38;5;124mb\u001b[39m\u001b[38;5;124m\"\u001b[39m \u001b[38;5;129;01mnot\u001b[39;00m \u001b[38;5;129;01min\u001b[39;00m ioargs\u001b[38;5;241m.\u001b[39mmode:\n\u001b[0;32m    858\u001b[0m         \u001b[38;5;66;03m# Encoding\u001b[39;00m\n\u001b[1;32m--> 859\u001b[0m         handle \u001b[38;5;241m=\u001b[39m \u001b[38;5;28mopen\u001b[39m(\n\u001b[0;32m    860\u001b[0m             handle,\n\u001b[0;32m    861\u001b[0m             ioargs\u001b[38;5;241m.\u001b[39mmode,\n\u001b[0;32m    862\u001b[0m             encoding\u001b[38;5;241m=\u001b[39mioargs\u001b[38;5;241m.\u001b[39mencoding,\n\u001b[0;32m    863\u001b[0m             errors\u001b[38;5;241m=\u001b[39merrors,\n\u001b[0;32m    864\u001b[0m             newline\u001b[38;5;241m=\u001b[39m\u001b[38;5;124m\"\u001b[39m\u001b[38;5;124m\"\u001b[39m,\n\u001b[0;32m    865\u001b[0m         )\n\u001b[0;32m    866\u001b[0m     \u001b[38;5;28;01melse\u001b[39;00m:\n\u001b[0;32m    867\u001b[0m         \u001b[38;5;66;03m# Binary mode\u001b[39;00m\n\u001b[0;32m    868\u001b[0m         handle \u001b[38;5;241m=\u001b[39m \u001b[38;5;28mopen\u001b[39m(handle, ioargs\u001b[38;5;241m.\u001b[39mmode)\n",
      "\u001b[1;31mFileNotFoundError\u001b[0m: [Errno 2] No such file or directory: 'true_labels.csv'"
     ]
    }
   ],
   "source": [
    "# Evaluate the model\n",
    "from sklearn.metrics import accuracy_score\n",
    "\n",
    "# Load the true labels for the test data\n",
    "true_labels = pd.read_csv('true_labels.csv')['label']\n",
    "\n",
    "# Calculate the model's accuracy on the test data\n",
    "test_accuracy = accuracy_score(true_labels, predictions)\n",
    "print(\"Test Accuracy:\", test_accuracy)\n",
    "\n",
    "# Hypothesis Testing\n",
    "baseline_accuracy = 0.5  # Hypothetical baseline accuracy for random guessing\n",
    "\n",
    "# Perform hypothesis testing (e.g., using t-test or chi-square test) to determine if the model's accuracy is significantly different from baseline\n",
    "# Add your hypothesis testing code here\n",
    "\n",
    "# Print the results of hypothesis testing\n",
    "print(\"Results of Hypothesis Testing:\")\n",
    "# Add code to print the results of hypothesis testing\n"
   ]
  },
  {
   "cell_type": "code",
   "execution_count": null,
   "id": "36595af3",
   "metadata": {},
   "outputs": [],
   "source": []
  },
  {
   "cell_type": "code",
   "execution_count": null,
   "id": "66e2e1eb",
   "metadata": {},
   "outputs": [],
   "source": []
  }
 ],
 "metadata": {
  "kernelspec": {
   "display_name": "Python 3 (ipykernel)",
   "language": "python",
   "name": "python3"
  },
  "language_info": {
   "codemirror_mode": {
    "name": "ipython",
    "version": 3
   },
   "file_extension": ".py",
   "mimetype": "text/x-python",
   "name": "python",
   "nbconvert_exporter": "python",
   "pygments_lexer": "ipython3",
   "version": "3.11.5"
  }
 },
 "nbformat": 4,
 "nbformat_minor": 5
}
