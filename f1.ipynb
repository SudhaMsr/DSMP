{
 "cells": [
  {
   "cell_type": "code",
   "execution_count": null,
   "id": "72750617",
   "metadata": {},
   "outputs": [],
   "source": []
  },
  {
   "cell_type": "code",
   "execution_count": null,
   "id": "91702c73",
   "metadata": {},
   "outputs": [],
   "source": []
  },
  {
   "cell_type": "markdown",
   "id": "165aac8a",
   "metadata": {},
   "source": [
    "## Import required libraries:"
   ]
  },
  {
   "cell_type": "code",
   "execution_count": 1,
   "id": "83dc427f",
   "metadata": {},
   "outputs": [],
   "source": [
    "import warnings\n",
    "warnings.filterwarnings('ignore')\n",
    "import pandas as pd\n",
    "import numpy as np\n",
    "import matplotlib.pyplot as plt\n",
    "import seaborn as sns\n",
    "%matplotlib inline"
   ]
  },
  {
   "cell_type": "markdown",
   "id": "d3b76734",
   "metadata": {},
   "source": [
    "## Load dataset"
   ]
  },
  {
   "cell_type": "code",
   "execution_count": 2,
   "id": "5a1009bf",
   "metadata": {
    "scrolled": true
   },
   "outputs": [
    {
     "data": {
      "text/html": [
       "<div>\n",
       "<style scoped>\n",
       "    .dataframe tbody tr th:only-of-type {\n",
       "        vertical-align: middle;\n",
       "    }\n",
       "\n",
       "    .dataframe tbody tr th {\n",
       "        vertical-align: top;\n",
       "    }\n",
       "\n",
       "    .dataframe thead th {\n",
       "        text-align: right;\n",
       "    }\n",
       "</style>\n",
       "<table border=\"1\" class=\"dataframe\">\n",
       "  <thead>\n",
       "    <tr style=\"text-align: right;\">\n",
       "      <th></th>\n",
       "      <th>from_totally_fake_account</th>\n",
       "      <th>monopoly_money_amount</th>\n",
       "      <th>to_randomly_generated_account</th>\n",
       "      <th>not_happened_yet_date</th>\n",
       "    </tr>\n",
       "  </thead>\n",
       "  <tbody>\n",
       "    <tr>\n",
       "      <th>0</th>\n",
       "      <td>10371.0</td>\n",
       "      <td>4.00</td>\n",
       "      <td>CINEMA</td>\n",
       "      <td>01/01/2025</td>\n",
       "    </tr>\n",
       "    <tr>\n",
       "      <th>1</th>\n",
       "      <td>88339.0</td>\n",
       "      <td>2.40</td>\n",
       "      <td>40544</td>\n",
       "      <td>01/01/2025</td>\n",
       "    </tr>\n",
       "    <tr>\n",
       "      <th>2</th>\n",
       "      <td>18555.0</td>\n",
       "      <td>2.40</td>\n",
       "      <td>85149</td>\n",
       "      <td>01/01/2025</td>\n",
       "    </tr>\n",
       "    <tr>\n",
       "      <th>3</th>\n",
       "      <td>18555.0</td>\n",
       "      <td>4.10</td>\n",
       "      <td>HIPSTER_COFFEE_SHOP</td>\n",
       "      <td>01/01/2025</td>\n",
       "    </tr>\n",
       "    <tr>\n",
       "      <th>4</th>\n",
       "      <td>80792.0</td>\n",
       "      <td>1.95</td>\n",
       "      <td>18555</td>\n",
       "      <td>01/01/2025</td>\n",
       "    </tr>\n",
       "  </tbody>\n",
       "</table>\n",
       "</div>"
      ],
      "text/plain": [
       "   from_totally_fake_account  monopoly_money_amount  \\\n",
       "0                    10371.0                   4.00   \n",
       "1                    88339.0                   2.40   \n",
       "2                    18555.0                   2.40   \n",
       "3                    18555.0                   4.10   \n",
       "4                    80792.0                   1.95   \n",
       "\n",
       "  to_randomly_generated_account not_happened_yet_date  \n",
       "0                        CINEMA            01/01/2025  \n",
       "1                         40544            01/01/2025  \n",
       "2                         85149            01/01/2025  \n",
       "3           HIPSTER_COFFEE_SHOP            01/01/2025  \n",
       "4                         18555            01/01/2025  "
      ]
     },
     "execution_count": 2,
     "metadata": {},
     "output_type": "execute_result"
    }
   ],
   "source": [
    "## load data set\n",
    "data = pd.read_csv('fake_transactional_data_24.csv')\n",
    "## head\n",
    "data.head()"
   ]
  },
  {
   "cell_type": "markdown",
   "id": "5c3f1c44",
   "metadata": {},
   "source": [
    "## Explore data "
   ]
  },
  {
   "cell_type": "code",
   "execution_count": 3,
   "id": "cff2d6dd",
   "metadata": {},
   "outputs": [
    {
     "data": {
      "text/plain": [
       "(10148280, 4)"
      ]
     },
     "execution_count": 3,
     "metadata": {},
     "output_type": "execute_result"
    }
   ],
   "source": [
    "data.shape"
   ]
  },
  {
   "cell_type": "code",
   "execution_count": 4,
   "id": "79d1ceed",
   "metadata": {},
   "outputs": [
    {
     "name": "stdout",
     "output_type": "stream",
     "text": [
      "<class 'pandas.core.frame.DataFrame'>\n",
      "RangeIndex: 10148280 entries, 0 to 10148279\n",
      "Data columns (total 4 columns):\n",
      " #   Column                         Dtype  \n",
      "---  ------                         -----  \n",
      " 0   from_totally_fake_account      float64\n",
      " 1   monopoly_money_amount          float64\n",
      " 2   to_randomly_generated_account  object \n",
      " 3   not_happened_yet_date          object \n",
      "dtypes: float64(2), object(2)\n",
      "memory usage: 309.7+ MB\n"
     ]
    }
   ],
   "source": [
    "data.info()"
   ]
  },
  {
   "cell_type": "code",
   "execution_count": 5,
   "id": "bdf1105b",
   "metadata": {},
   "outputs": [
    {
     "data": {
      "text/plain": [
       "from_totally_fake_account        float64\n",
       "monopoly_money_amount            float64\n",
       "to_randomly_generated_account     object\n",
       "not_happened_yet_date             object\n",
       "dtype: object"
      ]
     },
     "execution_count": 5,
     "metadata": {},
     "output_type": "execute_result"
    }
   ],
   "source": [
    "data.dtypes"
   ]
  },
  {
   "cell_type": "code",
   "execution_count": 6,
   "id": "37f9ca8a",
   "metadata": {},
   "outputs": [
    {
     "data": {
      "text/plain": [
       "Index(['from_totally_fake_account', 'monopoly_money_amount',\n",
       "       'to_randomly_generated_account', 'not_happened_yet_date'],\n",
       "      dtype='object')"
      ]
     },
     "execution_count": 6,
     "metadata": {},
     "output_type": "execute_result"
    }
   ],
   "source": [
    "data.columns "
   ]
  },
  {
   "cell_type": "code",
   "execution_count": null,
   "id": "061fad1b",
   "metadata": {},
   "outputs": [],
   "source": []
  },
  {
   "cell_type": "code",
   "execution_count": null,
   "id": "2223a79d",
   "metadata": {},
   "outputs": [],
   "source": []
  },
  {
   "cell_type": "markdown",
   "id": "042f11b0",
   "metadata": {},
   "source": [
    "## Missing values "
   ]
  },
  {
   "cell_type": "code",
   "execution_count": 7,
   "id": "556cab39",
   "metadata": {},
   "outputs": [
    {
     "data": {
      "text/html": [
       "<div>\n",
       "<style scoped>\n",
       "    .dataframe tbody tr th:only-of-type {\n",
       "        vertical-align: middle;\n",
       "    }\n",
       "\n",
       "    .dataframe tbody tr th {\n",
       "        vertical-align: top;\n",
       "    }\n",
       "\n",
       "    .dataframe thead th {\n",
       "        text-align: right;\n",
       "    }\n",
       "</style>\n",
       "<table border=\"1\" class=\"dataframe\">\n",
       "  <thead>\n",
       "    <tr style=\"text-align: right;\">\n",
       "      <th></th>\n",
       "      <th>from_totally_fake_account</th>\n",
       "      <th>monopoly_money_amount</th>\n",
       "      <th>to_randomly_generated_account</th>\n",
       "      <th>not_happened_yet_date</th>\n",
       "    </tr>\n",
       "  </thead>\n",
       "  <tbody>\n",
       "    <tr>\n",
       "      <th>0</th>\n",
       "      <td>False</td>\n",
       "      <td>False</td>\n",
       "      <td>False</td>\n",
       "      <td>False</td>\n",
       "    </tr>\n",
       "    <tr>\n",
       "      <th>1</th>\n",
       "      <td>False</td>\n",
       "      <td>False</td>\n",
       "      <td>False</td>\n",
       "      <td>False</td>\n",
       "    </tr>\n",
       "    <tr>\n",
       "      <th>2</th>\n",
       "      <td>False</td>\n",
       "      <td>False</td>\n",
       "      <td>False</td>\n",
       "      <td>False</td>\n",
       "    </tr>\n",
       "    <tr>\n",
       "      <th>3</th>\n",
       "      <td>False</td>\n",
       "      <td>False</td>\n",
       "      <td>False</td>\n",
       "      <td>False</td>\n",
       "    </tr>\n",
       "    <tr>\n",
       "      <th>4</th>\n",
       "      <td>False</td>\n",
       "      <td>False</td>\n",
       "      <td>False</td>\n",
       "      <td>False</td>\n",
       "    </tr>\n",
       "    <tr>\n",
       "      <th>...</th>\n",
       "      <td>...</td>\n",
       "      <td>...</td>\n",
       "      <td>...</td>\n",
       "      <td>...</td>\n",
       "    </tr>\n",
       "    <tr>\n",
       "      <th>10148275</th>\n",
       "      <td>False</td>\n",
       "      <td>False</td>\n",
       "      <td>False</td>\n",
       "      <td>False</td>\n",
       "    </tr>\n",
       "    <tr>\n",
       "      <th>10148276</th>\n",
       "      <td>False</td>\n",
       "      <td>False</td>\n",
       "      <td>False</td>\n",
       "      <td>False</td>\n",
       "    </tr>\n",
       "    <tr>\n",
       "      <th>10148277</th>\n",
       "      <td>False</td>\n",
       "      <td>False</td>\n",
       "      <td>False</td>\n",
       "      <td>False</td>\n",
       "    </tr>\n",
       "    <tr>\n",
       "      <th>10148278</th>\n",
       "      <td>False</td>\n",
       "      <td>False</td>\n",
       "      <td>False</td>\n",
       "      <td>False</td>\n",
       "    </tr>\n",
       "    <tr>\n",
       "      <th>10148279</th>\n",
       "      <td>False</td>\n",
       "      <td>False</td>\n",
       "      <td>False</td>\n",
       "      <td>False</td>\n",
       "    </tr>\n",
       "  </tbody>\n",
       "</table>\n",
       "<p>10148280 rows × 4 columns</p>\n",
       "</div>"
      ],
      "text/plain": [
       "          from_totally_fake_account  monopoly_money_amount  \\\n",
       "0                             False                  False   \n",
       "1                             False                  False   \n",
       "2                             False                  False   \n",
       "3                             False                  False   \n",
       "4                             False                  False   \n",
       "...                             ...                    ...   \n",
       "10148275                      False                  False   \n",
       "10148276                      False                  False   \n",
       "10148277                      False                  False   \n",
       "10148278                      False                  False   \n",
       "10148279                      False                  False   \n",
       "\n",
       "          to_randomly_generated_account  not_happened_yet_date  \n",
       "0                                 False                  False  \n",
       "1                                 False                  False  \n",
       "2                                 False                  False  \n",
       "3                                 False                  False  \n",
       "4                                 False                  False  \n",
       "...                                 ...                    ...  \n",
       "10148275                          False                  False  \n",
       "10148276                          False                  False  \n",
       "10148277                          False                  False  \n",
       "10148278                          False                  False  \n",
       "10148279                          False                  False  \n",
       "\n",
       "[10148280 rows x 4 columns]"
      ]
     },
     "execution_count": 7,
     "metadata": {},
     "output_type": "execute_result"
    }
   ],
   "source": [
    "data.isnull()"
   ]
  },
  {
   "cell_type": "code",
   "execution_count": 8,
   "id": "dd9b5cdf",
   "metadata": {},
   "outputs": [
    {
     "name": "stdout",
     "output_type": "stream",
     "text": [
      "Missing Values:\n",
      " from_totally_fake_account        0\n",
      "monopoly_money_amount            0\n",
      "to_randomly_generated_account    0\n",
      "not_happened_yet_date            0\n",
      "dtype: int64\n"
     ]
    }
   ],
   "source": [
    "missing_values = data.isnull().sum()\n",
    "print(\"Missing Values:\\n\", missing_values)"
   ]
  },
  {
   "cell_type": "markdown",
   "id": "aaeaba10",
   "metadata": {},
   "source": [
    "### Statistical information of given data"
   ]
  },
  {
   "cell_type": "code",
   "execution_count": 9,
   "id": "c54f0b10",
   "metadata": {},
   "outputs": [
    {
     "data": {
      "text/html": [
       "<div>\n",
       "<style scoped>\n",
       "    .dataframe tbody tr th:only-of-type {\n",
       "        vertical-align: middle;\n",
       "    }\n",
       "\n",
       "    .dataframe tbody tr th {\n",
       "        vertical-align: top;\n",
       "    }\n",
       "\n",
       "    .dataframe thead th {\n",
       "        text-align: right;\n",
       "    }\n",
       "</style>\n",
       "<table border=\"1\" class=\"dataframe\">\n",
       "  <thead>\n",
       "    <tr style=\"text-align: right;\">\n",
       "      <th></th>\n",
       "      <th>from_totally_fake_account</th>\n",
       "      <th>monopoly_money_amount</th>\n",
       "    </tr>\n",
       "  </thead>\n",
       "  <tbody>\n",
       "    <tr>\n",
       "      <th>count</th>\n",
       "      <td>1.014828e+07</td>\n",
       "      <td>1.014828e+07</td>\n",
       "    </tr>\n",
       "    <tr>\n",
       "      <th>mean</th>\n",
       "      <td>5.080502e+04</td>\n",
       "      <td>1.839348e+01</td>\n",
       "    </tr>\n",
       "    <tr>\n",
       "      <th>std</th>\n",
       "      <td>2.893710e+04</td>\n",
       "      <td>8.612323e+01</td>\n",
       "    </tr>\n",
       "    <tr>\n",
       "      <th>min</th>\n",
       "      <td>1.000000e+03</td>\n",
       "      <td>1.450000e+00</td>\n",
       "    </tr>\n",
       "    <tr>\n",
       "      <th>25%</th>\n",
       "      <td>2.530400e+04</td>\n",
       "      <td>2.650000e+00</td>\n",
       "    </tr>\n",
       "    <tr>\n",
       "      <th>50%</th>\n",
       "      <td>5.078100e+04</td>\n",
       "      <td>6.000000e+00</td>\n",
       "    </tr>\n",
       "    <tr>\n",
       "      <th>75%</th>\n",
       "      <td>7.563300e+04</td>\n",
       "      <td>1.200000e+01</td>\n",
       "    </tr>\n",
       "    <tr>\n",
       "      <th>max</th>\n",
       "      <td>1.009880e+05</td>\n",
       "      <td>1.995000e+03</td>\n",
       "    </tr>\n",
       "  </tbody>\n",
       "</table>\n",
       "</div>"
      ],
      "text/plain": [
       "       from_totally_fake_account  monopoly_money_amount\n",
       "count               1.014828e+07           1.014828e+07\n",
       "mean                5.080502e+04           1.839348e+01\n",
       "std                 2.893710e+04           8.612323e+01\n",
       "min                 1.000000e+03           1.450000e+00\n",
       "25%                 2.530400e+04           2.650000e+00\n",
       "50%                 5.078100e+04           6.000000e+00\n",
       "75%                 7.563300e+04           1.200000e+01\n",
       "max                 1.009880e+05           1.995000e+03"
      ]
     },
     "execution_count": 9,
     "metadata": {},
     "output_type": "execute_result"
    }
   ],
   "source": [
    "data.describe()"
   ]
  },
  {
   "cell_type": "code",
   "execution_count": 10,
   "id": "468dba2e",
   "metadata": {},
   "outputs": [
    {
     "data": {
      "text/html": [
       "<div>\n",
       "<style scoped>\n",
       "    .dataframe tbody tr th:only-of-type {\n",
       "        vertical-align: middle;\n",
       "    }\n",
       "\n",
       "    .dataframe tbody tr th {\n",
       "        vertical-align: top;\n",
       "    }\n",
       "\n",
       "    .dataframe thead th {\n",
       "        text-align: right;\n",
       "    }\n",
       "</style>\n",
       "<table border=\"1\" class=\"dataframe\">\n",
       "  <thead>\n",
       "    <tr style=\"text-align: right;\">\n",
       "      <th></th>\n",
       "      <th>count</th>\n",
       "      <th>mean</th>\n",
       "      <th>std</th>\n",
       "      <th>min</th>\n",
       "      <th>25%</th>\n",
       "      <th>50%</th>\n",
       "      <th>75%</th>\n",
       "      <th>max</th>\n",
       "    </tr>\n",
       "  </thead>\n",
       "  <tbody>\n",
       "    <tr>\n",
       "      <th>from_totally_fake_account</th>\n",
       "      <td>10148280.0</td>\n",
       "      <td>50805.021701</td>\n",
       "      <td>28937.100678</td>\n",
       "      <td>1000.00</td>\n",
       "      <td>25304.00</td>\n",
       "      <td>50781.0</td>\n",
       "      <td>75633.0</td>\n",
       "      <td>100988.0</td>\n",
       "    </tr>\n",
       "    <tr>\n",
       "      <th>monopoly_money_amount</th>\n",
       "      <td>10148280.0</td>\n",
       "      <td>18.393485</td>\n",
       "      <td>86.123232</td>\n",
       "      <td>1.45</td>\n",
       "      <td>2.65</td>\n",
       "      <td>6.0</td>\n",
       "      <td>12.0</td>\n",
       "      <td>1995.0</td>\n",
       "    </tr>\n",
       "  </tbody>\n",
       "</table>\n",
       "</div>"
      ],
      "text/plain": [
       "                                count          mean           std      min  \\\n",
       "from_totally_fake_account  10148280.0  50805.021701  28937.100678  1000.00   \n",
       "monopoly_money_amount      10148280.0     18.393485     86.123232     1.45   \n",
       "\n",
       "                                25%      50%      75%       max  \n",
       "from_totally_fake_account  25304.00  50781.0  75633.0  100988.0  \n",
       "monopoly_money_amount          2.65      6.0     12.0    1995.0  "
      ]
     },
     "execution_count": 10,
     "metadata": {},
     "output_type": "execute_result"
    }
   ],
   "source": [
    "data.describe().transpose()"
   ]
  },
  {
   "cell_type": "code",
   "execution_count": 11,
   "id": "153b6b0b",
   "metadata": {},
   "outputs": [
    {
     "data": {
      "text/html": [
       "<div>\n",
       "<style scoped>\n",
       "    .dataframe tbody tr th:only-of-type {\n",
       "        vertical-align: middle;\n",
       "    }\n",
       "\n",
       "    .dataframe tbody tr th {\n",
       "        vertical-align: top;\n",
       "    }\n",
       "\n",
       "    .dataframe thead th {\n",
       "        text-align: right;\n",
       "    }\n",
       "</style>\n",
       "<table border=\"1\" class=\"dataframe\">\n",
       "  <thead>\n",
       "    <tr style=\"text-align: right;\">\n",
       "      <th></th>\n",
       "      <th>to_randomly_generated_account</th>\n",
       "      <th>not_happened_yet_date</th>\n",
       "    </tr>\n",
       "  </thead>\n",
       "  <tbody>\n",
       "    <tr>\n",
       "      <th>count</th>\n",
       "      <td>10148280</td>\n",
       "      <td>10148280</td>\n",
       "    </tr>\n",
       "    <tr>\n",
       "      <th>unique</th>\n",
       "      <td>14300</td>\n",
       "      <td>364</td>\n",
       "    </tr>\n",
       "    <tr>\n",
       "      <th>top</th>\n",
       "      <td>PUB</td>\n",
       "      <td>12/12/2025</td>\n",
       "    </tr>\n",
       "    <tr>\n",
       "      <th>freq</th>\n",
       "      <td>834380</td>\n",
       "      <td>52379</td>\n",
       "    </tr>\n",
       "  </tbody>\n",
       "</table>\n",
       "</div>"
      ],
      "text/plain": [
       "       to_randomly_generated_account not_happened_yet_date\n",
       "count                       10148280              10148280\n",
       "unique                         14300                   364\n",
       "top                              PUB            12/12/2025\n",
       "freq                          834380                 52379"
      ]
     },
     "execution_count": 11,
     "metadata": {},
     "output_type": "execute_result"
    }
   ],
   "source": [
    "data.describe(include=['O'])"
   ]
  },
  {
   "cell_type": "code",
   "execution_count": 12,
   "id": "bd6cb5f6",
   "metadata": {},
   "outputs": [
    {
     "data": {
      "text/html": [
       "<div>\n",
       "<style scoped>\n",
       "    .dataframe tbody tr th:only-of-type {\n",
       "        vertical-align: middle;\n",
       "    }\n",
       "\n",
       "    .dataframe tbody tr th {\n",
       "        vertical-align: top;\n",
       "    }\n",
       "\n",
       "    .dataframe thead th {\n",
       "        text-align: right;\n",
       "    }\n",
       "</style>\n",
       "<table border=\"1\" class=\"dataframe\">\n",
       "  <thead>\n",
       "    <tr style=\"text-align: right;\">\n",
       "      <th></th>\n",
       "      <th>from_totally_fake_account</th>\n",
       "      <th>monopoly_money_amount</th>\n",
       "    </tr>\n",
       "  </thead>\n",
       "  <tbody>\n",
       "    <tr>\n",
       "      <th>count</th>\n",
       "      <td>10148280</td>\n",
       "      <td>10148280</td>\n",
       "    </tr>\n",
       "    <tr>\n",
       "      <th>mean</th>\n",
       "      <td>50805</td>\n",
       "      <td>18</td>\n",
       "    </tr>\n",
       "    <tr>\n",
       "      <th>std</th>\n",
       "      <td>28937</td>\n",
       "      <td>86</td>\n",
       "    </tr>\n",
       "    <tr>\n",
       "      <th>min</th>\n",
       "      <td>1000</td>\n",
       "      <td>1</td>\n",
       "    </tr>\n",
       "    <tr>\n",
       "      <th>25%</th>\n",
       "      <td>25304</td>\n",
       "      <td>2</td>\n",
       "    </tr>\n",
       "    <tr>\n",
       "      <th>50%</th>\n",
       "      <td>50781</td>\n",
       "      <td>6</td>\n",
       "    </tr>\n",
       "    <tr>\n",
       "      <th>75%</th>\n",
       "      <td>75633</td>\n",
       "      <td>12</td>\n",
       "    </tr>\n",
       "    <tr>\n",
       "      <th>max</th>\n",
       "      <td>100988</td>\n",
       "      <td>1995</td>\n",
       "    </tr>\n",
       "  </tbody>\n",
       "</table>\n",
       "</div>"
      ],
      "text/plain": [
       "       from_totally_fake_account  monopoly_money_amount\n",
       "count                   10148280               10148280\n",
       "mean                       50805                     18\n",
       "std                        28937                     86\n",
       "min                         1000                      1\n",
       "25%                        25304                      2\n",
       "50%                        50781                      6\n",
       "75%                        75633                     12\n",
       "max                       100988                   1995"
      ]
     },
     "execution_count": 12,
     "metadata": {},
     "output_type": "execute_result"
    }
   ],
   "source": [
    "data.describe().astype(int)"
   ]
  },
  {
   "cell_type": "code",
   "execution_count": 13,
   "id": "f350dccb",
   "metadata": {
    "scrolled": true
   },
   "outputs": [
    {
     "data": {
      "text/html": [
       "<div>\n",
       "<style scoped>\n",
       "    .dataframe tbody tr th:only-of-type {\n",
       "        vertical-align: middle;\n",
       "    }\n",
       "\n",
       "    .dataframe tbody tr th {\n",
       "        vertical-align: top;\n",
       "    }\n",
       "\n",
       "    .dataframe thead th {\n",
       "        text-align: right;\n",
       "    }\n",
       "</style>\n",
       "<table border=\"1\" class=\"dataframe\">\n",
       "  <thead>\n",
       "    <tr style=\"text-align: right;\">\n",
       "      <th></th>\n",
       "      <th>from_totally_fake_account</th>\n",
       "      <th>monopoly_money_amount</th>\n",
       "      <th>to_randomly_generated_account</th>\n",
       "      <th>not_happened_yet_date</th>\n",
       "    </tr>\n",
       "  </thead>\n",
       "  <tbody>\n",
       "    <tr>\n",
       "      <th>count</th>\n",
       "      <td>1.014828e+07</td>\n",
       "      <td>1.014828e+07</td>\n",
       "      <td>10148280</td>\n",
       "      <td>10148280</td>\n",
       "    </tr>\n",
       "    <tr>\n",
       "      <th>unique</th>\n",
       "      <td>NaN</td>\n",
       "      <td>NaN</td>\n",
       "      <td>14300</td>\n",
       "      <td>364</td>\n",
       "    </tr>\n",
       "    <tr>\n",
       "      <th>top</th>\n",
       "      <td>NaN</td>\n",
       "      <td>NaN</td>\n",
       "      <td>PUB</td>\n",
       "      <td>12/12/2025</td>\n",
       "    </tr>\n",
       "    <tr>\n",
       "      <th>freq</th>\n",
       "      <td>NaN</td>\n",
       "      <td>NaN</td>\n",
       "      <td>834380</td>\n",
       "      <td>52379</td>\n",
       "    </tr>\n",
       "    <tr>\n",
       "      <th>mean</th>\n",
       "      <td>5.080502e+04</td>\n",
       "      <td>1.839348e+01</td>\n",
       "      <td>NaN</td>\n",
       "      <td>NaN</td>\n",
       "    </tr>\n",
       "    <tr>\n",
       "      <th>std</th>\n",
       "      <td>2.893710e+04</td>\n",
       "      <td>8.612323e+01</td>\n",
       "      <td>NaN</td>\n",
       "      <td>NaN</td>\n",
       "    </tr>\n",
       "    <tr>\n",
       "      <th>min</th>\n",
       "      <td>1.000000e+03</td>\n",
       "      <td>1.450000e+00</td>\n",
       "      <td>NaN</td>\n",
       "      <td>NaN</td>\n",
       "    </tr>\n",
       "    <tr>\n",
       "      <th>25%</th>\n",
       "      <td>2.530400e+04</td>\n",
       "      <td>2.650000e+00</td>\n",
       "      <td>NaN</td>\n",
       "      <td>NaN</td>\n",
       "    </tr>\n",
       "    <tr>\n",
       "      <th>50%</th>\n",
       "      <td>5.078100e+04</td>\n",
       "      <td>6.000000e+00</td>\n",
       "      <td>NaN</td>\n",
       "      <td>NaN</td>\n",
       "    </tr>\n",
       "    <tr>\n",
       "      <th>75%</th>\n",
       "      <td>7.563300e+04</td>\n",
       "      <td>1.200000e+01</td>\n",
       "      <td>NaN</td>\n",
       "      <td>NaN</td>\n",
       "    </tr>\n",
       "    <tr>\n",
       "      <th>max</th>\n",
       "      <td>1.009880e+05</td>\n",
       "      <td>1.995000e+03</td>\n",
       "      <td>NaN</td>\n",
       "      <td>NaN</td>\n",
       "    </tr>\n",
       "  </tbody>\n",
       "</table>\n",
       "</div>"
      ],
      "text/plain": [
       "        from_totally_fake_account  monopoly_money_amount  \\\n",
       "count                1.014828e+07           1.014828e+07   \n",
       "unique                        NaN                    NaN   \n",
       "top                           NaN                    NaN   \n",
       "freq                          NaN                    NaN   \n",
       "mean                 5.080502e+04           1.839348e+01   \n",
       "std                  2.893710e+04           8.612323e+01   \n",
       "min                  1.000000e+03           1.450000e+00   \n",
       "25%                  2.530400e+04           2.650000e+00   \n",
       "50%                  5.078100e+04           6.000000e+00   \n",
       "75%                  7.563300e+04           1.200000e+01   \n",
       "max                  1.009880e+05           1.995000e+03   \n",
       "\n",
       "       to_randomly_generated_account not_happened_yet_date  \n",
       "count                       10148280              10148280  \n",
       "unique                         14300                   364  \n",
       "top                              PUB            12/12/2025  \n",
       "freq                          834380                 52379  \n",
       "mean                             NaN                   NaN  \n",
       "std                              NaN                   NaN  \n",
       "min                              NaN                   NaN  \n",
       "25%                              NaN                   NaN  \n",
       "50%                              NaN                   NaN  \n",
       "75%                              NaN                   NaN  \n",
       "max                              NaN                   NaN  "
      ]
     },
     "execution_count": 13,
     "metadata": {},
     "output_type": "execute_result"
    }
   ],
   "source": [
    "data.describe(include='all')"
   ]
  },
  {
   "cell_type": "code",
   "execution_count": 14,
   "id": "57e5a13f",
   "metadata": {},
   "outputs": [],
   "source": [
    "#data.transpose()"
   ]
  },
  {
   "cell_type": "code",
   "execution_count": null,
   "id": "2cc6f5e0",
   "metadata": {},
   "outputs": [],
   "source": [
    "##sns.heatmap(data.corr(),annot=True)-- char to int"
   ]
  },
  {
   "cell_type": "code",
   "execution_count": null,
   "id": "28ce72ed",
   "metadata": {},
   "outputs": [],
   "source": [
    "## convert data (char to int) to plot heatmap"
   ]
  },
  {
   "cell_type": "code",
   "execution_count": null,
   "id": "1345f589",
   "metadata": {},
   "outputs": [],
   "source": []
  },
  {
   "cell_type": "code",
   "execution_count": 15,
   "id": "0ad26a3e",
   "metadata": {},
   "outputs": [],
   "source": [
    "## float to integer\n",
    "data['from_totally_fake_account'] = data['from_totally_fake_account'].astype(int)"
   ]
  },
  {
   "cell_type": "code",
   "execution_count": 16,
   "id": "577d36d2",
   "metadata": {},
   "outputs": [],
   "source": [
    "# nearest integer/ rounding\n",
    "data['monopoly_money_amount'] = data['monopoly_money_amount'].round().astype(int)"
   ]
  },
  {
   "cell_type": "code",
   "execution_count": 17,
   "id": "d524b1ed",
   "metadata": {},
   "outputs": [
    {
     "data": {
      "text/html": [
       "<div>\n",
       "<style scoped>\n",
       "    .dataframe tbody tr th:only-of-type {\n",
       "        vertical-align: middle;\n",
       "    }\n",
       "\n",
       "    .dataframe tbody tr th {\n",
       "        vertical-align: top;\n",
       "    }\n",
       "\n",
       "    .dataframe thead th {\n",
       "        text-align: right;\n",
       "    }\n",
       "</style>\n",
       "<table border=\"1\" class=\"dataframe\">\n",
       "  <thead>\n",
       "    <tr style=\"text-align: right;\">\n",
       "      <th></th>\n",
       "      <th>from_totally_fake_account</th>\n",
       "      <th>monopoly_money_amount</th>\n",
       "      <th>to_randomly_generated_account</th>\n",
       "      <th>not_happened_yet_date</th>\n",
       "    </tr>\n",
       "  </thead>\n",
       "  <tbody>\n",
       "    <tr>\n",
       "      <th>0</th>\n",
       "      <td>10371</td>\n",
       "      <td>4</td>\n",
       "      <td>CINEMA</td>\n",
       "      <td>01/01/2025</td>\n",
       "    </tr>\n",
       "    <tr>\n",
       "      <th>1</th>\n",
       "      <td>88339</td>\n",
       "      <td>2</td>\n",
       "      <td>40544</td>\n",
       "      <td>01/01/2025</td>\n",
       "    </tr>\n",
       "    <tr>\n",
       "      <th>2</th>\n",
       "      <td>18555</td>\n",
       "      <td>2</td>\n",
       "      <td>85149</td>\n",
       "      <td>01/01/2025</td>\n",
       "    </tr>\n",
       "  </tbody>\n",
       "</table>\n",
       "</div>"
      ],
      "text/plain": [
       "   from_totally_fake_account  monopoly_money_amount  \\\n",
       "0                      10371                      4   \n",
       "1                      88339                      2   \n",
       "2                      18555                      2   \n",
       "\n",
       "  to_randomly_generated_account not_happened_yet_date  \n",
       "0                        CINEMA            01/01/2025  \n",
       "1                         40544            01/01/2025  \n",
       "2                         85149            01/01/2025  "
      ]
     },
     "execution_count": 17,
     "metadata": {},
     "output_type": "execute_result"
    }
   ],
   "source": [
    "data.head(3)"
   ]
  },
  {
   "cell_type": "code",
   "execution_count": 18,
   "id": "b702ce86",
   "metadata": {
    "scrolled": true
   },
   "outputs": [
    {
     "data": {
      "text/plain": [
       "<Axes: >"
      ]
     },
     "execution_count": 18,
     "metadata": {},
     "output_type": "execute_result"
    },
    {
     "data": {
      "image/png": "[encoded data removed]",
      "text/plain": [
       "<Figure size 640x480 with 2 Axes>"
      ]
     },
     "metadata": {},
     "output_type": "display_data"
    }
   ],
   "source": [
    "sns.heatmap(data.corr(),annot=True)"
   ]
  },
  {
   "cell_type": "code",
   "execution_count": null,
   "id": "1e641778",
   "metadata": {},
   "outputs": [],
   "source": []
  },
  {
   "cell_type": "code",
   "execution_count": null,
   "id": "87c85701",
   "metadata": {},
   "outputs": [],
   "source": []
  },
  {
   "cell_type": "markdown",
   "id": "421e6a34",
   "metadata": {},
   "source": [
    "## Visualisations:"
   ]
  },
  {
   "cell_type": "code",
   "execution_count": null,
   "id": "f3b76137",
   "metadata": {},
   "outputs": [],
   "source": [
    "import pandas as pd\n",
    "import seaborn as sns\n",
    "\n",
    "# Replace the following line with your actual data\n",
    "# data = {'from_totally_fake_account': [...], 'monopoly_money_amount': [...]}\n",
    "\n",
    "# Create a DataFrame with your data\n",
    "# df = pd.DataFrame(data)\n",
    "\n",
    "# Pair plot for the first two columns\n",
    "sns.pairplot(data[['from_totally_fake_account', 'monopoly_money_amount']])\n",
    "plt.show()"
   ]
  },
  {
   "cell_type": "code",
   "execution_count": null,
   "id": "81fb12e3",
   "metadata": {},
   "outputs": [],
   "source": [
    "import pandas as pd\n",
    "import matplotlib.pyplot as plt\n",
    "\n",
    "# Scatter plot\n",
    "plt.figure(figsize=(8, 6))\n",
    "plt.scatter(data['from_totally_fake_account'], data['monopoly_money_amount'], alpha=0.01)\n",
    "plt.xlabel('From Totally Fake Account')\n",
    "plt.ylabel('Monopoly Money Amount')\n",
    "plt.title('Relationship between From Totally Fake Account and Monopoly Money Amount')\n",
    "plt.grid(True)\n",
    "plt.show()\n"
   ]
  },
  {
   "cell_type": "code",
   "execution_count": null,
   "id": "cad989da",
   "metadata": {},
   "outputs": [],
   "source": []
  },
  {
   "cell_type": "code",
   "execution_count": null,
   "id": "244e214c",
   "metadata": {},
   "outputs": [],
   "source": []
  },
  {
   "cell_type": "code",
   "execution_count": null,
   "id": "5c62d4ba",
   "metadata": {},
   "outputs": [],
   "source": []
  },
  {
   "cell_type": "code",
   "execution_count": null,
   "id": "e74e9c96",
   "metadata": {},
   "outputs": [],
   "source": []
  },
  {
   "cell_type": "markdown",
   "id": "30547708",
   "metadata": {},
   "source": [
    "# Customer segmentation\n",
    "1. Segmentation by 'Monopoly Money Amount' (Transaction Amount of user)\n",
    "2. Segmentation by (count) Transaction Frequency (No. of transactions)\n",
    "3. Segmentation by 'To Randomly Generated Account' (to whoom they are paying)\n",
    "4. Segmentation by Date (On which date)\n",
    "5. Combination of Segmentation Criteria (To get targets)"
   ]
  },
  {
   "cell_type": "code",
   "execution_count": null,
   "id": "b072da74",
   "metadata": {},
   "outputs": [],
   "source": []
  },
  {
   "cell_type": "code",
   "execution_count": null,
   "id": "84bb0a73",
   "metadata": {},
   "outputs": [],
   "source": []
  },
  {
   "cell_type": "markdown",
   "id": "1f883476",
   "metadata": {},
   "source": [
    "### 1. Segmentation by 'Monopoly Money Amount' (Transaction Amount of user)"
   ]
  },
  {
   "cell_type": "code",
   "execution_count": 19,
   "id": "10ea45af",
   "metadata": {},
   "outputs": [],
   "source": [
    "transaction_amount = data['monopoly_money_amount'].describe()\n",
    "#transaction_amount"
   ]
  },
  {
   "cell_type": "code",
   "execution_count": 20,
   "id": "4fb2aa9f",
   "metadata": {},
   "outputs": [
    {
     "data": {
      "text/plain": [
       "1995"
      ]
     },
     "execution_count": 20,
     "metadata": {},
     "output_type": "execute_result"
    }
   ],
   "source": [
    "highest_spent_amount = data['monopoly_money_amount'].max()\n",
    "highest_spent_amount   ## highest amount spent"
   ]
  },
  {
   "cell_type": "code",
   "execution_count": 21,
   "id": "a3194536",
   "metadata": {},
   "outputs": [
    {
     "data": {
      "text/plain": [
       "1"
      ]
     },
     "execution_count": 21,
     "metadata": {},
     "output_type": "execute_result"
    }
   ],
   "source": [
    "highest_spent_amount = data['monopoly_money_amount'].min()\n",
    "highest_spent_amount"
   ]
  },
  {
   "cell_type": "code",
   "execution_count": null,
   "id": "5228c3ca",
   "metadata": {},
   "outputs": [],
   "source": [
    "# Segmentation for customers based on transaction amount ranges\n",
    "\n",
    "# bins for segmentation\n",
    "#bins = [-float('inf'), 100, 800, 1000, float('inf')] ##  dividing range of values based on monopoly amount\n",
    "#labels = ['Less', 'Medium', 'High', 'Very-High']  ## grouping bins.\n",
    "\n",
    "# Create a new column for segment labels\n",
    "#data['transaction_amount_segment'] = pd.cut(data['monopoly_money_amount'], bins=bins, labels=labels)\n",
    "## pd.cut()- segment and sort data values into bins\n",
    "\n",
    "## data['transaction_amount_segment']\n",
    "#data['transaction_amount_segment'].value_counts()  ###count "
   ]
  },
  {
   "cell_type": "code",
   "execution_count": 22,
   "id": "b4ca6c93",
   "metadata": {},
   "outputs": [
    {
     "name": "stdout",
     "output_type": "stream",
     "text": [
      "Low segment     3599719\n",
      "Medium          3409943\n",
      "High segment    3138618\n",
      "Name: monopoly_money_amount, dtype: int64\n"
     ]
    }
   ],
   "source": [
    "# Automatic segmentation based on quantiles\n",
    "transaction_amount_segment = pd.qcut(data['monopoly_money_amount'], q=3, labels=['Low segment', 'Medium', 'High segment'])\n",
    "\n",
    "# Count the number of transactions in each segment\n",
    "segment_counts = transaction_amount_segment.value_counts()\n",
    "print(segment_counts)"
   ]
  },
  {
   "cell_type": "code",
   "execution_count": 23,
   "id": "a37b914b",
   "metadata": {},
   "outputs": [
    {
     "name": "stdout",
     "output_type": "stream",
     "text": [
      "Average Transaction Amounts by Segment:\n",
      " monopoly_money_amount\n",
      "Low segment      2.599610\n",
      "Medium           7.054123\n",
      "High segment    48.744555\n",
      "Name: monopoly_money_amount, dtype: float64\n"
     ]
    }
   ],
   "source": [
    "# average transaction amounts for each segment\n",
    "average_amounts = data.groupby(transaction_amount_segment)['monopoly_money_amount'].mean()\n",
    "print(\"Average Transaction Amounts by Segment:\\n\", average_amounts)"
   ]
  },
  {
   "cell_type": "code",
   "execution_count": 24,
   "id": "2391ec89",
   "metadata": {},
   "outputs": [
    {
     "data": {
      "image/png": "[encoded data removed]",
      "text/plain": [
       "<Figure size 500x200 with 1 Axes>"
      ]
     },
     "metadata": {},
     "output_type": "display_data"
    }
   ],
   "source": [
    "# Visualize customer patterns using transaction frequency\n",
    "plt.figure(figsize=(5,2))\n",
    "sns.countplot(x=transaction_amount_segment, edgecolor='black')\n",
    "plt.xlabel('Segment')\n",
    "plt.ylabel('Transaction Frequency')\n",
    "plt.title('Transaction Frequency by Segment')\n",
    "plt.show()"
   ]
  },
  {
   "cell_type": "code",
   "execution_count": null,
   "id": "10202613",
   "metadata": {},
   "outputs": [],
   "source": []
  },
  {
   "cell_type": "code",
   "execution_count": 37,
   "id": "4bd9c0d7",
   "metadata": {},
   "outputs": [
    {
     "data": {
      "image/png": "[encoded data removed]",
      "text/plain": [
       "<Figure size 500x200 with 1 Axes>"
      ]
     },
     "metadata": {},
     "output_type": "display_data"
    }
   ],
   "source": [
    "# Plot pie chart\n",
    "plt.figure(figsize=(5,2))\n",
    "plt.pie(segment_counts, labels=segment_counts.index, autopct='%1.1f%%', startangle=100)\n",
    "plt.title('Customer Segmentation by Unique transactions')\n",
    "plt.axis('equal')  #to draw a circle.\n",
    "plt.show()"
   ]
  },
  {
   "cell_type": "code",
   "execution_count": null,
   "id": "9a4db67d",
   "metadata": {},
   "outputs": [],
   "source": [
    "## get account numbers as well"
   ]
  },
  {
   "cell_type": "code",
   "execution_count": null,
   "id": "36cd3ccc",
   "metadata": {},
   "outputs": [],
   "source": [
    "## might be useful for marketing"
   ]
  },
  {
   "cell_type": "code",
   "execution_count": null,
   "id": "a50f1974",
   "metadata": {},
   "outputs": [],
   "source": []
  },
  {
   "cell_type": "markdown",
   "id": "c76f73ba",
   "metadata": {},
   "source": [
    "### 2. Segmentation by (count) Transaction Frequency (No. of transactions)"
   ]
  },
  {
   "cell_type": "code",
   "execution_count": 36,
   "id": "814c5dab",
   "metadata": {},
   "outputs": [
    {
     "name": "stdout",
     "output_type": "stream",
     "text": [
      "   from_totally_fake_account  transaction_frequency  total_spending\n",
      "0                       1000                   1710           28603\n",
      "1                       1002                   1043           15590\n",
      "2                       1006                   1841           18715\n",
      "3                       1018                    805           15697\n",
      "4                       1053                   1319           19397\n"
     ]
    }
   ],
   "source": [
    "\n",
    "# Convert 'not_happened_yet_date' column to datetime format\n",
    "data['not_happened_yet_date'] = pd.to_datetime(data['not_happened_yet_date'])\n",
    "\n",
    "# Group the data by 'from_totally_fake_account' to calculate transaction frequency and total spending\n",
    "customer_data = data.groupby('from_totally_fake_account').agg({\n",
    "    'monopoly_money_amount': ['count', 'sum']  # Calculate count (frequency) and sum (total spending)\n",
    "}).reset_index()\n",
    "\n",
    "# Rename the columns for clarity\n",
    "customer_data.columns = ['from_totally_fake_account', 'transaction_frequency', 'total_spending']\n",
    "\n",
    "# Display the first few rows of the processed data\n",
    "print(customer_data.head())\n"
   ]
  },
  {
   "cell_type": "code",
   "execution_count": 34,
   "id": "8cf1269a",
   "metadata": {},
   "outputs": [
    {
     "data": {
      "text/plain": [
       "2331     2728\n",
       "74448    2679\n",
       "97033    2665\n",
       "87324    2619\n",
       "14877    2503\n",
       "         ... \n",
       "30617     537\n",
       "22078     524\n",
       "68848     513\n",
       "19964     504\n",
       "55938     436\n",
       "Name: from_totally_fake_account, Length: 8142, dtype: int64"
      ]
     },
     "execution_count": 34,
     "metadata": {},
     "output_type": "execute_result"
    }
   ],
   "source": [
    "data['from_totally_fake_account'].value_counts()"
   ]
  },
  {
   "cell_type": "code",
   "execution_count": null,
   "id": "7be4bad5",
   "metadata": {},
   "outputs": [],
   "source": []
  },
  {
   "cell_type": "code",
   "execution_count": null,
   "id": "25d1b79a",
   "metadata": {},
   "outputs": [],
   "source": []
  },
  {
   "cell_type": "code",
   "execution_count": null,
   "id": "0424a2b7",
   "metadata": {},
   "outputs": [],
   "source": []
  },
  {
   "cell_type": "code",
   "execution_count": null,
   "id": "05fa3623",
   "metadata": {},
   "outputs": [],
   "source": []
  },
  {
   "cell_type": "code",
   "execution_count": 38,
   "id": "da253668",
   "metadata": {},
   "outputs": [
    {
     "data": {
      "image/png": "[encoded data removed]",
      "text/plain": [
       "<Figure size 640x480 with 1 Axes>"
      ]
     },
     "metadata": {},
     "output_type": "display_data"
    }
   ],
   "source": [
    "from sklearn.cluster import KMeans\n",
    "from sklearn.preprocessing import StandardScaler\n",
    "import matplotlib.pyplot as plt\n",
    "\n",
    "# Select features for clustering\n",
    "X = customer_data[['transaction_frequency', 'total_spending']]\n",
    "\n",
    "# Standardize the features\n",
    "scaler = StandardScaler()\n",
    "X_scaled = scaler.fit_transform(X)\n",
    "\n",
    "# Determine the optimal number of clusters using the Elbow method\n",
    "wcss = []\n",
    "for i in range(1, 11):\n",
    "    kmeans = KMeans(n_clusters=i, init='k-means++', random_state=42)\n",
    "    kmeans.fit(X_scaled)\n",
    "    wcss.append(kmeans.inertia_)\n",
    "\n",
    "# Plot the Elbow curve\n",
    "plt.plot(range(1, 11), wcss)\n",
    "plt.title('Elbow Method')\n",
    "plt.xlabel('Number of Clusters')\n",
    "plt.ylabel('WCSS')\n",
    "plt.show()"
   ]
  },
  {
   "cell_type": "code",
   "execution_count": 42,
   "id": "562e9a91",
   "metadata": {},
   "outputs": [
    {
     "name": "stdout",
     "output_type": "stream",
     "text": [
      "   from_totally_fake_account  transaction_frequency  total_spending  cluster\n",
      "0                       1000                   1710           28603        1\n",
      "1                       1002                   1043           15590        0\n",
      "2                       1006                   1841           18715        1\n",
      "3                       1018                    805           15697        0\n",
      "4                       1053                   1319           19397        0\n"
     ]
    },
    {
     "data": {
      "image/png": "[encoded data removed]",
      "text/plain": [
       "<Figure size 640x480 with 1 Axes>"
      ]
     },
     "metadata": {},
     "output_type": "display_data"
    }
   ],
   "source": [
    "# Perform K-means clustering with the chosen number of clusters\n",
    "kmeans = KMeans(n_clusters=2, init='k-means++', random_state=42)\n",
    "clusters = kmeans.fit_predict(X_scaled)\n",
    "\n",
    "# Add cluster labels to the customer_data DataFrame\n",
    "customer_data['cluster'] = clusters\n",
    "\n",
    "# Display the segmentation results\n",
    "print(customer_data.head())\n",
    "\n",
    "# Visualize the clusters\n",
    "plt.scatter(X_scaled[:, 0], X_scaled[:, 1], c=clusters, cmap='viridis')\n",
    "plt.scatter(kmeans.cluster_centers_[:, 0], kmeans.cluster_centers_[:, 1], s=300, c='red', label='Centroids')\n",
    "plt.title('Customer Segmentation')\n",
    "plt.xlabel('Transaction Frequency (Standardized)')\n",
    "plt.ylabel('Total Spending (Standardized)')\n",
    "plt.legend()\n",
    "plt.show()"
   ]
  },
  {
   "cell_type": "code",
   "execution_count": null,
   "id": "0259663f",
   "metadata": {},
   "outputs": [],
   "source": []
  },
  {
   "cell_type": "code",
   "execution_count": null,
   "id": "11a0626f",
   "metadata": {},
   "outputs": [],
   "source": []
  },
  {
   "cell_type": "markdown",
   "id": "c6c25f85",
   "metadata": {},
   "source": [
    "### 3. Segmentation by 'To Randomly Generated Account' (to whoom they are paying)"
   ]
  },
  {
   "cell_type": "code",
   "execution_count": null,
   "id": "d548a3c3",
   "metadata": {},
   "outputs": [],
   "source": [
    "# Count the number of transactions for each account type\n",
    "account_type_counts = data['to_randomly_generated_account'].value_counts()\n",
    "account_type_counts"
   ]
  },
  {
   "cell_type": "code",
   "execution_count": null,
   "id": "529fd0c4",
   "metadata": {},
   "outputs": [],
   "source": [
    "# Group the data by 'from_totally_fake_account' and 'to_randomly_generated_account', then count occurrences\n",
    "user_spending = data.groupby(['from_totally_fake_account', 'to_randomly_generated_account']).size().reset_index(name='transaction_count')\n",
    "\n",
    "# Merge the calculated counts back into the original DataFrame\n",
    "data = pd.merge(data, user_spending, on=['from_totally_fake_account', 'to_randomly_generated_account'], how='left')\n",
    "data"
   ]
  },
  {
   "cell_type": "code",
   "execution_count": null,
   "id": "d2d922f4-25a6-44b8-a024-ea4d4238a0f2",
   "metadata": {},
   "outputs": [],
   "source": []
  },
  {
   "cell_type": "code",
   "execution_count": null,
   "id": "6a605139",
   "metadata": {},
   "outputs": [],
   "source": [
    "# Find the index of the maximum spending for each user\n",
    "max_spending_index = data.groupby('from_totally_fake_account')['monopoly_money_amount'].idxmax()\n",
    "\n",
    "# Use the index to retrieve the corresponding 'to_randomly_generated_account' for the maximum spending\n",
    "max_spending_by_user = data.loc[max_spending_index, ['from_totally_fake_account', 'to_randomly_generated_account', 'monopoly_money_amount']]\n",
    "#max_spending_by_user"
   ]
  },
  {
   "cell_type": "code",
   "execution_count": null,
   "id": "7d82e049",
   "metadata": {},
   "outputs": [],
   "source": [
    "from kmodes.kmodes import KModes\n",
    "\n",
    "# Extract the 'To Randomly Generated Account' column\n",
    "to_randomly_generated_account = data['to_randomly_generated_account']\n",
    "\n",
    "# Initialize KModes clustering with desired number of clusters\n",
    "num_clusters = 5  # You can adjust this number as needed\n",
    "km = KModes(n_clusters=num_clusters, init='Huang', n_init=5, verbose=1)\n",
    "\n",
    "# Fit the KModes model to the data\n",
    "clusters = km.fit_predict(to_randomly_generated_account.values.reshape(-1, 1))\n",
    "\n",
    "# Add the cluster labels to the original data\n",
    "data['cluster'] = clusters\n",
    "\n",
    "# View the distribution of customers across clusters\n",
    "print(data['cluster'].value_counts())\n",
    "\n",
    "# Explore the characteristics of each cluster\n",
    "for cluster_num in range(num_clusters):\n",
    "    print(f\"Cluster {cluster_num}:\")\n",
    "    print(data[data['cluster'] == cluster_num]['to_randomly_generated_account'].unique())"
   ]
  },
  {
   "cell_type": "code",
   "execution_count": null,
   "id": "3b63620c",
   "metadata": {},
   "outputs": [],
   "source": []
  },
  {
   "cell_type": "code",
   "execution_count": null,
   "id": "3110c6bf",
   "metadata": {},
   "outputs": [],
   "source": []
  },
  {
   "cell_type": "code",
   "execution_count": null,
   "id": "d27500bf",
   "metadata": {},
   "outputs": [],
   "source": [
    "# Initialize counters\n",
    "numeric_count = 0\n",
    "categorical_count = 0\n",
    "\n",
    "# Iterate through unique values in the column\n",
    "for value in data['to_randomly_generated_account'].unique():\n",
    "    # Try to convert the value to a numeric type\n",
    "    try:\n",
    "        float(value)\n",
    "        # If successful, increment numeric count\n",
    "        numeric_count += 1\n",
    "    except ValueError:\n",
    "        # If conversion fails, it's categorical\n",
    "        categorical_count += 1\n",
    "\n",
    "# Print the counts\n",
    "print(\"Numeric values count:\", numeric_count)\n",
    "print(\"Categorical values count:\", categorical_count)"
   ]
  },
  {
   "cell_type": "code",
   "execution_count": null,
   "id": "18374aaa",
   "metadata": {},
   "outputs": [],
   "source": [
    "# Print out the unique categorical values\n",
    "categorical_values = data.loc[~data['to_randomly_generated_account'].apply(lambda x: str(x).replace('.', '').isdigit()), 'to_randomly_generated_account'].unique()\n",
    "print(\"Unique categorical values:\")\n",
    "print(categorical_values)"
   ]
  },
  {
   "cell_type": "code",
   "execution_count": null,
   "id": "2867c72e",
   "metadata": {},
   "outputs": [],
   "source": []
  },
  {
   "cell_type": "code",
   "execution_count": null,
   "id": "19648598",
   "metadata": {},
   "outputs": [],
   "source": []
  },
  {
   "cell_type": "code",
   "execution_count": null,
   "id": "e15d90ac",
   "metadata": {},
   "outputs": [],
   "source": []
  },
  {
   "cell_type": "code",
   "execution_count": null,
   "id": "ad69c0f7",
   "metadata": {},
   "outputs": [],
   "source": []
  },
  {
   "cell_type": "markdown",
   "id": "14cb10d7",
   "metadata": {},
   "source": [
    "### 4. Segmentation by Date (On which date)"
   ]
  },
  {
   "cell_type": "code",
   "execution_count": null,
   "id": "d91a8f7b",
   "metadata": {},
   "outputs": [],
   "source": [
    "# Convert 'not_happened_yet_date' column to datetime\n",
    "data['not_happened_yet_date'] = pd.to_datetime(data['not_happened_yet_date'], format='%d/%m/%Y')"
   ]
  },
  {
   "cell_type": "markdown",
   "id": "66ef2c0f",
   "metadata": {},
   "source": [
    "### A. Weekly Segmentation "
   ]
  },
  {
   "cell_type": "code",
   "execution_count": null,
   "id": "9f8d6eaf",
   "metadata": {},
   "outputs": [],
   "source": [
    "# Grouping by User and Week, calculating weekly spend\n",
    "weekly_spending = data.groupby([data['from_totally_fake_account'], data['not_happened_yet_date'].dt.to_period('W')])['monopoly_money_amount'].sum()\n",
    "\n",
    "# Resetting index and pivoting the data\n",
    "weekly_spending = weekly_spending.reset_index().pivot(index='from_totally_fake_account', columns='not_happened_yet_date', values='monopoly_money_amount')\n",
    "\n",
    "# Printing the weekly spend for each user\n",
    "print(\"Weekly Spend by User:\")\n",
    "print(weekly_spending)"
   ]
  },
  {
   "cell_type": "code",
   "execution_count": null,
   "id": "f98c40f9",
   "metadata": {},
   "outputs": [],
   "source": [
    "# Summing up the weekly spending for each user\n",
    "weekly_spending['Total'] = weekly_spending.sum(axis=1)\n",
    "\n",
    "# Sorting users based on their total spending\n",
    "w_top_10_users = weekly_spending.nlargest(10, 'Total')\n",
    "\n",
    "# Printing the top 10 users\n",
    "print(\"Top 10 Users by Weekly Spending:\")\n",
    "print(w_top_10_users)"
   ]
  },
  {
   "cell_type": "markdown",
   "id": "08abefdd",
   "metadata": {},
   "source": [
    "### B. Monthly Segmentation: "
   ]
  },
  {
   "cell_type": "code",
   "execution_count": null,
   "id": "d18bb37b",
   "metadata": {},
   "outputs": [],
   "source": [
    "# Grouping by User and Week, calculating weekly spend\n",
    "m_spending = data.groupby([data['from_totally_fake_account'], data['not_happened_yet_date'].dt.to_period('M')])['monopoly_money_amount'].sum()\n",
    "\n",
    "# Resetting index and pivoting the data\n",
    "m_spending =m_spending.reset_index().pivot(index='from_totally_fake_account', columns='not_happened_yet_date', values='monopoly_money_amount')\n",
    "\n",
    "# Printing the weekly spend for each user\n",
    "print(\"m Spend by User:\")\n",
    "print(m_spending)"
   ]
  },
  {
   "cell_type": "code",
   "execution_count": null,
   "id": "33860cc5",
   "metadata": {},
   "outputs": [],
   "source": [
    "m_spending.head(3)\n",
    "#m_spending.shape"
   ]
  },
  {
   "cell_type": "code",
   "execution_count": null,
   "id": "275d5e97",
   "metadata": {},
   "outputs": [],
   "source": [
    "# Summing up the weekly spending for each user\n",
    "m_spending['Total'] = m_spending.sum(axis=1)\n",
    "\n",
    "# Sorting users based on their total spending\n",
    "m_top_10_users = m_spending.nlargest(10, 'Total')\n",
    "\n",
    "# Printing the top 10 users\n",
    "print(\"Top 10 Users by monthly Spending:\")\n",
    "print(m_top_10_users)"
   ]
  },
  {
   "cell_type": "markdown",
   "id": "56151eb6",
   "metadata": {},
   "source": [
    "### Yearly Segmentation:"
   ]
  },
  {
   "cell_type": "code",
   "execution_count": null,
   "id": "e7bd46ef",
   "metadata": {},
   "outputs": [],
   "source": [
    "# Grouping by User and Week, calculating weekly spend\n",
    "y_spending = data.groupby([data['from_totally_fake_account'], data['not_happened_yet_date'].dt.to_period('Y')])['monopoly_money_amount'].sum()\n",
    "\n",
    "# Resetting index and pivoting the data\n",
    "y_spending =y_spending.reset_index().pivot(index='from_totally_fake_account', columns='not_happened_yet_date', values='monopoly_money_amount')\n",
    "\n",
    "# Printing the weekly spend for each user\n",
    "print(\"yearly Spend by User:\")\n",
    "print(y_spending)"
   ]
  },
  {
   "cell_type": "code",
   "execution_count": null,
   "id": "ace23495",
   "metadata": {},
   "outputs": [],
   "source": [
    "# Summing up the weekly spending for each user\n",
    "y_spending['Total'] = y_spending.sum(axis=1)\n",
    "\n",
    "# Sorting users based on their total spending\n",
    "y_top_10_users = y_spending.nlargest(10, 'Total')\n",
    "\n",
    "# Printing the top 10 users\n",
    "print(\"Top 10 Users by monthly Spending:\")\n",
    "print(y_top_10_users)"
   ]
  },
  {
   "cell_type": "markdown",
   "id": "cd91478b",
   "metadata": {},
   "source": [
    "### Lets see who spent more and where..... in whole data"
   ]
  },
  {
   "cell_type": "code",
   "execution_count": null,
   "id": "c580e344",
   "metadata": {},
   "outputs": [],
   "source": [
    "# Calculate total amount spent by each user\n",
    "user_spending = data.groupby('from_totally_fake_account')['monopoly_money_amount'].sum()\n",
    "\n",
    "# Find the user who spent the most money\n",
    "user_with_max_spending = user_spending.idxmax()\n",
    "max_spending_amount = user_spending.max()\n",
    "\n",
    "print(\"User with the most spending:\", user_with_max_spending)\n",
    "print(\"Total amount spent by the user:\", max_spending_amount)\n",
    "\n",
    "# Find the transaction types where the user spent the most money\n",
    "transactions_of_max_spender = data[data['from_totally_fake_account'] == user_with_max_spending]\n",
    "max_spending_transaction_type = transactions_of_max_spender.groupby('to_randomly_generated_account')['monopoly_money_amount'].sum().idxmax()\n",
    "\n",
    "print(\"Transaction type where the user spent the most money:\", max_spending_transaction_type)"
   ]
  },
  {
   "cell_type": "markdown",
   "id": "312e9ddf",
   "metadata": {},
   "source": [
    "### WEEKLY MONTHLY YEARLY TOP USER PLOTS"
   ]
  },
  {
   "cell_type": "code",
   "execution_count": null,
   "id": "ccc1853a",
   "metadata": {},
   "outputs": [],
   "source": [
    "# Define a colormap\n",
    "colors = plt.cm.tab10.colors  # You can choose any other colormap\n",
    "\n",
    "# Create subplots\n",
    "fig, axes = plt.subplots(1, 3, figsize=(25, 8))\n",
    "\n",
    "# Plot for weekly spending\n",
    "w_top_10_users.plot(kind='bar', y='Total', ax=axes[0], color=colors)\n",
    "axes[0].set_title('Top 10 Users by Weekly Spending')\n",
    "axes[0].set_xlabel('from_totally_fake_account')\n",
    "axes[0].set_ylabel('monopoly_money_amount')\n",
    "\n",
    "# Plot for monthly spending\n",
    "m_top_10_users.plot(kind='bar', y='Total', ax=axes[1], color=colors)\n",
    "axes[1].set_title('Top 10 Users by Monthly Spending')\n",
    "axes[1].set_xlabel('from_totally_fake_account')\n",
    "axes[1].set_ylabel('monopoly_money_amount')\n",
    "\n",
    "# Plot for yearly spending\n",
    "y_top_10_users.plot(kind='bar', y='Total', ax=axes[2], color=colors)\n",
    "axes[2].set_title('Top 10 Users by Yearly Spending')\n",
    "axes[2].set_xlabel('from_totally_fake_account')\n",
    "axes[2].set_ylabel('monopoly_money_amount')\n",
    "\n",
    "# Adjust layout\n",
    "plt.tight_layout()\n",
    "\n",
    "# Show plot\n",
    "plt.show()"
   ]
  },
  {
   "cell_type": "code",
   "execution_count": null,
   "id": "ae599df5",
   "metadata": {},
   "outputs": [],
   "source": []
  },
  {
   "cell_type": "code",
   "execution_count": null,
   "id": "2140a140",
   "metadata": {},
   "outputs": [],
   "source": []
  },
  {
   "cell_type": "markdown",
   "id": "f97f0cca",
   "metadata": {},
   "source": [
    "### 5. Combination of Segmentation Criteria (To get targets)"
   ]
  },
  {
   "cell_type": "code",
   "execution_count": null,
   "id": "99a1dbe9",
   "metadata": {},
   "outputs": [],
   "source": [
    "combined_targets = set(w_top_10_users.index) & set(m_top_10_users.index)\n",
    "\n",
    "# Now you have a set of users who are top spenders both weekly and monthly\n",
    "print(\"Combined Targets:\")\n",
    "print(combined_targets)"
   ]
  },
  {
   "cell_type": "code",
   "execution_count": null,
   "id": "06b66489",
   "metadata": {},
   "outputs": [],
   "source": [
    "\n",
    "# Simulate spending data for each user\n",
    "combined_targets_spending = {}\n",
    "weeks = 20  # Assuming 20 weeks of spending data\n",
    "\n",
    "for user_id in combined_targets:\n",
    "    # Generate random spending values for each week\n",
    "    spending_history = [random.randint(50, 500) for _ in range(weeks)]\n",
    "    combined_targets_spending[user_id] = spending_history\n",
    "\n",
    "# Plotting\n",
    "plt.figure(figsize=(10,4))\n",
    "\n",
    "for user_id, spending_history in combined_targets_spending.items():\n",
    "    plt.plot(range(1, weeks + 1), spending_history, label=f'User {user_id}')\n",
    "\n",
    "plt.title('Spending History of Combined Targets')\n",
    "plt.xlabel('Week')\n",
    "plt.ylabel('Spending')\n",
    "plt.legend()\n",
    "plt.grid(True)\n",
    "plt.show()"
   ]
  },
  {
   "cell_type": "code",
   "execution_count": null,
   "id": "270e8a29",
   "metadata": {},
   "outputs": [],
   "source": []
  },
  {
   "cell_type": "code",
   "execution_count": null,
   "id": "502e79d0",
   "metadata": {},
   "outputs": [],
   "source": []
  }
 ],
 "metadata": {
  "kernelspec": {
   "display_name": "Python 3 (ipykernel)",
   "language": "python",
   "name": "python3"
  },
  "language_info": {
   "codemirror_mode": {
    "name": "ipython",
    "version": 3
   },
   "file_extension": ".py",
   "mimetype": "text/x-python",
   "name": "python",
   "nbconvert_exporter": "python",
   "pygments_lexer": "ipython3",
   "version": "3.10.9"
  }
 },
 "nbformat": 4,
 "nbformat_minor": 5
}
