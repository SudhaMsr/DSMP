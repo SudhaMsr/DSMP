{
 "cells": [
  {
   "cell_type": "code",
   "execution_count": null,
   "id": "72750617",
   "metadata": {},
   "outputs": [],
   "source": [
    "!pip install kmodes"
   ]
  },
  {
   "cell_type": "markdown",
   "id": "165aac8a",
   "metadata": {},
   "source": [
    "## Import required libraries:"
   ]
  },
  {
   "cell_type": "code",
   "execution_count": 1,
   "id": "83dc427f",
   "metadata": {},
   "outputs": [],
   "source": [
    "import warnings\n",
    "warnings.filterwarnings('ignore')\n",
    "import pandas as pd\n",
    "import numpy as np\n",
    "import matplotlib.pyplot as plt\n",
    "import seaborn as sns\n",
    "%matplotlib inline"
   ]
  },
  {
   "cell_type": "markdown",
   "id": "d3b76734",
   "metadata": {},
   "source": [
    "## Load dataset"
   ]
  },
  {
   "cell_type": "code",
   "execution_count": 2,
   "id": "5a1009bf",
   "metadata": {
    "scrolled": true
   },
   "outputs": [
    {
     "data": {
      "text/html": [
       "<div>\n",
       "<style scoped>\n",
       "    .dataframe tbody tr th:only-of-type {\n",
       "        vertical-align: middle;\n",
       "    }\n",
       "\n",
       "    .dataframe tbody tr th {\n",
       "        vertical-align: top;\n",
       "    }\n",
       "\n",
       "    .dataframe thead th {\n",
       "        text-align: right;\n",
       "    }\n",
       "</style>\n",
       "<table border=\"1\" class=\"dataframe\">\n",
       "  <thead>\n",
       "    <tr style=\"text-align: right;\">\n",
       "      <th></th>\n",
       "      <th>from_totally_fake_account</th>\n",
       "      <th>monopoly_money_amount</th>\n",
       "      <th>to_randomly_generated_account</th>\n",
       "      <th>not_happened_yet_date</th>\n",
       "    </tr>\n",
       "  </thead>\n",
       "  <tbody>\n",
       "    <tr>\n",
       "      <th>0</th>\n",
       "      <td>10371.0</td>\n",
       "      <td>4.00</td>\n",
       "      <td>CINEMA</td>\n",
       "      <td>01/01/2025</td>\n",
       "    </tr>\n",
       "    <tr>\n",
       "      <th>1</th>\n",
       "      <td>88339.0</td>\n",
       "      <td>2.40</td>\n",
       "      <td>40544</td>\n",
       "      <td>01/01/2025</td>\n",
       "    </tr>\n",
       "    <tr>\n",
       "      <th>2</th>\n",
       "      <td>18555.0</td>\n",
       "      <td>2.40</td>\n",
       "      <td>85149</td>\n",
       "      <td>01/01/2025</td>\n",
       "    </tr>\n",
       "    <tr>\n",
       "      <th>3</th>\n",
       "      <td>18555.0</td>\n",
       "      <td>4.10</td>\n",
       "      <td>HIPSTER_COFFEE_SHOP</td>\n",
       "      <td>01/01/2025</td>\n",
       "    </tr>\n",
       "    <tr>\n",
       "      <th>4</th>\n",
       "      <td>80792.0</td>\n",
       "      <td>1.95</td>\n",
       "      <td>18555</td>\n",
       "      <td>01/01/2025</td>\n",
       "    </tr>\n",
       "  </tbody>\n",
       "</table>\n",
       "</div>"
      ],
      "text/plain": [
       "   from_totally_fake_account  monopoly_money_amount  \\\n",
       "0                    10371.0                   4.00   \n",
       "1                    88339.0                   2.40   \n",
       "2                    18555.0                   2.40   \n",
       "3                    18555.0                   4.10   \n",
       "4                    80792.0                   1.95   \n",
       "\n",
       "  to_randomly_generated_account not_happened_yet_date  \n",
       "0                        CINEMA            01/01/2025  \n",
       "1                         40544            01/01/2025  \n",
       "2                         85149            01/01/2025  \n",
       "3           HIPSTER_COFFEE_SHOP            01/01/2025  \n",
       "4                         18555            01/01/2025  "
      ]
     },
     "execution_count": 2,
     "metadata": {},
     "output_type": "execute_result"
    }
   ],
   "source": [
    "## load data set\n",
    "data = pd.read_csv(r'fake_transactional_data_24.csv')\n",
    "## head\n",
    "data.head()"
   ]
  },
  {
   "cell_type": "markdown",
   "id": "5c3f1c44",
   "metadata": {},
   "source": [
    "## Explore data "
   ]
  },
  {
   "cell_type": "code",
   "execution_count": 3,
   "id": "cff2d6dd",
   "metadata": {},
   "outputs": [
    {
     "data": {
      "text/plain": [
       "(10148280, 4)"
      ]
     },
     "execution_count": 3,
     "metadata": {},
     "output_type": "execute_result"
    }
   ],
   "source": [
    "data.shape"
   ]
  },
  {
   "cell_type": "code",
   "execution_count": 4,
   "id": "79d1ceed",
   "metadata": {},
   "outputs": [
    {
     "name": "stdout",
     "output_type": "stream",
     "text": [
      "<class 'pandas.core.frame.DataFrame'>\n",
      "RangeIndex: 10148280 entries, 0 to 10148279\n",
      "Data columns (total 4 columns):\n",
      " #   Column                         Dtype  \n",
      "---  ------                         -----  \n",
      " 0   from_totally_fake_account      float64\n",
      " 1   monopoly_money_amount          float64\n",
      " 2   to_randomly_generated_account  object \n",
      " 3   not_happened_yet_date          object \n",
      "dtypes: float64(2), object(2)\n",
      "memory usage: 309.7+ MB\n"
     ]
    }
   ],
   "source": [
    "data.info()"
   ]
  },
  {
   "cell_type": "code",
   "execution_count": 5,
   "id": "bdf1105b",
   "metadata": {},
   "outputs": [
    {
     "data": {
      "text/plain": [
       "from_totally_fake_account        float64\n",
       "monopoly_money_amount            float64\n",
       "to_randomly_generated_account     object\n",
       "not_happened_yet_date             object\n",
       "dtype: object"
      ]
     },
     "execution_count": 5,
     "metadata": {},
     "output_type": "execute_result"
    }
   ],
   "source": [
    "data.dtypes"
   ]
  },
  {
   "cell_type": "code",
   "execution_count": 6,
   "id": "37f9ca8a",
   "metadata": {},
   "outputs": [
    {
     "data": {
      "text/plain": [
       "Index(['from_totally_fake_account', 'monopoly_money_amount',\n",
       "       'to_randomly_generated_account', 'not_happened_yet_date'],\n",
       "      dtype='object')"
      ]
     },
     "execution_count": 6,
     "metadata": {},
     "output_type": "execute_result"
    }
   ],
   "source": [
    "data.columns "
   ]
  },
  {
   "cell_type": "code",
   "execution_count": 7,
   "id": "91d8ee23",
   "metadata": {},
   "outputs": [
    {
     "data": {
      "text/plain": [
       "from_totally_fake_account        float64\n",
       "monopoly_money_amount            float64\n",
       "to_randomly_generated_account     object\n",
       "not_happened_yet_date             object\n",
       "dtype: object"
      ]
     },
     "execution_count": 7,
     "metadata": {},
     "output_type": "execute_result"
    }
   ],
   "source": [
    "data.dtypes"
   ]
  },
  {
   "cell_type": "code",
   "execution_count": null,
   "id": "061fad1b",
   "metadata": {},
   "outputs": [],
   "source": []
  },
  {
   "cell_type": "code",
   "execution_count": null,
   "id": "2223a79d",
   "metadata": {},
   "outputs": [],
   "source": []
  },
  {
   "cell_type": "markdown",
   "id": "042f11b0",
   "metadata": {},
   "source": [
    "## Missing values "
   ]
  },
  {
   "cell_type": "code",
   "execution_count": 8,
   "id": "556cab39",
   "metadata": {},
   "outputs": [
    {
     "data": {
      "text/html": [
       "<div>\n",
       "<style scoped>\n",
       "    .dataframe tbody tr th:only-of-type {\n",
       "        vertical-align: middle;\n",
       "    }\n",
       "\n",
       "    .dataframe tbody tr th {\n",
       "        vertical-align: top;\n",
       "    }\n",
       "\n",
       "    .dataframe thead th {\n",
       "        text-align: right;\n",
       "    }\n",
       "</style>\n",
       "<table border=\"1\" class=\"dataframe\">\n",
       "  <thead>\n",
       "    <tr style=\"text-align: right;\">\n",
       "      <th></th>\n",
       "      <th>from_totally_fake_account</th>\n",
       "      <th>monopoly_money_amount</th>\n",
       "      <th>to_randomly_generated_account</th>\n",
       "      <th>not_happened_yet_date</th>\n",
       "    </tr>\n",
       "  </thead>\n",
       "  <tbody>\n",
       "    <tr>\n",
       "      <th>0</th>\n",
       "      <td>False</td>\n",
       "      <td>False</td>\n",
       "      <td>False</td>\n",
       "      <td>False</td>\n",
       "    </tr>\n",
       "    <tr>\n",
       "      <th>1</th>\n",
       "      <td>False</td>\n",
       "      <td>False</td>\n",
       "      <td>False</td>\n",
       "      <td>False</td>\n",
       "    </tr>\n",
       "    <tr>\n",
       "      <th>2</th>\n",
       "      <td>False</td>\n",
       "      <td>False</td>\n",
       "      <td>False</td>\n",
       "      <td>False</td>\n",
       "    </tr>\n",
       "    <tr>\n",
       "      <th>3</th>\n",
       "      <td>False</td>\n",
       "      <td>False</td>\n",
       "      <td>False</td>\n",
       "      <td>False</td>\n",
       "    </tr>\n",
       "    <tr>\n",
       "      <th>4</th>\n",
       "      <td>False</td>\n",
       "      <td>False</td>\n",
       "      <td>False</td>\n",
       "      <td>False</td>\n",
       "    </tr>\n",
       "    <tr>\n",
       "      <th>...</th>\n",
       "      <td>...</td>\n",
       "      <td>...</td>\n",
       "      <td>...</td>\n",
       "      <td>...</td>\n",
       "    </tr>\n",
       "    <tr>\n",
       "      <th>10148275</th>\n",
       "      <td>False</td>\n",
       "      <td>False</td>\n",
       "      <td>False</td>\n",
       "      <td>False</td>\n",
       "    </tr>\n",
       "    <tr>\n",
       "      <th>10148276</th>\n",
       "      <td>False</td>\n",
       "      <td>False</td>\n",
       "      <td>False</td>\n",
       "      <td>False</td>\n",
       "    </tr>\n",
       "    <tr>\n",
       "      <th>10148277</th>\n",
       "      <td>False</td>\n",
       "      <td>False</td>\n",
       "      <td>False</td>\n",
       "      <td>False</td>\n",
       "    </tr>\n",
       "    <tr>\n",
       "      <th>10148278</th>\n",
       "      <td>False</td>\n",
       "      <td>False</td>\n",
       "      <td>False</td>\n",
       "      <td>False</td>\n",
       "    </tr>\n",
       "    <tr>\n",
       "      <th>10148279</th>\n",
       "      <td>False</td>\n",
       "      <td>False</td>\n",
       "      <td>False</td>\n",
       "      <td>False</td>\n",
       "    </tr>\n",
       "  </tbody>\n",
       "</table>\n",
       "<p>10148280 rows × 4 columns</p>\n",
       "</div>"
      ],
      "text/plain": [
       "          from_totally_fake_account  monopoly_money_amount  \\\n",
       "0                             False                  False   \n",
       "1                             False                  False   \n",
       "2                             False                  False   \n",
       "3                             False                  False   \n",
       "4                             False                  False   \n",
       "...                             ...                    ...   \n",
       "10148275                      False                  False   \n",
       "10148276                      False                  False   \n",
       "10148277                      False                  False   \n",
       "10148278                      False                  False   \n",
       "10148279                      False                  False   \n",
       "\n",
       "          to_randomly_generated_account  not_happened_yet_date  \n",
       "0                                 False                  False  \n",
       "1                                 False                  False  \n",
       "2                                 False                  False  \n",
       "3                                 False                  False  \n",
       "4                                 False                  False  \n",
       "...                                 ...                    ...  \n",
       "10148275                          False                  False  \n",
       "10148276                          False                  False  \n",
       "10148277                          False                  False  \n",
       "10148278                          False                  False  \n",
       "10148279                          False                  False  \n",
       "\n",
       "[10148280 rows x 4 columns]"
      ]
     },
     "execution_count": 8,
     "metadata": {},
     "output_type": "execute_result"
    }
   ],
   "source": [
    "data.isnull()"
   ]
  },
  {
   "cell_type": "code",
   "execution_count": 9,
   "id": "dd9b5cdf",
   "metadata": {},
   "outputs": [
    {
     "name": "stdout",
     "output_type": "stream",
     "text": [
      "Missing Values:\n",
      " from_totally_fake_account        0\n",
      "monopoly_money_amount            0\n",
      "to_randomly_generated_account    0\n",
      "not_happened_yet_date            0\n",
      "dtype: int64\n"
     ]
    }
   ],
   "source": [
    "missing_values = data.isnull().sum()\n",
    "print(\"Missing Values:\\n\", missing_values)"
   ]
  },
  {
   "cell_type": "markdown",
   "id": "aaeaba10",
   "metadata": {},
   "source": [
    "### Statistical information of given data"
   ]
  },
  {
   "cell_type": "code",
   "execution_count": 10,
   "id": "c54f0b10",
   "metadata": {},
   "outputs": [
    {
     "data": {
      "text/html": [
       "<div>\n",
       "<style scoped>\n",
       "    .dataframe tbody tr th:only-of-type {\n",
       "        vertical-align: middle;\n",
       "    }\n",
       "\n",
       "    .dataframe tbody tr th {\n",
       "        vertical-align: top;\n",
       "    }\n",
       "\n",
       "    .dataframe thead th {\n",
       "        text-align: right;\n",
       "    }\n",
       "</style>\n",
       "<table border=\"1\" class=\"dataframe\">\n",
       "  <thead>\n",
       "    <tr style=\"text-align: right;\">\n",
       "      <th></th>\n",
       "      <th>from_totally_fake_account</th>\n",
       "      <th>monopoly_money_amount</th>\n",
       "    </tr>\n",
       "  </thead>\n",
       "  <tbody>\n",
       "    <tr>\n",
       "      <th>count</th>\n",
       "      <td>1.014828e+07</td>\n",
       "      <td>1.014828e+07</td>\n",
       "    </tr>\n",
       "    <tr>\n",
       "      <th>mean</th>\n",
       "      <td>5.080502e+04</td>\n",
       "      <td>1.839348e+01</td>\n",
       "    </tr>\n",
       "    <tr>\n",
       "      <th>std</th>\n",
       "      <td>2.893710e+04</td>\n",
       "      <td>8.612323e+01</td>\n",
       "    </tr>\n",
       "    <tr>\n",
       "      <th>min</th>\n",
       "      <td>1.000000e+03</td>\n",
       "      <td>1.450000e+00</td>\n",
       "    </tr>\n",
       "    <tr>\n",
       "      <th>25%</th>\n",
       "      <td>2.530400e+04</td>\n",
       "      <td>2.650000e+00</td>\n",
       "    </tr>\n",
       "    <tr>\n",
       "      <th>50%</th>\n",
       "      <td>5.078100e+04</td>\n",
       "      <td>6.000000e+00</td>\n",
       "    </tr>\n",
       "    <tr>\n",
       "      <th>75%</th>\n",
       "      <td>7.563300e+04</td>\n",
       "      <td>1.200000e+01</td>\n",
       "    </tr>\n",
       "    <tr>\n",
       "      <th>max</th>\n",
       "      <td>1.009880e+05</td>\n",
       "      <td>1.995000e+03</td>\n",
       "    </tr>\n",
       "  </tbody>\n",
       "</table>\n",
       "</div>"
      ],
      "text/plain": [
       "       from_totally_fake_account  monopoly_money_amount\n",
       "count               1.014828e+07           1.014828e+07\n",
       "mean                5.080502e+04           1.839348e+01\n",
       "std                 2.893710e+04           8.612323e+01\n",
       "min                 1.000000e+03           1.450000e+00\n",
       "25%                 2.530400e+04           2.650000e+00\n",
       "50%                 5.078100e+04           6.000000e+00\n",
       "75%                 7.563300e+04           1.200000e+01\n",
       "max                 1.009880e+05           1.995000e+03"
      ]
     },
     "execution_count": 10,
     "metadata": {},
     "output_type": "execute_result"
    }
   ],
   "source": [
    "data.describe()"
   ]
  },
  {
   "cell_type": "code",
   "execution_count": 11,
   "id": "468dba2e",
   "metadata": {},
   "outputs": [
    {
     "data": {
      "text/html": [
       "<div>\n",
       "<style scoped>\n",
       "    .dataframe tbody tr th:only-of-type {\n",
       "        vertical-align: middle;\n",
       "    }\n",
       "\n",
       "    .dataframe tbody tr th {\n",
       "        vertical-align: top;\n",
       "    }\n",
       "\n",
       "    .dataframe thead th {\n",
       "        text-align: right;\n",
       "    }\n",
       "</style>\n",
       "<table border=\"1\" class=\"dataframe\">\n",
       "  <thead>\n",
       "    <tr style=\"text-align: right;\">\n",
       "      <th></th>\n",
       "      <th>count</th>\n",
       "      <th>mean</th>\n",
       "      <th>std</th>\n",
       "      <th>min</th>\n",
       "      <th>25%</th>\n",
       "      <th>50%</th>\n",
       "      <th>75%</th>\n",
       "      <th>max</th>\n",
       "    </tr>\n",
       "  </thead>\n",
       "  <tbody>\n",
       "    <tr>\n",
       "      <th>from_totally_fake_account</th>\n",
       "      <td>10148280.0</td>\n",
       "      <td>50805.021701</td>\n",
       "      <td>28937.100678</td>\n",
       "      <td>1000.00</td>\n",
       "      <td>25304.00</td>\n",
       "      <td>50781.0</td>\n",
       "      <td>75633.0</td>\n",
       "      <td>100988.0</td>\n",
       "    </tr>\n",
       "    <tr>\n",
       "      <th>monopoly_money_amount</th>\n",
       "      <td>10148280.0</td>\n",
       "      <td>18.393485</td>\n",
       "      <td>86.123232</td>\n",
       "      <td>1.45</td>\n",
       "      <td>2.65</td>\n",
       "      <td>6.0</td>\n",
       "      <td>12.0</td>\n",
       "      <td>1995.0</td>\n",
       "    </tr>\n",
       "  </tbody>\n",
       "</table>\n",
       "</div>"
      ],
      "text/plain": [
       "                                count          mean           std      min  \\\n",
       "from_totally_fake_account  10148280.0  50805.021701  28937.100678  1000.00   \n",
       "monopoly_money_amount      10148280.0     18.393485     86.123232     1.45   \n",
       "\n",
       "                                25%      50%      75%       max  \n",
       "from_totally_fake_account  25304.00  50781.0  75633.0  100988.0  \n",
       "monopoly_money_amount          2.65      6.0     12.0    1995.0  "
      ]
     },
     "execution_count": 11,
     "metadata": {},
     "output_type": "execute_result"
    }
   ],
   "source": [
    "data.describe().transpose()"
   ]
  },
  {
   "cell_type": "code",
   "execution_count": 12,
   "id": "153b6b0b",
   "metadata": {},
   "outputs": [
    {
     "data": {
      "text/html": [
       "<div>\n",
       "<style scoped>\n",
       "    .dataframe tbody tr th:only-of-type {\n",
       "        vertical-align: middle;\n",
       "    }\n",
       "\n",
       "    .dataframe tbody tr th {\n",
       "        vertical-align: top;\n",
       "    }\n",
       "\n",
       "    .dataframe thead th {\n",
       "        text-align: right;\n",
       "    }\n",
       "</style>\n",
       "<table border=\"1\" class=\"dataframe\">\n",
       "  <thead>\n",
       "    <tr style=\"text-align: right;\">\n",
       "      <th></th>\n",
       "      <th>to_randomly_generated_account</th>\n",
       "      <th>not_happened_yet_date</th>\n",
       "    </tr>\n",
       "  </thead>\n",
       "  <tbody>\n",
       "    <tr>\n",
       "      <th>count</th>\n",
       "      <td>10148280</td>\n",
       "      <td>10148280</td>\n",
       "    </tr>\n",
       "    <tr>\n",
       "      <th>unique</th>\n",
       "      <td>14300</td>\n",
       "      <td>364</td>\n",
       "    </tr>\n",
       "    <tr>\n",
       "      <th>top</th>\n",
       "      <td>PUB</td>\n",
       "      <td>12/12/2025</td>\n",
       "    </tr>\n",
       "    <tr>\n",
       "      <th>freq</th>\n",
       "      <td>834380</td>\n",
       "      <td>52379</td>\n",
       "    </tr>\n",
       "  </tbody>\n",
       "</table>\n",
       "</div>"
      ],
      "text/plain": [
       "       to_randomly_generated_account not_happened_yet_date\n",
       "count                       10148280              10148280\n",
       "unique                         14300                   364\n",
       "top                              PUB            12/12/2025\n",
       "freq                          834380                 52379"
      ]
     },
     "execution_count": 12,
     "metadata": {},
     "output_type": "execute_result"
    }
   ],
   "source": [
    "data.describe(include=['O'])"
   ]
  },
  {
   "cell_type": "code",
   "execution_count": 13,
   "id": "bd6cb5f6",
   "metadata": {},
   "outputs": [
    {
     "data": {
      "text/html": [
       "<div>\n",
       "<style scoped>\n",
       "    .dataframe tbody tr th:only-of-type {\n",
       "        vertical-align: middle;\n",
       "    }\n",
       "\n",
       "    .dataframe tbody tr th {\n",
       "        vertical-align: top;\n",
       "    }\n",
       "\n",
       "    .dataframe thead th {\n",
       "        text-align: right;\n",
       "    }\n",
       "</style>\n",
       "<table border=\"1\" class=\"dataframe\">\n",
       "  <thead>\n",
       "    <tr style=\"text-align: right;\">\n",
       "      <th></th>\n",
       "      <th>from_totally_fake_account</th>\n",
       "      <th>monopoly_money_amount</th>\n",
       "    </tr>\n",
       "  </thead>\n",
       "  <tbody>\n",
       "    <tr>\n",
       "      <th>count</th>\n",
       "      <td>10148280</td>\n",
       "      <td>10148280</td>\n",
       "    </tr>\n",
       "    <tr>\n",
       "      <th>mean</th>\n",
       "      <td>50805</td>\n",
       "      <td>18</td>\n",
       "    </tr>\n",
       "    <tr>\n",
       "      <th>std</th>\n",
       "      <td>28937</td>\n",
       "      <td>86</td>\n",
       "    </tr>\n",
       "    <tr>\n",
       "      <th>min</th>\n",
       "      <td>1000</td>\n",
       "      <td>1</td>\n",
       "    </tr>\n",
       "    <tr>\n",
       "      <th>25%</th>\n",
       "      <td>25304</td>\n",
       "      <td>2</td>\n",
       "    </tr>\n",
       "    <tr>\n",
       "      <th>50%</th>\n",
       "      <td>50781</td>\n",
       "      <td>6</td>\n",
       "    </tr>\n",
       "    <tr>\n",
       "      <th>75%</th>\n",
       "      <td>75633</td>\n",
       "      <td>12</td>\n",
       "    </tr>\n",
       "    <tr>\n",
       "      <th>max</th>\n",
       "      <td>100988</td>\n",
       "      <td>1995</td>\n",
       "    </tr>\n",
       "  </tbody>\n",
       "</table>\n",
       "</div>"
      ],
      "text/plain": [
       "       from_totally_fake_account  monopoly_money_amount\n",
       "count                   10148280               10148280\n",
       "mean                       50805                     18\n",
       "std                        28937                     86\n",
       "min                         1000                      1\n",
       "25%                        25304                      2\n",
       "50%                        50781                      6\n",
       "75%                        75633                     12\n",
       "max                       100988                   1995"
      ]
     },
     "execution_count": 13,
     "metadata": {},
     "output_type": "execute_result"
    }
   ],
   "source": [
    "data.describe().astype(int)"
   ]
  },
  {
   "cell_type": "code",
   "execution_count": 14,
   "id": "f350dccb",
   "metadata": {},
   "outputs": [
    {
     "data": {
      "text/html": [
       "<div>\n",
       "<style scoped>\n",
       "    .dataframe tbody tr th:only-of-type {\n",
       "        vertical-align: middle;\n",
       "    }\n",
       "\n",
       "    .dataframe tbody tr th {\n",
       "        vertical-align: top;\n",
       "    }\n",
       "\n",
       "    .dataframe thead th {\n",
       "        text-align: right;\n",
       "    }\n",
       "</style>\n",
       "<table border=\"1\" class=\"dataframe\">\n",
       "  <thead>\n",
       "    <tr style=\"text-align: right;\">\n",
       "      <th></th>\n",
       "      <th>from_totally_fake_account</th>\n",
       "      <th>monopoly_money_amount</th>\n",
       "      <th>to_randomly_generated_account</th>\n",
       "      <th>not_happened_yet_date</th>\n",
       "    </tr>\n",
       "  </thead>\n",
       "  <tbody>\n",
       "    <tr>\n",
       "      <th>count</th>\n",
       "      <td>1.014828e+07</td>\n",
       "      <td>1.014828e+07</td>\n",
       "      <td>10148280</td>\n",
       "      <td>10148280</td>\n",
       "    </tr>\n",
       "    <tr>\n",
       "      <th>unique</th>\n",
       "      <td>NaN</td>\n",
       "      <td>NaN</td>\n",
       "      <td>14300</td>\n",
       "      <td>364</td>\n",
       "    </tr>\n",
       "    <tr>\n",
       "      <th>top</th>\n",
       "      <td>NaN</td>\n",
       "      <td>NaN</td>\n",
       "      <td>PUB</td>\n",
       "      <td>12/12/2025</td>\n",
       "    </tr>\n",
       "    <tr>\n",
       "      <th>freq</th>\n",
       "      <td>NaN</td>\n",
       "      <td>NaN</td>\n",
       "      <td>834380</td>\n",
       "      <td>52379</td>\n",
       "    </tr>\n",
       "    <tr>\n",
       "      <th>mean</th>\n",
       "      <td>5.080502e+04</td>\n",
       "      <td>1.839348e+01</td>\n",
       "      <td>NaN</td>\n",
       "      <td>NaN</td>\n",
       "    </tr>\n",
       "    <tr>\n",
       "      <th>std</th>\n",
       "      <td>2.893710e+04</td>\n",
       "      <td>8.612323e+01</td>\n",
       "      <td>NaN</td>\n",
       "      <td>NaN</td>\n",
       "    </tr>\n",
       "    <tr>\n",
       "      <th>min</th>\n",
       "      <td>1.000000e+03</td>\n",
       "      <td>1.450000e+00</td>\n",
       "      <td>NaN</td>\n",
       "      <td>NaN</td>\n",
       "    </tr>\n",
       "    <tr>\n",
       "      <th>25%</th>\n",
       "      <td>2.530400e+04</td>\n",
       "      <td>2.650000e+00</td>\n",
       "      <td>NaN</td>\n",
       "      <td>NaN</td>\n",
       "    </tr>\n",
       "    <tr>\n",
       "      <th>50%</th>\n",
       "      <td>5.078100e+04</td>\n",
       "      <td>6.000000e+00</td>\n",
       "      <td>NaN</td>\n",
       "      <td>NaN</td>\n",
       "    </tr>\n",
       "    <tr>\n",
       "      <th>75%</th>\n",
       "      <td>7.563300e+04</td>\n",
       "      <td>1.200000e+01</td>\n",
       "      <td>NaN</td>\n",
       "      <td>NaN</td>\n",
       "    </tr>\n",
       "    <tr>\n",
       "      <th>max</th>\n",
       "      <td>1.009880e+05</td>\n",
       "      <td>1.995000e+03</td>\n",
       "      <td>NaN</td>\n",
       "      <td>NaN</td>\n",
       "    </tr>\n",
       "  </tbody>\n",
       "</table>\n",
       "</div>"
      ],
      "text/plain": [
       "        from_totally_fake_account  monopoly_money_amount  \\\n",
       "count                1.014828e+07           1.014828e+07   \n",
       "unique                        NaN                    NaN   \n",
       "top                           NaN                    NaN   \n",
       "freq                          NaN                    NaN   \n",
       "mean                 5.080502e+04           1.839348e+01   \n",
       "std                  2.893710e+04           8.612323e+01   \n",
       "min                  1.000000e+03           1.450000e+00   \n",
       "25%                  2.530400e+04           2.650000e+00   \n",
       "50%                  5.078100e+04           6.000000e+00   \n",
       "75%                  7.563300e+04           1.200000e+01   \n",
       "max                  1.009880e+05           1.995000e+03   \n",
       "\n",
       "       to_randomly_generated_account not_happened_yet_date  \n",
       "count                       10148280              10148280  \n",
       "unique                         14300                   364  \n",
       "top                              PUB            12/12/2025  \n",
       "freq                          834380                 52379  \n",
       "mean                             NaN                   NaN  \n",
       "std                              NaN                   NaN  \n",
       "min                              NaN                   NaN  \n",
       "25%                              NaN                   NaN  \n",
       "50%                              NaN                   NaN  \n",
       "75%                              NaN                   NaN  \n",
       "max                              NaN                   NaN  "
      ]
     },
     "execution_count": 14,
     "metadata": {},
     "output_type": "execute_result"
    }
   ],
   "source": [
    "data.describe(include='all')"
   ]
  },
  {
   "cell_type": "code",
   "execution_count": 15,
   "id": "57e5a13f",
   "metadata": {},
   "outputs": [],
   "source": [
    "#data.transpose()"
   ]
  },
  {
   "cell_type": "code",
   "execution_count": 16,
   "id": "2cc6f5e0",
   "metadata": {},
   "outputs": [],
   "source": [
    "##sns.heatmap(data.corr(),annot=True)-- char to int"
   ]
  },
  {
   "cell_type": "code",
   "execution_count": 17,
   "id": "28ce72ed",
   "metadata": {},
   "outputs": [],
   "source": [
    "## convert data (char to int) to plot heatmap"
   ]
  },
  {
   "cell_type": "code",
   "execution_count": null,
   "id": "1345f589",
   "metadata": {},
   "outputs": [],
   "source": []
  },
  {
   "cell_type": "code",
   "execution_count": 18,
   "id": "0ad26a3e",
   "metadata": {},
   "outputs": [],
   "source": [
    "## float to integer\n",
    "data['from_totally_fake_account'] = data['from_totally_fake_account'].astype(int)"
   ]
  },
  {
   "cell_type": "code",
   "execution_count": 19,
   "id": "577d36d2",
   "metadata": {},
   "outputs": [],
   "source": [
    "# nearest integer/ rounding\n",
    "data['monopoly_money_amount'] = data['monopoly_money_amount'].round().astype(int)"
   ]
  },
  {
   "cell_type": "code",
   "execution_count": 20,
   "id": "d524b1ed",
   "metadata": {},
   "outputs": [
    {
     "data": {
      "text/html": [
       "<div>\n",
       "<style scoped>\n",
       "    .dataframe tbody tr th:only-of-type {\n",
       "        vertical-align: middle;\n",
       "    }\n",
       "\n",
       "    .dataframe tbody tr th {\n",
       "        vertical-align: top;\n",
       "    }\n",
       "\n",
       "    .dataframe thead th {\n",
       "        text-align: right;\n",
       "    }\n",
       "</style>\n",
       "<table border=\"1\" class=\"dataframe\">\n",
       "  <thead>\n",
       "    <tr style=\"text-align: right;\">\n",
       "      <th></th>\n",
       "      <th>from_totally_fake_account</th>\n",
       "      <th>monopoly_money_amount</th>\n",
       "      <th>to_randomly_generated_account</th>\n",
       "      <th>not_happened_yet_date</th>\n",
       "    </tr>\n",
       "  </thead>\n",
       "  <tbody>\n",
       "    <tr>\n",
       "      <th>0</th>\n",
       "      <td>10371</td>\n",
       "      <td>4</td>\n",
       "      <td>CINEMA</td>\n",
       "      <td>01/01/2025</td>\n",
       "    </tr>\n",
       "    <tr>\n",
       "      <th>1</th>\n",
       "      <td>88339</td>\n",
       "      <td>2</td>\n",
       "      <td>40544</td>\n",
       "      <td>01/01/2025</td>\n",
       "    </tr>\n",
       "    <tr>\n",
       "      <th>2</th>\n",
       "      <td>18555</td>\n",
       "      <td>2</td>\n",
       "      <td>85149</td>\n",
       "      <td>01/01/2025</td>\n",
       "    </tr>\n",
       "  </tbody>\n",
       "</table>\n",
       "</div>"
      ],
      "text/plain": [
       "   from_totally_fake_account  monopoly_money_amount  \\\n",
       "0                      10371                      4   \n",
       "1                      88339                      2   \n",
       "2                      18555                      2   \n",
       "\n",
       "  to_randomly_generated_account not_happened_yet_date  \n",
       "0                        CINEMA            01/01/2025  \n",
       "1                         40544            01/01/2025  \n",
       "2                         85149            01/01/2025  "
      ]
     },
     "execution_count": 20,
     "metadata": {},
     "output_type": "execute_result"
    }
   ],
   "source": [
    "data.head(3)"
   ]
  },
  {
   "cell_type": "code",
   "execution_count": null,
   "id": "87c85701",
   "metadata": {},
   "outputs": [],
   "source": []
  },
  {
   "cell_type": "markdown",
   "id": "421e6a34",
   "metadata": {},
   "source": [
    "## Visualisations:"
   ]
  },
  {
   "cell_type": "code",
   "execution_count": null,
   "id": "f3b76137",
   "metadata": {},
   "outputs": [],
   "source": []
  },
  {
   "cell_type": "code",
   "execution_count": null,
   "id": "84361de4",
   "metadata": {},
   "outputs": [],
   "source": []
  },
  {
   "cell_type": "code",
   "execution_count": null,
   "id": "e608e1cf",
   "metadata": {},
   "outputs": [],
   "source": []
  },
  {
   "cell_type": "code",
   "execution_count": null,
   "id": "e74e9c96",
   "metadata": {},
   "outputs": [],
   "source": []
  },
  {
   "cell_type": "markdown",
   "id": "30547708",
   "metadata": {},
   "source": [
    "# Customer segmentation\n",
    "1. Segmentation by 'Monopoly Money Amount' (Transaction Amount of user)\n",
    "2. Segmentation by (count) Transaction Frequency (No. of transactions)\n",
    "3. Segmentation by 'To Randomly Generated Account' (to whoom they are paying)\n",
    "4. Segmentation by Date (On which date)\n",
    "5. Combination of Segmentation Criteria (To get targets)"
   ]
  },
  {
   "cell_type": "markdown",
   "id": "1f883476",
   "metadata": {},
   "source": [
    "### 1. Segmentation by 'Monopoly Money Amount' (Transaction Amount of user)"
   ]
  },
  {
   "cell_type": "code",
   "execution_count": 21,
   "id": "10ea45af",
   "metadata": {},
   "outputs": [],
   "source": [
    "transaction_amount = data['monopoly_money_amount'].describe()\n",
    "#transaction_amount"
   ]
  },
  {
   "cell_type": "code",
   "execution_count": 22,
   "id": "4fb2aa9f",
   "metadata": {},
   "outputs": [
    {
     "data": {
      "text/plain": [
       "1995"
      ]
     },
     "execution_count": 22,
     "metadata": {},
     "output_type": "execute_result"
    }
   ],
   "source": [
    "highest_spent_amount = data['monopoly_money_amount'].max()\n",
    "highest_spent_amount"
   ]
  },
  {
   "cell_type": "code",
   "execution_count": null,
   "id": "5228c3ca",
   "metadata": {},
   "outputs": [],
   "source": [
    "# Segmentation for customers based on transaction amount ranges\n",
    "\n",
    "# bins for segmentation\n",
    "#bins = [-float('inf'), 100, 800, 1000, float('inf')] ##  dividing range of values based on monopoly amount\n",
    "#labels = ['Less', 'Medium', 'High', 'Very-High']  ## grouping bins.\n",
    "\n",
    "# Create a new column for segment labels\n",
    "#data['transaction_amount_segment'] = pd.cut(data['monopoly_money_amount'], bins=bins, labels=labels)\n",
    "## pd.cut()- segment and sort data values into bins\n",
    "\n",
    "## data['transaction_amount_segment']\n",
    "#data['transaction_amount_segment'].value_counts()  ###count "
   ]
  },
  {
   "cell_type": "code",
   "execution_count": 23,
   "id": "b4ca6c93",
   "metadata": {},
   "outputs": [
    {
     "name": "stdout",
     "output_type": "stream",
     "text": [
      "monopoly_money_amount\n",
      "Low segment     3599719\n",
      "Medium          3409943\n",
      "High segment    3138618\n",
      "Name: count, dtype: int64\n"
     ]
    }
   ],
   "source": [
    "# Automatic segmentation based on quantiles\n",
    "transaction_amount_segment = pd.qcut(data['monopoly_money_amount'], q=3, labels=['Low segment', 'Medium', 'High segment'])\n",
    "\n",
    "# Count the number of transactions in each segment\n",
    "segment_counts = transaction_amount_segment.value_counts()\n",
    "print(segment_counts)"
   ]
  },
  {
   "cell_type": "code",
   "execution_count": 24,
   "id": "a37b914b",
   "metadata": {},
   "outputs": [
    {
     "name": "stdout",
     "output_type": "stream",
     "text": [
      "Average Transaction Amounts by Segment:\n",
      " monopoly_money_amount\n",
      "Low segment      2.599610\n",
      "Medium           7.054123\n",
      "High segment    48.744555\n",
      "Name: monopoly_money_amount, dtype: float64\n"
     ]
    }
   ],
   "source": [
    "# average transaction amounts for each segment\n",
    "average_amounts = data.groupby(transaction_amount_segment)['monopoly_money_amount'].mean()\n",
    "print(\"Average Transaction Amounts by Segment:\\n\", average_amounts)"
   ]
  },
  {
   "cell_type": "code",
   "execution_count": 25,
   "id": "2391ec89",
   "metadata": {},
   "outputs": [
    {
     "data": {
      "image/png": "[encoded data removed]",
      "text/plain": [
       "<Figure size 500x200 with 1 Axes>"
      ]
     },
     "metadata": {},
     "output_type": "display_data"
    }
   ],
   "source": [
    "# Visualize customer patterns using transaction frequency\n",
    "plt.figure(figsize=(5,2))\n",
    "sns.countplot(x=transaction_amount_segment, edgecolor='black')\n",
    "plt.xlabel('Segment')\n",
    "plt.ylabel('Transaction Frequency')\n",
    "plt.title('Transaction Frequency by Segment')\n",
    "plt.show()"
   ]
  },
  {
   "cell_type": "code",
   "execution_count": null,
   "id": "36cd3ccc",
   "metadata": {},
   "outputs": [],
   "source": [
    "## might be useful for marketing"
   ]
  },
  {
   "cell_type": "code",
   "execution_count": null,
   "id": "a50f1974",
   "metadata": {},
   "outputs": [],
   "source": []
  },
  {
   "cell_type": "markdown",
   "id": "c76f73ba",
   "metadata": {},
   "source": [
    "### 2. Segmentation by (count) Transaction Frequency (No. of transactions)"
   ]
  },
  {
   "cell_type": "code",
   "execution_count": 36,
   "id": "f78c738a",
   "metadata": {},
   "outputs": [
    {
     "name": "stdout",
     "output_type": "stream",
     "text": [
      "   from_totally_fake_account                       frequency_segment\n",
      "0                      10371        Segment 0: 1 - 55.0 transactions\n",
      "1                      88339  Segment 3: More than 65.0 transactions\n",
      "2                      18555  Segment 3: More than 65.0 transactions\n",
      "3                      18555  Segment 3: More than 65.0 transactions\n",
      "4                      80792     Segment 1: 56.0 - 61.0 transactions\n"
     ]
    }
   ],
   "source": [
    "# Count unique transactions per account\n",
    "unique_transactions = data.groupby('from_totally_fake_account')['to_randomly_generated_account'].nunique()\n",
    "\n",
    "# Define thresholds for segmentation (e.g., based on quartiles)\n",
    "quantiles = unique_transactions.quantile([0.25, 0.5, 0.75])\n",
    "thresholds = [0, quantiles.iloc[0], quantiles.iloc[1], quantiles.iloc[2], float('inf')]\n",
    "\n",
    "# Function to categorize transaction frequency\n",
    "def categorize_frequency(count):\n",
    "    for i in range(1, len(thresholds)):\n",
    "        if thresholds[i] == float('inf'):\n",
    "            return f\"Segment {i-1}: More than {thresholds[i-1]} transactions\"\n",
    "        elif count <= thresholds[i]:\n",
    "            return f\"Segment {i-1}: {thresholds[i-1]+1} - {thresholds[i]} transactions\"\n",
    "\n",
    "# Apply categorization to create a new column for transaction frequency segment\n",
    "data['frequency_segment'] = data['from_totally_fake_account'].map(unique_transactions.apply(categorize_frequency))\n",
    "\n",
    "# Display the segmentation results\n",
    "print(data[['from_totally_fake_account', 'frequency_segment']].head())\n"
   ]
  },
  {
   "cell_type": "code",
   "execution_count": 34,
   "id": "5f93354e",
   "metadata": {},
   "outputs": [
    {
     "data": {
      "text/plain": [
       "(8142,)"
      ]
     },
     "execution_count": 34,
     "metadata": {},
     "output_type": "execute_result"
    }
   ],
   "source": [
    "unique_transactions.shape"
   ]
  },
  {
   "cell_type": "code",
   "execution_count": 45,
   "id": "740997b6-cc8c-4ffe-b1b1-bc32e9f47723",
   "metadata": {},
   "outputs": [],
   "source": [
    "#unique_transactions"
   ]
  },
  {
   "cell_type": "code",
   "execution_count": 40,
   "id": "8cf1269a",
   "metadata": {},
   "outputs": [],
   "source": [
    "\n",
    "# Sort the unique transaction counts in descending order\n",
    "sorted_unique_transactions = unique_transactions.sort_values(ascending=False)\n",
    "\n",
    "# Extract the customers with the highest and lowest transaction frequencies\n",
    "highest_transaction_customers = sorted_unique_transactions.head(2)  # count\n",
    "lowest_transaction_customers = sorted_unique_transactions.tail(2)  # Count\n",
    "#highest_transaction_customers"
   ]
  },
  {
   "cell_type": "code",
   "execution_count": 41,
   "id": "40ce7599",
   "metadata": {},
   "outputs": [
    {
     "data": {
      "text/html": [
       "<div>\n",
       "<style scoped>\n",
       "    .dataframe tbody tr th:only-of-type {\n",
       "        vertical-align: middle;\n",
       "    }\n",
       "\n",
       "    .dataframe tbody tr th {\n",
       "        vertical-align: top;\n",
       "    }\n",
       "\n",
       "    .dataframe thead th {\n",
       "        text-align: right;\n",
       "    }\n",
       "</style>\n",
       "<table border=\"1\" class=\"dataframe\">\n",
       "  <thead>\n",
       "    <tr style=\"text-align: right;\">\n",
       "      <th></th>\n",
       "      <th>from_totally_fake_account</th>\n",
       "      <th>monopoly_money_amount</th>\n",
       "      <th>to_randomly_generated_account</th>\n",
       "      <th>not_happened_yet_date</th>\n",
       "      <th>frequency_segment</th>\n",
       "    </tr>\n",
       "  </thead>\n",
       "  <tbody>\n",
       "    <tr>\n",
       "      <th>0</th>\n",
       "      <td>10371</td>\n",
       "      <td>4</td>\n",
       "      <td>CINEMA</td>\n",
       "      <td>01/01/2025</td>\n",
       "      <td>Segment 0: 1 - 55.0 transactions</td>\n",
       "    </tr>\n",
       "    <tr>\n",
       "      <th>1</th>\n",
       "      <td>88339</td>\n",
       "      <td>2</td>\n",
       "      <td>40544</td>\n",
       "      <td>01/01/2025</td>\n",
       "      <td>Segment 3: More than 65.0 transactions</td>\n",
       "    </tr>\n",
       "    <tr>\n",
       "      <th>2</th>\n",
       "      <td>18555</td>\n",
       "      <td>2</td>\n",
       "      <td>85149</td>\n",
       "      <td>01/01/2025</td>\n",
       "      <td>Segment 3: More than 65.0 transactions</td>\n",
       "    </tr>\n",
       "  </tbody>\n",
       "</table>\n",
       "</div>"
      ],
      "text/plain": [
       "   from_totally_fake_account  monopoly_money_amount  \\\n",
       "0                      10371                      4   \n",
       "1                      88339                      2   \n",
       "2                      18555                      2   \n",
       "\n",
       "  to_randomly_generated_account not_happened_yet_date  \\\n",
       "0                        CINEMA            01/01/2025   \n",
       "1                         40544            01/01/2025   \n",
       "2                         85149            01/01/2025   \n",
       "\n",
       "                        frequency_segment  \n",
       "0        Segment 0: 1 - 55.0 transactions  \n",
       "1  Segment 3: More than 65.0 transactions  \n",
       "2  Segment 3: More than 65.0 transactions  "
      ]
     },
     "execution_count": 41,
     "metadata": {},
     "output_type": "execute_result"
    }
   ],
   "source": [
    "data.head(3)"
   ]
  },
  {
   "cell_type": "code",
   "execution_count": 42,
   "id": "4bd9c0d7",
   "metadata": {},
   "outputs": [
    {
     "data": {
      "image/png": "[encoded data removed]",
      "text/plain": [
       "<Figure size 500x200 with 1 Axes>"
      ]
     },
     "metadata": {},
     "output_type": "display_data"
    }
   ],
   "source": [
    "# Plot pie chart\n",
    "plt.figure(figsize=(5,2))\n",
    "plt.pie(segment_counts, labels=segment_counts.index, autopct='%1.1f%%', startangle=100)\n",
    "plt.title('Customer Segmentation by Unique transactions')\n",
    "plt.axis('equal')  #to draw a circle.\n",
    "plt.show()"
   ]
  },
  {
   "cell_type": "code",
   "execution_count": null,
   "id": "0424a2b7",
   "metadata": {},
   "outputs": [],
   "source": []
  },
  {
   "cell_type": "code",
   "execution_count": null,
   "id": "0259663f",
   "metadata": {},
   "outputs": [],
   "source": []
  },
  {
   "cell_type": "markdown",
   "id": "c6c25f85",
   "metadata": {},
   "source": [
    "### 3. Segmentation by 'To Randomly Generated Account' (to whoom they are paying)"
   ]
  },
  {
   "cell_type": "code",
   "execution_count": 43,
   "id": "d548a3c3",
   "metadata": {},
   "outputs": [
    {
     "data": {
      "text/plain": [
       "to_randomly_generated_account\n",
       "PUB                           834380\n",
       "BAR                           770414\n",
       "LOCAL_WATERING_HOLE           649043\n",
       "COFFEE_SHOP                   476099\n",
       "TOTALLY_A_REAL_COFFEE_SHOP    476064\n",
       "                               ...  \n",
       "74519                              2\n",
       "24699                              2\n",
       "1243                               2\n",
       "95337                              2\n",
       "20594                              1\n",
       "Name: count, Length: 14300, dtype: int64"
      ]
     },
     "execution_count": 43,
     "metadata": {},
     "output_type": "execute_result"
    }
   ],
   "source": [
    "# Count the number of transactions for each account type\n",
    "account_type_counts = data['to_randomly_generated_account'].value_counts()\n",
    "account_type_counts"
   ]
  },
  {
   "cell_type": "code",
   "execution_count": 50,
   "id": "529fd0c4",
   "metadata": {},
   "outputs": [
    {
     "data": {
      "text/html": [
       "<div>\n",
       "<style scoped>\n",
       "    .dataframe tbody tr th:only-of-type {\n",
       "        vertical-align: middle;\n",
       "    }\n",
       "\n",
       "    .dataframe tbody tr th {\n",
       "        vertical-align: top;\n",
       "    }\n",
       "\n",
       "    .dataframe thead th {\n",
       "        text-align: right;\n",
       "    }\n",
       "</style>\n",
       "<table border=\"1\" class=\"dataframe\">\n",
       "  <thead>\n",
       "    <tr style=\"text-align: right;\">\n",
       "      <th></th>\n",
       "      <th>from_totally_fake_account</th>\n",
       "      <th>monopoly_money_amount</th>\n",
       "      <th>to_randomly_generated_account</th>\n",
       "      <th>not_happened_yet_date</th>\n",
       "      <th>frequency_segment</th>\n",
       "      <th>transaction_count_x</th>\n",
       "      <th>transaction_count_y</th>\n",
       "      <th>transaction_count</th>\n",
       "    </tr>\n",
       "  </thead>\n",
       "  <tbody>\n",
       "    <tr>\n",
       "      <th>0</th>\n",
       "      <td>10371</td>\n",
       "      <td>4</td>\n",
       "      <td>CINEMA</td>\n",
       "      <td>01/01/2025</td>\n",
       "      <td>Segment 0: 1 - 55.0 transactions</td>\n",
       "      <td>24</td>\n",
       "      <td>67715</td>\n",
       "      <td>24</td>\n",
       "    </tr>\n",
       "    <tr>\n",
       "      <th>1</th>\n",
       "      <td>88339</td>\n",
       "      <td>2</td>\n",
       "      <td>40544</td>\n",
       "      <td>01/01/2025</td>\n",
       "      <td>Segment 3: More than 65.0 transactions</td>\n",
       "      <td>20</td>\n",
       "      <td>159</td>\n",
       "      <td>20</td>\n",
       "    </tr>\n",
       "    <tr>\n",
       "      <th>2</th>\n",
       "      <td>18555</td>\n",
       "      <td>2</td>\n",
       "      <td>85149</td>\n",
       "      <td>01/01/2025</td>\n",
       "      <td>Segment 3: More than 65.0 transactions</td>\n",
       "      <td>34</td>\n",
       "      <td>168</td>\n",
       "      <td>34</td>\n",
       "    </tr>\n",
       "    <tr>\n",
       "      <th>3</th>\n",
       "      <td>18555</td>\n",
       "      <td>4</td>\n",
       "      <td>HIPSTER_COFFEE_SHOP</td>\n",
       "      <td>01/01/2025</td>\n",
       "      <td>Segment 3: More than 65.0 transactions</td>\n",
       "      <td>122</td>\n",
       "      <td>232588</td>\n",
       "      <td>122</td>\n",
       "    </tr>\n",
       "    <tr>\n",
       "      <th>4</th>\n",
       "      <td>80792</td>\n",
       "      <td>2</td>\n",
       "      <td>18555</td>\n",
       "      <td>01/01/2025</td>\n",
       "      <td>Segment 1: 56.0 - 61.0 transactions</td>\n",
       "      <td>40</td>\n",
       "      <td>185</td>\n",
       "      <td>40</td>\n",
       "    </tr>\n",
       "    <tr>\n",
       "      <th>...</th>\n",
       "      <td>...</td>\n",
       "      <td>...</td>\n",
       "      <td>...</td>\n",
       "      <td>...</td>\n",
       "      <td>...</td>\n",
       "      <td>...</td>\n",
       "      <td>...</td>\n",
       "      <td>...</td>\n",
       "    </tr>\n",
       "    <tr>\n",
       "      <th>10148275</th>\n",
       "      <td>32185</td>\n",
       "      <td>3</td>\n",
       "      <td>COFFEE_SHOP</td>\n",
       "      <td>31/12/2025</td>\n",
       "      <td>Segment 0: 1 - 55.0 transactions</td>\n",
       "      <td>52</td>\n",
       "      <td>476099</td>\n",
       "      <td>52</td>\n",
       "    </tr>\n",
       "    <tr>\n",
       "      <th>10148276</th>\n",
       "      <td>32185</td>\n",
       "      <td>2</td>\n",
       "      <td>COFFEE_SHOP</td>\n",
       "      <td>31/12/2025</td>\n",
       "      <td>Segment 0: 1 - 55.0 transactions</td>\n",
       "      <td>52</td>\n",
       "      <td>476099</td>\n",
       "      <td>52</td>\n",
       "    </tr>\n",
       "    <tr>\n",
       "      <th>10148277</th>\n",
       "      <td>57569</td>\n",
       "      <td>14</td>\n",
       "      <td>WINE_BAR</td>\n",
       "      <td>31/12/2025</td>\n",
       "      <td>Segment 3: More than 65.0 transactions</td>\n",
       "      <td>52</td>\n",
       "      <td>121995</td>\n",
       "      <td>52</td>\n",
       "    </tr>\n",
       "    <tr>\n",
       "      <th>10148278</th>\n",
       "      <td>1490</td>\n",
       "      <td>9</td>\n",
       "      <td>57569</td>\n",
       "      <td>31/12/2025</td>\n",
       "      <td>Segment 0: 1 - 55.0 transactions</td>\n",
       "      <td>42</td>\n",
       "      <td>205</td>\n",
       "      <td>42</td>\n",
       "    </tr>\n",
       "    <tr>\n",
       "      <th>10148279</th>\n",
       "      <td>53444</td>\n",
       "      <td>3</td>\n",
       "      <td>A_LOCAL_COFFEE_SHOP</td>\n",
       "      <td>31/12/2025</td>\n",
       "      <td>Segment 3: More than 65.0 transactions</td>\n",
       "      <td>50</td>\n",
       "      <td>474159</td>\n",
       "      <td>50</td>\n",
       "    </tr>\n",
       "  </tbody>\n",
       "</table>\n",
       "<p>10148280 rows × 8 columns</p>\n",
       "</div>"
      ],
      "text/plain": [
       "          from_totally_fake_account  monopoly_money_amount  \\\n",
       "0                             10371                      4   \n",
       "1                             88339                      2   \n",
       "2                             18555                      2   \n",
       "3                             18555                      4   \n",
       "4                             80792                      2   \n",
       "...                             ...                    ...   \n",
       "10148275                      32185                      3   \n",
       "10148276                      32185                      2   \n",
       "10148277                      57569                     14   \n",
       "10148278                       1490                      9   \n",
       "10148279                      53444                      3   \n",
       "\n",
       "         to_randomly_generated_account not_happened_yet_date  \\\n",
       "0                               CINEMA            01/01/2025   \n",
       "1                                40544            01/01/2025   \n",
       "2                                85149            01/01/2025   \n",
       "3                  HIPSTER_COFFEE_SHOP            01/01/2025   \n",
       "4                                18555            01/01/2025   \n",
       "...                                ...                   ...   \n",
       "10148275                   COFFEE_SHOP            31/12/2025   \n",
       "10148276                   COFFEE_SHOP            31/12/2025   \n",
       "10148277                      WINE_BAR            31/12/2025   \n",
       "10148278                         57569            31/12/2025   \n",
       "10148279           A_LOCAL_COFFEE_SHOP            31/12/2025   \n",
       "\n",
       "                               frequency_segment  transaction_count_x  \\\n",
       "0               Segment 0: 1 - 55.0 transactions                   24   \n",
       "1         Segment 3: More than 65.0 transactions                   20   \n",
       "2         Segment 3: More than 65.0 transactions                   34   \n",
       "3         Segment 3: More than 65.0 transactions                  122   \n",
       "4            Segment 1: 56.0 - 61.0 transactions                   40   \n",
       "...                                          ...                  ...   \n",
       "10148275        Segment 0: 1 - 55.0 transactions                   52   \n",
       "10148276        Segment 0: 1 - 55.0 transactions                   52   \n",
       "10148277  Segment 3: More than 65.0 transactions                   52   \n",
       "10148278        Segment 0: 1 - 55.0 transactions                   42   \n",
       "10148279  Segment 3: More than 65.0 transactions                   50   \n",
       "\n",
       "          transaction_count_y  transaction_count  \n",
       "0                       67715                 24  \n",
       "1                         159                 20  \n",
       "2                         168                 34  \n",
       "3                      232588                122  \n",
       "4                         185                 40  \n",
       "...                       ...                ...  \n",
       "10148275               476099                 52  \n",
       "10148276               476099                 52  \n",
       "10148277               121995                 52  \n",
       "10148278                  205                 42  \n",
       "10148279               474159                 50  \n",
       "\n",
       "[10148280 rows x 8 columns]"
      ]
     },
     "execution_count": 50,
     "metadata": {},
     "output_type": "execute_result"
    }
   ],
   "source": [
    "# Group the data by 'from_totally_fake_account' and 'to_randomly_generated_account', then count occurrences\n",
    "user_spending = data.groupby(['from_totally_fake_account', 'to_randomly_generated_account']).size().reset_index(name='transaction_count')\n",
    "\n",
    "# Merge the calculated counts back into the original DataFrame\n",
    "data = pd.merge(data, user_spending, on=['from_totally_fake_account', 'to_randomly_generated_account'], how='left')\n",
    "data"
   ]
  },
  {
   "cell_type": "code",
   "execution_count": null,
   "id": "d2d922f4-25a6-44b8-a024-ea4d4238a0f2",
   "metadata": {},
   "outputs": [],
   "source": []
  },
  {
   "cell_type": "code",
   "execution_count": null,
   "id": "6a605139",
   "metadata": {},
   "outputs": [],
   "source": [
    "# Find the index of the maximum spending for each user\n",
    "max_spending_index = data.groupby('from_totally_fake_account')['monopoly_money_amount'].idxmax()\n",
    "\n",
    "# Use the index to retrieve the corresponding 'to_randomly_generated_account' for the maximum spending\n",
    "max_spending_by_user = data.loc[max_spending_index, ['from_totally_fake_account', 'to_randomly_generated_account', 'monopoly_money_amount']]\n",
    "#max_spending_by_user"
   ]
  },
  {
   "cell_type": "code",
   "execution_count": null,
   "id": "7d82e049",
   "metadata": {},
   "outputs": [],
   "source": [
    "from kmodes.kmodes import KModes\n",
    "\n",
    "# Extract the 'To Randomly Generated Account' column\n",
    "to_randomly_generated_account = data['to_randomly_generated_account']\n",
    "\n",
    "# Initialize KModes clustering with desired number of clusters\n",
    "num_clusters = 5  # You can adjust this number as needed\n",
    "km = KModes(n_clusters=num_clusters, init='Huang', n_init=5, verbose=1)\n",
    "\n",
    "# Fit the KModes model to the data\n",
    "clusters = km.fit_predict(to_randomly_generated_account.values.reshape(-1, 1))\n",
    "\n",
    "# Add the cluster labels to the original data\n",
    "data['cluster'] = clusters\n",
    "\n",
    "# View the distribution of customers across clusters\n",
    "print(data['cluster'].value_counts())\n",
    "\n",
    "# Explore the characteristics of each cluster\n",
    "for cluster_num in range(num_clusters):\n",
    "    print(f\"Cluster {cluster_num}:\")\n",
    "    print(data[data['cluster'] == cluster_num]['to_randomly_generated_account'].unique())"
   ]
  },
  {
   "cell_type": "code",
   "execution_count": null,
   "id": "3b63620c",
   "metadata": {},
   "outputs": [],
   "source": []
  },
  {
   "cell_type": "code",
   "execution_count": null,
   "id": "3110c6bf",
   "metadata": {},
   "outputs": [],
   "source": []
  },
  {
   "cell_type": "code",
   "execution_count": null,
   "id": "d27500bf",
   "metadata": {},
   "outputs": [],
   "source": [
    "# Initialize counters\n",
    "numeric_count = 0\n",
    "categorical_count = 0\n",
    "\n",
    "# Iterate through unique values in the column\n",
    "for value in data['to_randomly_generated_account'].unique():\n",
    "    # Try to convert the value to a numeric type\n",
    "    try:\n",
    "        float(value)\n",
    "        # If successful, increment numeric count\n",
    "        numeric_count += 1\n",
    "    except ValueError:\n",
    "        # If conversion fails, it's categorical\n",
    "        categorical_count += 1\n",
    "\n",
    "# Print the counts\n",
    "print(\"Numeric values count:\", numeric_count)\n",
    "print(\"Categorical values count:\", categorical_count)"
   ]
  },
  {
   "cell_type": "code",
   "execution_count": null,
   "id": "18374aaa",
   "metadata": {},
   "outputs": [],
   "source": [
    "# Print out the unique categorical values\n",
    "categorical_values = data.loc[~data['to_randomly_generated_account'].apply(lambda x: str(x).replace('.', '').isdigit()), 'to_randomly_generated_account'].unique()\n",
    "print(\"Unique categorical values:\")\n",
    "print(categorical_values)"
   ]
  },
  {
   "cell_type": "code",
   "execution_count": null,
   "id": "2867c72e",
   "metadata": {},
   "outputs": [],
   "source": []
  },
  {
   "cell_type": "code",
   "execution_count": null,
   "id": "19648598",
   "metadata": {},
   "outputs": [],
   "source": []
  },
  {
   "cell_type": "code",
   "execution_count": null,
   "id": "e15d90ac",
   "metadata": {},
   "outputs": [],
   "source": []
  },
  {
   "cell_type": "code",
   "execution_count": null,
   "id": "ad69c0f7",
   "metadata": {},
   "outputs": [],
   "source": []
  },
  {
   "cell_type": "markdown",
   "id": "14cb10d7",
   "metadata": {},
   "source": [
    "### 4. Segmentation by Date (On which date)"
   ]
  },
  {
   "cell_type": "code",
   "execution_count": null,
   "id": "d91a8f7b",
   "metadata": {},
   "outputs": [],
   "source": [
    "# Convert 'not_happened_yet_date' column to datetime\n",
    "data['not_happened_yet_date'] = pd.to_datetime(data['not_happened_yet_date'], format='%d/%m/%Y')"
   ]
  },
  {
   "cell_type": "markdown",
   "id": "66ef2c0f",
   "metadata": {},
   "source": [
    "### A. Weekly Segmentation "
   ]
  },
  {
   "cell_type": "code",
   "execution_count": null,
   "id": "9f8d6eaf",
   "metadata": {},
   "outputs": [],
   "source": [
    "# Grouping by User and Week, calculating weekly spend\n",
    "weekly_spending = data.groupby([data['from_totally_fake_account'], data['not_happened_yet_date'].dt.to_period('W')])['monopoly_money_amount'].sum()\n",
    "\n",
    "# Resetting index and pivoting the data\n",
    "weekly_spending = weekly_spending.reset_index().pivot(index='from_totally_fake_account', columns='not_happened_yet_date', values='monopoly_money_amount')\n",
    "\n",
    "# Printing the weekly spend for each user\n",
    "print(\"Weekly Spend by User:\")\n",
    "print(weekly_spending)"
   ]
  },
  {
   "cell_type": "code",
   "execution_count": null,
   "id": "f98c40f9",
   "metadata": {},
   "outputs": [],
   "source": [
    "# Summing up the weekly spending for each user\n",
    "weekly_spending['Total'] = weekly_spending.sum(axis=1)\n",
    "\n",
    "# Sorting users based on their total spending\n",
    "w_top_10_users = weekly_spending.nlargest(10, 'Total')\n",
    "\n",
    "# Printing the top 10 users\n",
    "print(\"Top 10 Users by Weekly Spending:\")\n",
    "print(w_top_10_users)"
   ]
  },
  {
   "cell_type": "markdown",
   "id": "08abefdd",
   "metadata": {},
   "source": [
    "### B. Monthly Segmentation: "
   ]
  },
  {
   "cell_type": "code",
   "execution_count": null,
   "id": "d18bb37b",
   "metadata": {},
   "outputs": [],
   "source": [
    "# Grouping by User and Week, calculating weekly spend\n",
    "m_spending = data.groupby([data['from_totally_fake_account'], data['not_happened_yet_date'].dt.to_period('M')])['monopoly_money_amount'].sum()\n",
    "\n",
    "# Resetting index and pivoting the data\n",
    "m_spending =m_spending.reset_index().pivot(index='from_totally_fake_account', columns='not_happened_yet_date', values='monopoly_money_amount')\n",
    "\n",
    "# Printing the weekly spend for each user\n",
    "print(\"m Spend by User:\")\n",
    "print(m_spending)"
   ]
  },
  {
   "cell_type": "code",
   "execution_count": null,
   "id": "33860cc5",
   "metadata": {},
   "outputs": [],
   "source": [
    "m_spending.head(3)\n",
    "#m_spending.shape"
   ]
  },
  {
   "cell_type": "code",
   "execution_count": null,
   "id": "275d5e97",
   "metadata": {},
   "outputs": [],
   "source": [
    "# Summing up the weekly spending for each user\n",
    "m_spending['Total'] = m_spending.sum(axis=1)\n",
    "\n",
    "# Sorting users based on their total spending\n",
    "m_top_10_users = m_spending.nlargest(10, 'Total')\n",
    "\n",
    "# Printing the top 10 users\n",
    "print(\"Top 10 Users by monthly Spending:\")\n",
    "print(m_top_10_users)"
   ]
  },
  {
   "cell_type": "markdown",
   "id": "56151eb6",
   "metadata": {},
   "source": [
    "### Yearly Segmentation:"
   ]
  },
  {
   "cell_type": "code",
   "execution_count": null,
   "id": "e7bd46ef",
   "metadata": {},
   "outputs": [],
   "source": [
    "# Grouping by User and Week, calculating weekly spend\n",
    "y_spending = data.groupby([data['from_totally_fake_account'], data['not_happened_yet_date'].dt.to_period('Y')])['monopoly_money_amount'].sum()\n",
    "\n",
    "# Resetting index and pivoting the data\n",
    "y_spending =y_spending.reset_index().pivot(index='from_totally_fake_account', columns='not_happened_yet_date', values='monopoly_money_amount')\n",
    "\n",
    "# Printing the weekly spend for each user\n",
    "print(\"yearly Spend by User:\")\n",
    "print(y_spending)"
   ]
  },
  {
   "cell_type": "code",
   "execution_count": null,
   "id": "ace23495",
   "metadata": {},
   "outputs": [],
   "source": [
    "# Summing up the weekly spending for each user\n",
    "y_spending['Total'] = y_spending.sum(axis=1)\n",
    "\n",
    "# Sorting users based on their total spending\n",
    "y_top_10_users = y_spending.nlargest(10, 'Total')\n",
    "\n",
    "# Printing the top 10 users\n",
    "print(\"Top 10 Users by monthly Spending:\")\n",
    "print(y_top_10_users)"
   ]
  },
  {
   "cell_type": "markdown",
   "id": "cd91478b",
   "metadata": {},
   "source": [
    "### Lets see who spent more and where..... in whole data"
   ]
  },
  {
   "cell_type": "code",
   "execution_count": null,
   "id": "c580e344",
   "metadata": {},
   "outputs": [],
   "source": [
    "# Calculate total amount spent by each user\n",
    "user_spending = data.groupby('from_totally_fake_account')['monopoly_money_amount'].sum()\n",
    "\n",
    "# Find the user who spent the most money\n",
    "user_with_max_spending = user_spending.idxmax()\n",
    "max_spending_amount = user_spending.max()\n",
    "\n",
    "print(\"User with the most spending:\", user_with_max_spending)\n",
    "print(\"Total amount spent by the user:\", max_spending_amount)\n",
    "\n",
    "# Find the transaction types where the user spent the most money\n",
    "transactions_of_max_spender = data[data['from_totally_fake_account'] == user_with_max_spending]\n",
    "max_spending_transaction_type = transactions_of_max_spender.groupby('to_randomly_generated_account')['monopoly_money_amount'].sum().idxmax()\n",
    "\n",
    "print(\"Transaction type where the user spent the most money:\", max_spending_transaction_type)"
   ]
  },
  {
   "cell_type": "markdown",
   "id": "312e9ddf",
   "metadata": {},
   "source": [
    "### WEEKLY MONTHLY YEARLY TOP USER PLOTS"
   ]
  },
  {
   "cell_type": "code",
   "execution_count": null,
   "id": "ccc1853a",
   "metadata": {},
   "outputs": [],
   "source": [
    "# Define a colormap\n",
    "colors = plt.cm.tab10.colors  # You can choose any other colormap\n",
    "\n",
    "# Create subplots\n",
    "fig, axes = plt.subplots(1, 3, figsize=(25, 8))\n",
    "\n",
    "# Plot for weekly spending\n",
    "w_top_10_users.plot(kind='bar', y='Total', ax=axes[0], color=colors)\n",
    "axes[0].set_title('Top 10 Users by Weekly Spending')\n",
    "axes[0].set_xlabel('from_totally_fake_account')\n",
    "axes[0].set_ylabel('monopoly_money_amount')\n",
    "\n",
    "# Plot for monthly spending\n",
    "m_top_10_users.plot(kind='bar', y='Total', ax=axes[1], color=colors)\n",
    "axes[1].set_title('Top 10 Users by Monthly Spending')\n",
    "axes[1].set_xlabel('from_totally_fake_account')\n",
    "axes[1].set_ylabel('monopoly_money_amount')\n",
    "\n",
    "# Plot for yearly spending\n",
    "y_top_10_users.plot(kind='bar', y='Total', ax=axes[2], color=colors)\n",
    "axes[2].set_title('Top 10 Users by Yearly Spending')\n",
    "axes[2].set_xlabel('from_totally_fake_account')\n",
    "axes[2].set_ylabel('monopoly_money_amount')\n",
    "\n",
    "# Adjust layout\n",
    "plt.tight_layout()\n",
    "\n",
    "# Show plot\n",
    "plt.show()"
   ]
  },
  {
   "cell_type": "code",
   "execution_count": null,
   "id": "ae599df5",
   "metadata": {},
   "outputs": [],
   "source": []
  },
  {
   "cell_type": "code",
   "execution_count": null,
   "id": "2140a140",
   "metadata": {},
   "outputs": [],
   "source": []
  },
  {
   "cell_type": "markdown",
   "id": "f97f0cca",
   "metadata": {},
   "source": [
    "### 5. Combination of Segmentation Criteria (To get targets)"
   ]
  },
  {
   "cell_type": "code",
   "execution_count": null,
   "id": "99a1dbe9",
   "metadata": {},
   "outputs": [],
   "source": [
    "combined_targets = set(w_top_10_users.index) & set(m_top_10_users.index)\n",
    "\n",
    "# Now you have a set of users who are top spenders both weekly and monthly\n",
    "print(\"Combined Targets:\")\n",
    "print(combined_targets)"
   ]
  },
  {
   "cell_type": "code",
   "execution_count": null,
   "id": "06b66489",
   "metadata": {},
   "outputs": [],
   "source": [
    "\n",
    "# Simulate spending data for each user\n",
    "combined_targets_spending = {}\n",
    "weeks = 20  # Assuming 20 weeks of spending data\n",
    "\n",
    "for user_id in combined_targets:\n",
    "    # Generate random spending values for each week\n",
    "    spending_history = [random.randint(50, 500) for _ in range(weeks)]\n",
    "    combined_targets_spending[user_id] = spending_history\n",
    "\n",
    "# Plotting\n",
    "plt.figure(figsize=(10,4))\n",
    "\n",
    "for user_id, spending_history in combined_targets_spending.items():\n",
    "    plt.plot(range(1, weeks + 1), spending_history, label=f'User {user_id}')\n",
    "\n",
    "plt.title('Spending History of Combined Targets')\n",
    "plt.xlabel('Week')\n",
    "plt.ylabel('Spending')\n",
    "plt.legend()\n",
    "plt.grid(True)\n",
    "plt.show()"
   ]
  },
  {
   "cell_type": "code",
   "execution_count": null,
   "id": "270e8a29",
   "metadata": {},
   "outputs": [],
   "source": []
  },
  {
   "cell_type": "code",
   "execution_count": null,
   "id": "502e79d0",
   "metadata": {},
   "outputs": [],
   "source": []
  }
 ],
 "metadata": {
  "kernelspec": {
   "display_name": "Python 3 (ipykernel)",
   "language": "python",
   "name": "python3"
  },
  "language_info": {
   "codemirror_mode": {
    "name": "ipython",
    "version": 3
   },
   "file_extension": ".py",
   "mimetype": "text/x-python",
   "name": "python",
   "nbconvert_exporter": "python",
   "pygments_lexer": "ipython3",
   "version": "3.11.5"
  }
 },
 "nbformat": 4,
 "nbformat_minor": 5
}
